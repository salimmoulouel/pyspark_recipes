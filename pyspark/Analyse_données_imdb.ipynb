{
  "nbformat": 4,
  "nbformat_minor": 0,
  "metadata": {
    "kernelspec": {
      "display_name": "Python 3",
      "language": "python",
      "name": "python3"
    },
    "language_info": {
      "codemirror_mode": {
        "name": "ipython",
        "version": 3
      },
      "file_extension": ".py",
      "mimetype": "text/x-python",
      "name": "python",
      "nbconvert_exporter": "python",
      "pygments_lexer": "ipython3",
      "version": "3.7.3"
    },
    "colab": {
      "name": "Analyse_données_imdb.ipynb",
      "provenance": [],
      "collapsed_sections": [],
      "toc_visible": true,
      "include_colab_link": true
    }
  },
  "cells": [
    {
      "cell_type": "markdown",
      "metadata": {
        "id": "view-in-github",
        "colab_type": "text"
      },
      "source": [
        "<a href=\"https://colab.research.google.com/github/salimmoulouel/pyspark_recipes/blob/main/pyspark/Analyse_donn%C3%A9es_imdb.ipynb\" target=\"_parent\"><img src=\"https://colab.research.google.com/assets/colab-badge.svg\" alt=\"Open In Colab\"/></a>"
      ]
    },
    {
      "cell_type": "markdown",
      "metadata": {
        "id": "_jwpNz1D-yhY"
      },
      "source": [
        "# BDLE TP1 avec colab"
      ]
    },
    {
      "cell_type": "markdown",
      "metadata": {
        "id": "fKJWWE56_nxJ"
      },
      "source": [
        "## Initialisation"
      ]
    },
    {
      "cell_type": "code",
      "metadata": {
        "id": "eo2cUzX5Ik20"
      },
      "source": [
        "#from google.colab import drive\n",
        "#drive.mount('/content/gdrive')"
      ],
      "execution_count": null,
      "outputs": []
    },
    {
      "cell_type": "code",
      "metadata": {
        "id": "R4uCc9p9_p3Y",
        "colab": {
          "base_uri": "https://localhost:8080/",
          "height": 102
        },
        "outputId": "02fe0cc8-4878-422e-ecee-570c21ded3ed"
      },
      "source": [
        "import os\n",
        "\n",
        "# choisir un mode d'execution: colaboratory ou local ou ppti\n",
        "\n",
        "# IL FAUT LANCER JUPYTER NOTEBOOK EN LOCAL ET CHOISIR ENVIRONNEMENT HEBERGE EN HAUT A DROITE\n",
        "EXECUTION='colaboratory'\n",
        "\n",
        "\n",
        "# IL FAUT LANCER JUPYTER NOTEBOOK EN LOCAL ET CHOISIR ENVIRONNEMENT LOCAL EN HAUT A DROITE\n",
        "# \n",
        "# Assurez-vous que l'extension jupyter_http_over_ws Jupyter est activée et à jour sur votre machine.\n",
        "# pip install --upgrade jupyter_http_over_ws>=0.0.1a3 && jupyter serv e port 8888 et qu'il accepte les requêtes du site https://colab.research.google.com.\n",
        "# jupyter notebook   --NotebookApp.allow_origin='https://colab.research.google.com'   --port=8888   --NotebookApp.port_retries=0\n",
        "# voir aussi https://research.google.com/colaboratory/local-runtimes.html\n",
        "# \n",
        "#EXECUTION='local'\n",
        "\n",
        "# EXECUTION EN SALLE PPTI\n",
        "#EXECUTION='ppti'\n",
        "\n",
        "print('EXECUTION', EXECUTION)\n",
        "\n",
        "SPARK_VERSION=\"2.4.4\"\n",
        "\n",
        "if EXECUTION == 'colaboratory':\n",
        "  HOME=\"/content\"\n",
        "  DATASET_DIR=\"/content\"\n",
        "  os.environ[\"JAVA_HOME\"] = \"/usr/lib/jvm/java-8-openjdk-amd64\"\n",
        "  #os.environ[\"SPARK_HOME\"] = f\"{HOME}/spark-{SPARK_VERSION}-bin-hadoop2.7\"\n",
        "  os.environ[\"SPARK_HOME\"] = \"{}/spark-{}-bin-hadoop2.7\".format(HOME, SPARK_VERSION)\n",
        "\n",
        "elif EXECUTION == 'local':\n",
        "  HOME=os.environ[\"HOME\"]\n",
        "  DATASET_DIR=\"{}/dataset\".format(HOME)\n",
        "  os.environ[\"JAVA_HOME\"] = \"/usr/lib/jvm/java-8-openjdk-amd64\"\n",
        "  #os.environ[\"SPARK_HOME\"] = f\"{HOME}/anaconda3/bin/spark-{SPARK_VERSION}-bin-hadoop2.7\"\n",
        "  os.environ[\"SPARK_HOME\"] = \"{}/anaconda3/bin/spark-{}-bin-hadoop2.7\".format(HOME, SPARK_VERSION)\n",
        "\n",
        "elif EXECUTION == 'ppti':\n",
        "  HOME=os.environ[\"HOME\"]\n",
        "  DATASET_DIR=\"/Infos/bd/spark/dataset\"\n",
        "  os.environ[\"JAVA_HOME\"] = \"/usr/lib/jvm/java-8-openjdk-amd64\"\n",
        "  os.environ[\"SPARK_HOME\"] = \"/usr/local/spark-{}-bin-hadoop2.7\".format(SPARK_VERSION)\n",
        "else:\n",
        "    print(\"Valeur incorrecte pour la variable EXECUTION:\", EXECUTION)\n",
        "\n",
        "\n",
        "print('JAVA_HOME:', os.environ[\"JAVA_HOME\"] )\n",
        "print('SPARK_HOME:', os.environ[\"SPARK_HOME\"])\n",
        "print('DATASET_DIR:', DATASET_DIR)\n",
        "print('HOME:', HOME)"
      ],
      "execution_count": null,
      "outputs": [
        {
          "output_type": "stream",
          "text": [
            "EXECUTION colaboratory\n",
            "JAVA_HOME: /usr/lib/jvm/java-8-openjdk-amd64\n",
            "SPARK_HOME: /content/spark-2.4.4-bin-hadoop2.7\n",
            "DATASET_DIR: /content\n",
            "HOME: /content\n"
          ],
          "name": "stdout"
        }
      ]
    },
    {
      "cell_type": "markdown",
      "metadata": {
        "id": "-fCYt4aw4N3W"
      },
      "source": [
        "## Téléchargements (effectuer une fois si nécessaire / ne pas effectuer en salle PPTI)\n",
        "\n",
        "---\n",
        "\n"
      ]
    },
    {
      "cell_type": "markdown",
      "metadata": {
        "id": "lGnhq33i30KW"
      },
      "source": [
        "### Télécharger Spark"
      ]
    },
    {
      "cell_type": "code",
      "metadata": {
        "id": "fHPKVUL73yKH",
        "colab": {
          "base_uri": "https://localhost:8080/",
          "height": 408
        },
        "outputId": "79da585c-cb6e-40cf-f086-7b0d430a5c37"
      },
      "source": [
        "if EXECUTION == 'colaboratory':\n",
        "  CLOSER_LOCATION = \"https://www.apache.org/dyn/closer.lua/spark/spark-{}/spark-{}-bin-hadoop2.7.tgz\".format(SPARK_VERSION, SPARK_VERSION)\n",
        "  # !wget http://mirror.ibcp.fr/pub/apache/spark/spark-{SPARK_VERSION}/spark-{SPARK_VERSION}-bin-hadoop2.7.tgz\n",
        "  !wget {CLOSER_LOCATION} -O suggest.html\n",
        "  !wget `grep \"suggest the following mirror\" -A2 suggest.html |grep -Po 'href=\"\\K[^\"]*'` -O spark-{SPARK_VERSION}-bin-hadoop2.7.tgz\n",
        "  !tar xzf spark-{SPARK_VERSION}-bin-hadoop2.7.tgz\n",
        "  !rm spark-{SPARK_VERSION}-bin-hadoop2.7.tgz\n",
        "  !rm suggest.html\n",
        "  !echo \"spark installé dans spark-{SPARK_VERSION}-bin-hadoop2.7\"\n",
        "else:\n",
        "  print(\"on ne telecharge pas spark\")\n",
        "\n",
        "# Rmq: une autre méthode possible pour télécharger spark: est :  !pip install pyspark"
      ],
      "execution_count": null,
      "outputs": [
        {
          "output_type": "stream",
          "text": [
            "--2019-10-10 12:24:54--  https://www.apache.org/dyn/closer.lua/spark/spark-2.4.4/spark-2.4.4-bin-hadoop2.7.tgz\n",
            "Resolving www.apache.org (www.apache.org)... 40.79.78.1, 95.216.24.32, 2a01:4f9:2a:185f::2\n",
            "Connecting to www.apache.org (www.apache.org)|40.79.78.1|:443... connected.\n",
            "HTTP request sent, awaiting response... 200 OK\n",
            "Length: unspecified [text/html]\n",
            "Saving to: ‘suggest.html’\n",
            "\n",
            "\rsuggest.html            [<=>                 ]       0  --.-KB/s               \rsuggest.html            [ <=>                ]  29.13K  --.-KB/s    in 0.09s   \n",
            "\n",
            "2019-10-10 12:24:54 (329 KB/s) - ‘suggest.html’ saved [29826]\n",
            "\n",
            "--2019-10-10 12:24:56--  https://www-us.apache.org/dist/spark/spark-2.4.4/spark-2.4.4-bin-hadoop2.7.tgz\n",
            "Resolving www-us.apache.org (www-us.apache.org)... 40.79.78.1\n",
            "Connecting to www-us.apache.org (www-us.apache.org)|40.79.78.1|:443... connected.\n",
            "HTTP request sent, awaiting response... 200 OK\n",
            "Length: 230091034 (219M) [application/x-gzip]\n",
            "Saving to: ‘spark-2.4.4-bin-hadoop2.7.tgz’\n",
            "\n",
            "spark-2.4.4-bin-had 100%[===================>] 219.43M  31.3MB/s    in 7.6s    \n",
            "\n",
            "2019-10-10 12:25:04 (28.8 MB/s) - ‘spark-2.4.4-bin-hadoop2.7.tgz’ saved [230091034/230091034]\n",
            "\n",
            "spark installé dans spark-2.4.4-bin-hadoop2.7\n"
          ],
          "name": "stdout"
        }
      ]
    },
    {
      "cell_type": "markdown",
      "metadata": {
        "id": "6c8lj2dj38Iu"
      },
      "source": [
        "### Télécharger findspark"
      ]
    },
    {
      "cell_type": "code",
      "metadata": {
        "id": "VfohAIQv1UFK",
        "colab": {
          "base_uri": "https://localhost:8080/",
          "height": 85
        },
        "outputId": "13cb7540-70cb-43c6-b677-9634e8f45ef2"
      },
      "source": [
        "if EXECUTION == 'ppti' :\n",
        "  !ls -l /Infos/bd/spark/python/findspark.py\n",
        "else :\n",
        "  !pip install findspark"
      ],
      "execution_count": null,
      "outputs": [
        {
          "output_type": "stream",
          "text": [
            "Collecting findspark\n",
            "  Downloading https://files.pythonhosted.org/packages/b1/c8/e6e1f6a303ae5122dc28d131b5a67c5eb87cbf8f7ac5b9f87764ea1b1e1e/findspark-1.3.0-py2.py3-none-any.whl\n",
            "Installing collected packages: findspark\n",
            "Successfully installed findspark-1.3.0\n"
          ],
          "name": "stdout"
        }
      ]
    },
    {
      "cell_type": "markdown",
      "metadata": {
        "id": "THe8u_Ho4w2z"
      },
      "source": [
        "### Télécharger demarrer_spark.py"
      ]
    },
    {
      "cell_type": "code",
      "metadata": {
        "id": "K_wTd3VO4zzA",
        "colab": {
          "base_uri": "https://localhost:8080/",
          "height": 204
        },
        "outputId": "2563c89f-2925-4d80-b45b-b58c8c86d0a4"
      },
      "source": [
        "# URL du dossier PUBLIC_DATASET contenant des fichiers\n",
        "PUBLIC_DATASET=\"https://nuage.lip6.fr/s/PQM3RgR4FRnMPQ9/download?path=\"\n",
        "# PUBLIC_DATASET=\"https://newcloud.desir.lip6.fr/s/PQM3RgR4FRnMPQ9/download?path=\"\n",
        "\n",
        "if EXECUTION == 'ppti' :\n",
        "  !ls -l /Infos/bd/spark/python/demarrer_spark.py\n",
        "else :\n",
        "  !wget {PUBLIC_DATASET}/python/demarrer_spark.py -O demarrer_spark.py"
      ],
      "execution_count": null,
      "outputs": [
        {
          "output_type": "stream",
          "text": [
            "--2019-10-10 12:25:37--  https://nuage.lip6.fr/s/PQM3RgR4FRnMPQ9/download?path=/python/demarrer_spark.py\n",
            "Resolving nuage.lip6.fr (nuage.lip6.fr)... 132.227.201.11\n",
            "Connecting to nuage.lip6.fr (nuage.lip6.fr)|132.227.201.11|:443... connected.\n",
            "HTTP request sent, awaiting response... 200 OK\n",
            "Length: 1624 (1.6K) [text/x-python]\n",
            "Saving to: ‘demarrer_spark.py’\n",
            "\n",
            "demarrer_spark.py   100%[===================>]   1.59K  --.-KB/s    in 0.002s  \n",
            "\n",
            "2019-10-10 12:25:38 (997 KB/s) - ‘demarrer_spark.py’ saved [1624/1624]\n",
            "\n"
          ],
          "name": "stdout"
        }
      ]
    },
    {
      "cell_type": "markdown",
      "metadata": {
        "id": "Xy2SS4Y05LlR"
      },
      "source": [
        "### Télécharger les datasets IMDB"
      ]
    },
    {
      "cell_type": "code",
      "metadata": {
        "id": "KDq0NIVx1vRJ",
        "colab": {
          "base_uri": "https://localhost:8080/",
          "height": 221
        },
        "outputId": "65c14cf3-ca5a-45df-949f-8896e3782aa1"
      },
      "source": [
        "if EXECUTION == 'ppti' :\n",
        "  !ls -ld {DATASET_DIR}/imdb/vldb2015\n",
        "  \n",
        "else :\n",
        "  !mkdir -p {DATASET_DIR}/imdb/vldb2015\n",
        "\n",
        "  # les donnees entières (1.18GO)\n",
        "  #!wget {PUBLIC_DATASET}/imdb/vldb2015/csvfiles.tgz -O imdb/vldb2015/csvfiles.tgz\n",
        "  #!cd imdb/vldb2015 && tar zxf csvfiles.tgz && rm csvfiles.tgz\n",
        "  #dir = 'imdb//vldb2015/csvfiles/'\n",
        "\n",
        "  ## Effacer dataset complet\n",
        "  #!cd \n",
        "  #!ls imdb\n",
        "  #!rm -rf imdb/csvfiles\n",
        "\n",
        "  # un sample basé sur 1% des films\n",
        "  !wget {PUBLIC_DATASET}/imdb/vldb2015/csvfiles_sample001.tgz -O {DATASET_DIR}/imdb/vldb2015/csvfiles_sample001.tgz\n",
        "  !cd {DATASET_DIR}/imdb/vldb2015 && tar zxf csvfiles_sample001.tgz && rm csvfiles_sample001.tgz\n",
        "  print(\"dataset téléchargé\")"
      ],
      "execution_count": null,
      "outputs": [
        {
          "output_type": "stream",
          "text": [
            "--2019-10-10 12:25:46--  https://nuage.lip6.fr/s/PQM3RgR4FRnMPQ9/download?path=/imdb/vldb2015/csvfiles_sample001.tgz\n",
            "Resolving nuage.lip6.fr (nuage.lip6.fr)... 132.227.201.11\n",
            "Connecting to nuage.lip6.fr (nuage.lip6.fr)|132.227.201.11|:443... connected.\n",
            "HTTP request sent, awaiting response... 200 OK\n",
            "Length: 73571656 (70M) [application/x-compressed]\n",
            "Saving to: ‘/content/imdb/vldb2015/csvfiles_sample001.tgz’\n",
            "\n",
            "/content/imdb/vldb2 100%[===================>]  70.16M  43.5MB/s    in 1.6s    \n",
            "\n",
            "2019-10-10 12:25:48 (43.5 MB/s) - ‘/content/imdb/vldb2015/csvfiles_sample001.tgz’ saved [73571656/73571656]\n",
            "\n",
            "dataset téléchargé\n"
          ],
          "name": "stdout"
        }
      ]
    },
    {
      "cell_type": "markdown",
      "metadata": {
        "id": "YTuBkS5z8Qaq"
      },
      "source": [
        "### Télécharger la définition des tables imdb"
      ]
    },
    {
      "cell_type": "code",
      "metadata": {
        "id": "i4_PtZSK8VZv",
        "colab": {
          "base_uri": "https://localhost:8080/",
          "height": 204
        },
        "outputId": "18663178-3ea1-4216-d1ca-71f77226b69e"
      },
      "source": [
        "if EXECUTION == 'ppti':\n",
        "  !cp {DATASET_DIR}/imdb/vldb2015/tables_imdb.py tables_imdb.py\n",
        "else:\n",
        "  !wget {PUBLIC_DATASET}/imdb/vldb2015/tables_imdb.py -O tables_imdb.py"
      ],
      "execution_count": null,
      "outputs": [
        {
          "output_type": "stream",
          "text": [
            "--2019-10-10 12:25:56--  https://nuage.lip6.fr/s/PQM3RgR4FRnMPQ9/download?path=/imdb/vldb2015/tables_imdb.py\n",
            "Resolving nuage.lip6.fr (nuage.lip6.fr)... 132.227.201.11\n",
            "Connecting to nuage.lip6.fr (nuage.lip6.fr)|132.227.201.11|:443... connected.\n",
            "HTTP request sent, awaiting response... 200 OK\n",
            "Length: 4706 (4.6K) [text/x-python]\n",
            "Saving to: ‘tables_imdb.py’\n",
            "\n",
            "\rtables_imdb.py        0%[                    ]       0  --.-KB/s               \rtables_imdb.py      100%[===================>]   4.60K  --.-KB/s    in 0.002s  \n",
            "\n",
            "2019-10-10 12:25:56 (1.89 MB/s) - ‘tables_imdb.py’ saved [4706/4706]\n",
            "\n"
          ],
          "name": "stdout"
        }
      ]
    },
    {
      "cell_type": "markdown",
      "metadata": {
        "id": "b48RFAkz0fIK"
      },
      "source": [
        "## Démarrer la session SPARK"
      ]
    },
    {
      "cell_type": "code",
      "metadata": {
        "id": "UGN1-AH40fIM",
        "colab": {
          "base_uri": "https://localhost:8080/",
          "height": 238
        },
        "outputId": "0df733b4-e413-4585-b3ae-d95e8c64e72b"
      },
      "source": [
        "from demarrer_spark import demarrer_spark\n",
        "\n",
        "spark = demarrer_spark()"
      ],
      "execution_count": null,
      "outputs": [
        {
          "output_type": "stream",
          "text": [
            "les dossiers contenant les packages\n",
            "\n",
            "/env/python\n",
            "/usr/lib/python36.zip\n",
            "/usr/lib/python3.6\n",
            "/usr/lib/python3.6/lib-dynload\n",
            "/usr/local/lib/python3.6/dist-packages\n",
            "/usr/lib/python3/dist-packages\n",
            "/usr/local/lib/python3.6/dist-packages/IPython/extensions\n",
            "/root/.ipython\n",
            "findspark.init() initialise les variables d'environnement pour spark\n",
            "import fait\n",
            "session démarrée, son id est  local-1570710364406\n"
          ],
          "name": "stdout"
        }
      ]
    },
    {
      "cell_type": "markdown",
      "metadata": {
        "id": "Qn9y6Qmd0fIS"
      },
      "source": [
        "### Définir l'accès aux fichiers de données"
      ]
    },
    {
      "cell_type": "code",
      "metadata": {
        "id": "ZvjUlX4y05zt",
        "colab": {
          "base_uri": "https://localhost:8080/",
          "height": 34
        },
        "outputId": "275fc4ff-d011-4b8a-fc2f-180e2137c26c"
      },
      "source": [
        "from tables_imdb import lire_tables\n",
        "dir = \"{}/imdb/vldb2015/csvfiles_sample001/\".format(DATASET_DIR)\n",
        "\n",
        "title, kind_type, movie_info, info_type, cast_info, role_type, name,  \\\n",
        "person_info, movie_companies, company_name,company_type \\\n",
        "= lire_tables(spark, dir)\n",
        "\n",
        "print(\"tables définies\")"
      ],
      "execution_count": null,
      "outputs": [
        {
          "output_type": "stream",
          "text": [
            "tables définies\n"
          ],
          "name": "stdout"
        }
      ]
    },
    {
      "cell_type": "code",
      "metadata": {
        "id": "6RX5z18g0fIV",
        "colab": {
          "base_uri": "https://localhost:8080/",
          "height": 34
        },
        "outputId": "bf235791-96c4-4776-bc2c-41624eeceb42"
      },
      "source": [
        "title.count()"
      ],
      "execution_count": null,
      "outputs": [
        {
          "output_type": "execute_result",
          "data": {
            "text/plain": [
              "25084"
            ]
          },
          "metadata": {
            "tags": []
          },
          "execution_count": 14
        }
      ]
    },
    {
      "cell_type": "markdown",
      "metadata": {
        "id": "QryhkricVNzd"
      },
      "source": [
        "## Exemples de requêtes"
      ]
    },
    {
      "cell_type": "markdown",
      "metadata": {
        "id": "PF9Uc7sB0fIW"
      },
      "source": [
        "### Les films"
      ]
    },
    {
      "cell_type": "code",
      "metadata": {
        "id": "tkZmO03-0fIX",
        "colab": {
          "base_uri": "https://localhost:8080/",
          "height": 187
        },
        "outputId": "8a12ceba-4cb1-4eb6-8134-4efb5a274c52"
      },
      "source": [
        "title.describe(\"kind_id\", \"production_year\").show()"
      ],
      "execution_count": null,
      "outputs": [
        {
          "output_type": "stream",
          "text": [
            "+-------+-----------------+------------------+\n",
            "|summary|          kind_id|   production_year|\n",
            "+-------+-----------------+------------------+\n",
            "|  count|            25084|             24368|\n",
            "|   mean|4.934659543932387|1992.7387967826658|\n",
            "| stddev|2.680072651781981|24.353626579442597|\n",
            "|    min|                1|              1895|\n",
            "|    max|                7|              2016|\n",
            "+-------+-----------------+------------------+\n",
            "\n"
          ],
          "name": "stdout"
        }
      ]
    },
    {
      "cell_type": "code",
      "metadata": {
        "id": "mi4Iu5fqQr2A"
      },
      "source": [
        "regarder location à travers les année combien de films ont été fait "
      ],
      "execution_count": null,
      "outputs": []
    },
    {
      "cell_type": "markdown",
      "metadata": {
        "id": "3umGer_Y0fIZ"
      },
      "source": [
        "#### Nombre de films"
      ]
    },
    {
      "cell_type": "code",
      "metadata": {
        "id": "2LRRLbvI0fIZ",
        "colab": {
          "base_uri": "https://localhost:8080/",
          "height": 119
        },
        "outputId": "aba1a730-701e-4086-8eb3-f2f55e358006"
      },
      "source": [
        "spark.sql(\"SELECT count(*) FROM Title\").show()"
      ],
      "execution_count": null,
      "outputs": [
        {
          "output_type": "stream",
          "text": [
            "+--------+\n",
            "|count(1)|\n",
            "+--------+\n",
            "|   25084|\n",
            "+--------+\n",
            "\n"
          ],
          "name": "stdout"
        }
      ]
    },
    {
      "cell_type": "code",
      "metadata": {
        "id": "t0h4UoobQ904",
        "colab": {
          "base_uri": "https://localhost:8080/",
          "height": 34
        },
        "outputId": "0542f41d-56d1-4b2a-8d2e-cbbb638fd967"
      },
      "source": [
        "spark.sql(\"SELECT distinct title FROM Title \").count()"
      ],
      "execution_count": null,
      "outputs": [
        {
          "output_type": "execute_result",
          "data": {
            "text/plain": [
              "22106"
            ]
          },
          "metadata": {
            "tags": []
          },
          "execution_count": 12
        }
      ]
    },
    {
      "cell_type": "markdown",
      "metadata": {
        "id": "Kkroo9Pne1Ag"
      },
      "source": [
        "#### Les types de films"
      ]
    },
    {
      "cell_type": "code",
      "metadata": {
        "id": "NkXoukeT0fIb",
        "colab": {
          "base_uri": "https://localhost:8080/",
          "height": 204
        },
        "outputId": "4cc2adcb-7ae1-4fa8-843b-abaa28e742e7"
      },
      "source": [
        "r = spark.sql(\"\"\"\n",
        "SELECT distinct kind_id \n",
        "FROM Title \n",
        "order by kind_id\n",
        "\"\"\")\n",
        "\n",
        "r.show()"
      ],
      "execution_count": null,
      "outputs": [
        {
          "output_type": "stream",
          "text": [
            "+-------+\n",
            "|kind_id|\n",
            "+-------+\n",
            "|      1|\n",
            "|      2|\n",
            "|      3|\n",
            "|      4|\n",
            "|      6|\n",
            "|      7|\n",
            "+-------+\n",
            "\n"
          ],
          "name": "stdout"
        }
      ]
    },
    {
      "cell_type": "markdown",
      "metadata": {
        "id": "lZQrfo8se7e3"
      },
      "source": [
        "#### Nombre de films par type de film"
      ]
    },
    {
      "cell_type": "code",
      "metadata": {
        "id": "7PO85qKU0fId",
        "colab": {
          "base_uri": "https://localhost:8080/",
          "height": 204
        },
        "outputId": "9f80cfd1-8295-4d39-dbcf-6fab671486a6"
      },
      "source": [
        "r = spark.sql(\"\"\"\n",
        "SELECT kind_id, count(*) as nb \n",
        "FROM Title \n",
        "group by kind_id \n",
        "order by nb desc\n",
        "\"\"\")\n",
        "r.show()"
      ],
      "execution_count": null,
      "outputs": [
        {
          "output_type": "stream",
          "text": [
            "+-------+-----+\n",
            "|kind_id|   nb|\n",
            "+-------+-----+\n",
            "|      7|15274|\n",
            "|      1| 6602|\n",
            "|      4| 1175|\n",
            "|      3|  979|\n",
            "|      2|  925|\n",
            "|      6|  129|\n",
            "+-------+-----+\n",
            "\n"
          ],
          "name": "stdout"
        }
      ]
    },
    {
      "cell_type": "markdown",
      "metadata": {
        "id": "12J8FZWb0fIf"
      },
      "source": [
        "#### Nombre de film par années"
      ]
    },
    {
      "cell_type": "code",
      "metadata": {
        "id": "uloUHFAj0fIg",
        "colab": {
          "base_uri": "https://localhost:8080/",
          "height": 204
        },
        "outputId": "40449a59-6c61-4012-b965-5b1237a65cf0"
      },
      "source": [
        "r = spark.sql(\"\"\"\n",
        "select production_year, count(*) as nb\n",
        "from Title\n",
        "where production_year is not null\n",
        "group by production_year\n",
        "order by nb desc\n",
        "\"\"\")\n",
        "\n",
        "r.show(5)"
      ],
      "execution_count": null,
      "outputs": [
        {
          "output_type": "stream",
          "text": [
            "+---------------+----+\n",
            "|production_year|  nb|\n",
            "+---------------+----+\n",
            "|           2012|1605|\n",
            "|           2011|1517|\n",
            "|           2010|1467|\n",
            "|           2009|1301|\n",
            "|           2008|1192|\n",
            "+---------------+----+\n",
            "only showing top 5 rows\n",
            "\n"
          ],
          "name": "stdout"
        }
      ]
    },
    {
      "cell_type": "markdown",
      "metadata": {
        "id": "8OQm--1C0fIi"
      },
      "source": [
        "#### La distribution du nombre de films est biaisée"
      ]
    },
    {
      "cell_type": "code",
      "metadata": {
        "id": "hrZuXv1S0fIi",
        "colab": {
          "base_uri": "https://localhost:8080/",
          "height": 187
        },
        "outputId": "be41419a-e18c-465f-fe54-3d7bbaa1b097"
      },
      "source": [
        "desc = r.describe('nb')\n",
        "desc.show()"
      ],
      "execution_count": null,
      "outputs": [
        {
          "output_type": "stream",
          "text": [
            "+-------+------------------+\n",
            "|summary|                nb|\n",
            "+-------+------------------+\n",
            "|  count|               122|\n",
            "|   mean| 199.7377049180328|\n",
            "| stddev|331.00849663956006|\n",
            "|    min|                 1|\n",
            "|    max|              1605|\n",
            "+-------+------------------+\n",
            "\n"
          ],
          "name": "stdout"
        }
      ]
    },
    {
      "cell_type": "markdown",
      "metadata": {
        "id": "RlL9RyXD0fIk"
      },
      "source": [
        "#### Visualiser le nombre de films par années"
      ]
    },
    {
      "cell_type": "markdown",
      "metadata": {
        "id": "HFMW6Rb0ks6Y"
      },
      "source": [
        "[Documentation MatplotLib](https://matplotlib.org/3.1.1/api/_as_gen/matplotlib.pyplot.html#module-matplotlib.pyplot)"
      ]
    },
    {
      "cell_type": "code",
      "metadata": {
        "scrolled": true,
        "id": "Ubj--M3z0fIl",
        "colab": {
          "base_uri": "https://localhost:8080/",
          "height": 295
        },
        "outputId": "d315530e-c1e2-4d14-bf00-8e970e7a62a1"
      },
      "source": [
        "import matplotlib.pyplot as plt\n",
        "\n",
        "t = r.collect()\n",
        "\n",
        "tabYear = [x.production_year for x in t]\n",
        "\n",
        "tabNb = [x.nb for x in t]\n",
        "\n",
        "# plt.plot(tabYear, tabNb)\n",
        "plt.bar(tabYear, tabNb)\n",
        "plt.xlabel('year')\n",
        "plt.ylabel('nb films')\n",
        "plt.title('films per year')\n",
        "plt.show()"
      ],
      "execution_count": null,
      "outputs": [
        {
          "output_type": "display_data",
          "data": {
            "image/png": "[encoded data removed]",
            "text/plain": [
              "<Figure size 432x288 with 1 Axes>"
            ]
          },
          "metadata": {
            "tags": []
          }
        }
      ]
    },
    {
      "cell_type": "markdown",
      "metadata": {
        "id": "_MyWtzdd0fIm"
      },
      "source": [
        "### Les types de films : fichier kind_type"
      ]
    },
    {
      "cell_type": "code",
      "metadata": {
        "id": "t4RdHz7o0fIn",
        "colab": {
          "base_uri": "https://localhost:8080/",
          "height": 85
        },
        "outputId": "be2ce746-2542-4e62-905a-2accc557e0d4"
      },
      "source": [
        "kind_type.printSchema()\n"
      ],
      "execution_count": null,
      "outputs": [
        {
          "output_type": "stream",
          "text": [
            "root\n",
            " |-- id: integer (nullable = true)\n",
            " |-- kind: string (nullable = true)\n",
            "\n"
          ],
          "name": "stdout"
        }
      ]
    },
    {
      "cell_type": "code",
      "metadata": {
        "id": "hZzQ0TYHA9LI",
        "colab": {
          "base_uri": "https://localhost:8080/",
          "height": 425
        },
        "outputId": "4cd9e3fd-00c5-4558-cdd9-e6d7fdaf30a3"
      },
      "source": [
        "spark.sql(\"SELECT * FROM Kind_type\").show()\n",
        "kind_type.show()"
      ],
      "execution_count": null,
      "outputs": [
        {
          "output_type": "stream",
          "text": [
            "+---+--------------+\n",
            "| id|          kind|\n",
            "+---+--------------+\n",
            "|  1|         movie|\n",
            "|  2|     tv series|\n",
            "|  3|      tv movie|\n",
            "|  4|   video movie|\n",
            "|  5|tv mini series|\n",
            "|  6|    video game|\n",
            "|  7|       episode|\n",
            "+---+--------------+\n",
            "\n",
            "+---+--------------+\n",
            "| id|          kind|\n",
            "+---+--------------+\n",
            "|  1|         movie|\n",
            "|  2|     tv series|\n",
            "|  3|      tv movie|\n",
            "|  4|   video movie|\n",
            "|  5|tv mini series|\n",
            "|  6|    video game|\n",
            "|  7|       episode|\n",
            "+---+--------------+\n",
            "\n"
          ],
          "name": "stdout"
        }
      ]
    },
    {
      "cell_type": "markdown",
      "metadata": {
        "id": "WPt1vX1xVxrX"
      },
      "source": [
        "#### Jointure entre Title et Kind_Type"
      ]
    },
    {
      "cell_type": "code",
      "metadata": {
        "id": "zMvtvFV-f2dd",
        "colab": {
          "base_uri": "https://localhost:8080/",
          "height": 255
        },
        "outputId": "b3e1e220-78ae-444c-e423-211bc2a61c4e"
      },
      "source": [
        "title.printSchema()"
      ],
      "execution_count": null,
      "outputs": [
        {
          "output_type": "stream",
          "text": [
            "root\n",
            " |-- id: integer (nullable = true)\n",
            " |-- title: string (nullable = true)\n",
            " |-- imdb_index: string (nullable = true)\n",
            " |-- kind_id: integer (nullable = true)\n",
            " |-- production_year: integer (nullable = true)\n",
            " |-- imdb_id: integer (nullable = true)\n",
            " |-- phonetic_code: string (nullable = true)\n",
            " |-- episode_id: string (nullable = true)\n",
            " |-- season_nr: integer (nullable = true)\n",
            " |-- episode_nr: integer (nullable = true)\n",
            " |-- series_years: string (nullable = true)\n",
            " |-- md5sum: string (nullable = true)\n",
            "\n"
          ],
          "name": "stdout"
        }
      ]
    },
    {
      "cell_type": "code",
      "metadata": {
        "id": "2EKv-l0f0fIq",
        "colab": {
          "base_uri": "https://localhost:8080/",
          "height": 289
        },
        "outputId": "3fd78228-1a96-44eb-e796-bc8bdb964a6c"
      },
      "source": [
        "\n",
        "r= spark.sql(\"\"\"\n",
        "\n",
        "SELECT k.kind, t.title, t.production_year \n",
        "FROM Title t, Kind_Type k \n",
        "WHERE t.kind_id = k.id\n",
        "ORDER BY t.production_year DESC\n",
        "\"\"\")\n",
        "r.show(10, False)"
      ],
      "execution_count": null,
      "outputs": [
        {
          "output_type": "stream",
          "text": [
            "+---------+-----------------------------------------+---------------+\n",
            "|kind     |title                                    |production_year|\n",
            "+---------+-----------------------------------------+---------------+\n",
            "|movie    |Star Trek 3                              |2016           |\n",
            "|movie    |Hundred Degrees in the Shade             |2015           |\n",
            "|movie    |Arclight                                 |2015           |\n",
            "|movie    |The Bonus Army                           |2015           |\n",
            "|movie    |The Smoker                               |2015           |\n",
            "|movie    |3 Solitude                               |2014           |\n",
            "|movie    |Brothers Day                             |2014           |\n",
            "|tv series|Witness Protection: Return of the Prophet|2014           |\n",
            "|movie    |Dead by Dawn                             |2014           |\n",
            "|movie    |Cockroaches                              |2014           |\n",
            "+---------+-----------------------------------------+---------------+\n",
            "only showing top 10 rows\n",
            "\n"
          ],
          "name": "stdout"
        }
      ]
    },
    {
      "cell_type": "markdown",
      "metadata": {
        "id": "diQjEV60iQ6u"
      },
      "source": [
        "#### Nombre de films par type"
      ]
    },
    {
      "cell_type": "code",
      "metadata": {
        "id": "AAiRgS6hgYNb",
        "colab": {
          "base_uri": "https://localhost:8080/",
          "height": 204
        },
        "outputId": "12396880-4740-44a8-9d74-971dea147029"
      },
      "source": [
        "r= spark.sql(\"\"\"\n",
        "\n",
        "SELECT k.kind, count(*) as nb\n",
        "FROM Title t, Kind_Type k \n",
        "WHERE t.kind_id = k.id\n",
        "GROUP BY k.kind\n",
        "ORDER BY count(*) DESC\n",
        "\"\"\")\n",
        "r.show()"
      ],
      "execution_count": null,
      "outputs": [
        {
          "output_type": "stream",
          "text": [
            "+-----------+-----+\n",
            "|       kind|   nb|\n",
            "+-----------+-----+\n",
            "|    episode|15274|\n",
            "|      movie| 6602|\n",
            "|video movie| 1175|\n",
            "|   tv movie|  979|\n",
            "|  tv series|  925|\n",
            "| video game|  129|\n",
            "+-----------+-----+\n",
            "\n"
          ],
          "name": "stdout"
        }
      ]
    },
    {
      "cell_type": "markdown",
      "metadata": {
        "id": "IHFZ49560fIs"
      },
      "source": [
        "### Les roles : fichier cast_info"
      ]
    },
    {
      "cell_type": "markdown",
      "metadata": {
        "id": "VQVxtd5chboS"
      },
      "source": [
        " #### Une personne a un ou plusieurs roles dans un film "
      ]
    },
    {
      "cell_type": "code",
      "metadata": {
        "id": "XrLy7uxM0fIs",
        "colab": {
          "base_uri": "https://localhost:8080/",
          "height": 170
        },
        "outputId": "ff187693-5f26-4868-cb7a-b28b2c3fe929"
      },
      "source": [
        "cast_info.printSchema()"
      ],
      "execution_count": null,
      "outputs": [
        {
          "output_type": "stream",
          "text": [
            "root\n",
            " |-- id: integer (nullable = true)\n",
            " |-- person_id: integer (nullable = true)\n",
            " |-- movie_id: integer (nullable = true)\n",
            " |-- person_role_id: integer (nullable = true)\n",
            " |-- note: string (nullable = true)\n",
            " |-- nr_order: integer (nullable = true)\n",
            " |-- role_id: integer (nullable = true)\n",
            "\n"
          ],
          "name": "stdout"
        }
      ]
    },
    {
      "cell_type": "code",
      "metadata": {
        "id": "ZIK034w0dOmH",
        "colab": {
          "base_uri": "https://localhost:8080/",
          "height": 34
        },
        "outputId": "a3db639f-69d2-48c6-bb9e-79cf00697522"
      },
      "source": [
        "cast_info.count()"
      ],
      "execution_count": null,
      "outputs": [
        {
          "output_type": "execute_result",
          "data": {
            "text/plain": [
              "360035"
            ]
          },
          "metadata": {
            "tags": []
          },
          "execution_count": 25
        }
      ]
    },
    {
      "cell_type": "markdown",
      "metadata": {
        "id": "Gyqb-U9J0fIv"
      },
      "source": [
        "#### Nombre de roles par acteur"
      ]
    },
    {
      "cell_type": "code",
      "metadata": {
        "id": "-wu0xfpZ0fIw",
        "colab": {
          "base_uri": "https://localhost:8080/",
          "height": 204
        },
        "outputId": "354f8ec7-bfee-4cd1-af1a-1a995ebe91c3"
      },
      "source": [
        "res2 = spark.sql(\"\"\"\n",
        "\n",
        "select person_id, count(*) as nb\n",
        "from Cast_Info\n",
        "group by person_id\n",
        "order by nb desc\n",
        "\n",
        "\"\"\")\n",
        "res2.persist()\n",
        "res2.show(5)"
      ],
      "execution_count": null,
      "outputs": [
        {
          "output_type": "stream",
          "text": [
            "+---------+---+\n",
            "|person_id| nb|\n",
            "+---------+---+\n",
            "|   175411|120|\n",
            "|    95397|118|\n",
            "|   515315|108|\n",
            "|  1495180|105|\n",
            "|   677696| 90|\n",
            "+---------+---+\n",
            "only showing top 5 rows\n",
            "\n"
          ],
          "name": "stdout"
        }
      ]
    },
    {
      "cell_type": "code",
      "metadata": {
        "id": "VzubBYSV0fIz",
        "colab": {
          "base_uri": "https://localhost:8080/",
          "height": 187
        },
        "outputId": "9f28caa7-83b7-4852-de32-aee93fce697b"
      },
      "source": [
        "d = res2.describe('nb')\n",
        "d.show()"
      ],
      "execution_count": null,
      "outputs": [
        {
          "output_type": "stream",
          "text": [
            "+-------+------------------+\n",
            "|summary|                nb|\n",
            "+-------+------------------+\n",
            "|  count|            214749|\n",
            "|   mean|1.6765386567574239|\n",
            "| stddev|1.9565121381308785|\n",
            "|    min|                 1|\n",
            "|    max|               120|\n",
            "+-------+------------------+\n",
            "\n"
          ],
          "name": "stdout"
        }
      ]
    },
    {
      "cell_type": "code",
      "metadata": {
        "id": "jVpOB8Ct0fI1",
        "colab": {
          "base_uri": "https://localhost:8080/",
          "height": 549
        },
        "outputId": "54c0b541-237c-4df5-8c9a-ffdd041b8655"
      },
      "source": [
        "#t2 = res2.sample(0.01).collect()\n",
        "t2 = res2.collect()\n",
        "\n",
        "tabNb = [x.nb for x in t2]\n",
        "\n",
        "plt.yscale('log')\n",
        "plt.plot(tabNb) \n",
        "plt.xlabel('actor')\n",
        "plt.ylabel('nb roles')\n",
        "\n",
        "#plt.hist(tabNb)\n",
        "plt.show()\n",
        "\n",
        "plt.yscale('linear')\n",
        "plt.plot(tabNb) \n",
        "plt.xlabel('actor')\n",
        "plt.ylabel('nb roles')\n",
        "\n",
        "plt.show()"
      ],
      "execution_count": null,
      "outputs": [
        {
          "output_type": "display_data",
          "data": {
            "image/png": "[encoded data removed]",
            "text/plain": [
              "<Figure size 432x288 with 1 Axes>"
            ]
          },
          "metadata": {
            "tags": []
          }
        },
        {
          "output_type": "display_data",
          "data": {
            "image/png": "[encoded data removed]",
            "text/plain": [
              "<Figure size 432x288 with 1 Axes>"
            ]
          },
          "metadata": {
            "tags": []
          }
        }
      ]
    },
    {
      "cell_type": "markdown",
      "metadata": {
        "id": "08ewqxfYngxV"
      },
      "source": [
        "#### Le nombre de rôles par type de film"
      ]
    },
    {
      "cell_type": "code",
      "metadata": {
        "id": "54Le4cXgnitT",
        "colab": {
          "base_uri": "https://localhost:8080/",
          "height": 204
        },
        "outputId": "e81cecc3-7120-42f1-cc3c-7c748474ec49"
      },
      "source": [
        "res3 = spark.sql(\"\"\"\n",
        "SELECT g.kind, count(*) as nb_roles\n",
        "FROM Cast_Info c, Title f, Kind_type g\n",
        "WHERE c.movie_id = f.id AND f.kind_id = g.id\n",
        "AND f.production_year > 2010\n",
        "GROUP BY g.kind\n",
        "ORDER BY nb_roles desc\n",
        "\"\"\")\n",
        "res3.show(5)"
      ],
      "execution_count": null,
      "outputs": [
        {
          "output_type": "stream",
          "text": [
            "+-----------+--------+\n",
            "|       kind|nb_roles|\n",
            "+-----------+--------+\n",
            "|    episode|   36527|\n",
            "|      movie|   15897|\n",
            "|   tv movie|    1842|\n",
            "|video movie|    1421|\n",
            "|  tv series|     943|\n",
            "+-----------+--------+\n",
            "only showing top 5 rows\n",
            "\n"
          ],
          "name": "stdout"
        }
      ]
    },
    {
      "cell_type": "code",
      "metadata": {
        "id": "o4fm5_Itebi_",
        "colab": {
          "base_uri": "https://localhost:8080/",
          "height": 283
        },
        "outputId": "62d66815-eda5-458d-fb5f-c1445e90e79b"
      },
      "source": [
        "t3 = res3.collect()\n",
        "\n",
        "tabNb = [x.nb_roles for x in t3]\n",
        "tabKind = [x.kind for x in t3]\n",
        "\n",
        "plt.yscale('log')\n",
        "plt.bar(tabKind,tabNb) \n",
        "plt.xlabel('kind')\n",
        "plt.ylabel('nb roles')\n",
        "\n",
        "#plt.hist(tabNb)\n",
        "\n",
        "plt.show()"
      ],
      "execution_count": null,
      "outputs": [
        {
          "output_type": "display_data",
          "data": {
            "image/png": "[encoded data removed]",
            "text/plain": [
              "<Figure size 432x288 with 1 Axes>"
            ]
          },
          "metadata": {
            "tags": []
          }
        }
      ]
    },
    {
      "cell_type": "code",
      "metadata": {
        "id": "L6a0JDtZFjln"
      },
      "source": [
        ""
      ],
      "execution_count": null,
      "outputs": []
    },
    {
      "cell_type": "markdown",
      "metadata": {
        "id": "AiqmsCkr0fI4"
      },
      "source": [
        "## Autres analyses"
      ]
    },
    {
      "cell_type": "markdown",
      "metadata": {
        "id": "QPX8CM5GVwhU"
      },
      "source": [
        "etude sur les saison a traver le temp"
      ]
    },
    {
      "cell_type": "code",
      "metadata": {
        "id": "vOLxl6tHoSn9"
      },
      "source": [
        "#on recupere pour chaque serie la derniere saison existante et lannee de production de la serie \n",
        "r = spark.sql(\"\"\" \n",
        "SELECT title,max(production_year)as production_year,max(season_nr) as last_saison,max(episode_nr) as last_episode\n",
        "FROM Title \n",
        "where production_year is not null and episode_nr>1\n",
        "group by title\n",
        "\"\"\")\n",
        "#r.show(5,False)\n",
        "r.count()\n",
        "#on remplace la premiere table par celle sans doublon\n",
        "r.createOrReplaceTempView(\"Title_uniques\")"
      ],
      "execution_count": null,
      "outputs": []
    },
    {
      "cell_type": "code",
      "metadata": {
        "id": "kWQddp3yru3e",
        "colab": {
          "base_uri": "https://localhost:8080/",
          "height": 454
        },
        "outputId": "71f66718-1442-48e4-b9c7-e00e303e7e0f"
      },
      "source": [
        "r=spark.sql(\"\"\"select * from title_uniques\"\"\")\n",
        "r.show()"
      ],
      "execution_count": null,
      "outputs": [
        {
          "output_type": "stream",
          "text": [
            "+--------------------+---------------+-----------+------------+\n",
            "|               title|production_year|last_saison|last_episode|\n",
            "+--------------------+---------------+-----------+------------+\n",
            "|              (#1.6)|           2013|          1|           6|\n",
            "|                 DNA|           2010|          1|          13|\n",
            "|             (#2.40)|           2008|          2|          40|\n",
            "|       Travel Writer|           2004|          3|           5|\n",
            "|             (#1.69)|           2007|          1|          69|\n",
            "|         Nya grannen|           1999|          2|           7|\n",
            "|            Philippe|           2013|          3|          66|\n",
            "|     Orlando: Hour 1|           2008|         12|           4|\n",
            "|             (#1.54)|           2009|          1|          54|\n",
            "|          (#1.13839)|           2010|          1|       13839|\n",
            "|   The Fifth of July|           1982|          1|           9|\n",
            "|       Bighorn Otaku|           2011|          1|           2|\n",
            "|              (#1.7)|           2013|          1|           7|\n",
            "|      Anthony Zuiker|           2011|         17|           4|\n",
            "|The Food of Love:...|           1989|          9|          40|\n",
            "|    American Animals|           2012|          8|          13|\n",
            "|              (#1.2)|           2013|          1|           2|\n",
            "| Teatro en la nevera|           2000|          5|          38|\n",
            "|          Unforgiven|           1992|          1|           8|\n",
            "|Playing with Matches|           2002|          5|           8|\n",
            "+--------------------+---------------+-----------+------------+\n",
            "only showing top 20 rows\n",
            "\n"
          ],
          "name": "stdout"
        }
      ]
    },
    {
      "cell_type": "code",
      "metadata": {
        "id": "XLxAszB0WqKl",
        "colab": {
          "base_uri": "https://localhost:8080/",
          "height": 454
        },
        "outputId": "77e6a708-93a2-4ee4-f3f8-68e1a617f45a"
      },
      "source": [
        "r = spark.sql(\"\"\" \n",
        "select production_year, Mean(last_saison) as meanSeas,count(*) as nb From Title_uniques\n",
        "where last_episode>1\n",
        "\n",
        "group by production_year\n",
        "order by production_year desc\n",
        "\"\"\")\n",
        "\n",
        "r.show(20,False)"
      ],
      "execution_count": null,
      "outputs": [
        {
          "output_type": "stream",
          "text": [
            "+---------------+------------------+---+\n",
            "|production_year|meanSeas          |nb |\n",
            "+---------------+------------------+---+\n",
            "|2013           |4.130081300813008 |246|\n",
            "|2012           |4.074534161490683 |644|\n",
            "|2011           |3.909710391822828 |587|\n",
            "|2010           |3.9367088607594938|553|\n",
            "|2009           |4.320408163265306 |490|\n",
            "|2008           |5.098086124401914 |418|\n",
            "|2007           |4.8094117647058825|425|\n",
            "|2006           |4.1656441717791415|326|\n",
            "|2005           |3.848148148148148 |270|\n",
            "|2004           |4.605150214592275 |233|\n",
            "|2003           |4.3023255813953485|215|\n",
            "|2002           |5.204819277108434 |166|\n",
            "|2001           |5.315476190476191 |168|\n",
            "|2000           |5.46875           |160|\n",
            "|1999           |4.382352941176471 |170|\n",
            "|1998           |5.24113475177305  |141|\n",
            "|1997           |4.854166666666667 |144|\n",
            "|1996           |5.909090909090909 |132|\n",
            "|1995           |3.712871287128713 |101|\n",
            "|1994           |4.339285714285714 |112|\n",
            "+---------------+------------------+---+\n",
            "only showing top 20 rows\n",
            "\n"
          ],
          "name": "stdout"
        }
      ]
    },
    {
      "cell_type": "markdown",
      "metadata": {
        "id": "Om1GWz6RCe_r"
      },
      "source": [
        "Distribution de la moyenne des  saisons par année"
      ]
    },
    {
      "cell_type": "code",
      "metadata": {
        "id": "rWGLl583DXkC"
      },
      "source": [
        ""
      ],
      "execution_count": null,
      "outputs": []
    },
    {
      "cell_type": "markdown",
      "metadata": {
        "id": "oQO1jIJCQfCF"
      },
      "source": [
        "nombre de season qui sortent dans les années"
      ]
    },
    {
      "cell_type": "code",
      "metadata": {
        "id": "HxwbPCsmI3Bu",
        "colab": {
          "base_uri": "https://localhost:8080/",
          "height": 295
        },
        "outputId": "9ec8323e-d041-429c-e30d-78169270cc0a"
      },
      "source": [
        "import matplotlib.pyplot as plt\n",
        "\n",
        "t = r.collect()\n",
        "\n",
        "tabYear = [x.production_year for x in t]\n",
        "\n",
        "tabNb = [x.meanSeas for x in t]\n",
        "\n",
        "# plt.plot(tabYear, tabNb)\n",
        "plt.bar(tabYear, tabNb)\n",
        "plt.xlabel('year')\n",
        "plt.ylabel('mean of nb Seasons ')\n",
        "plt.title('mean of nb Seasons per year')\n",
        "plt.savefig(\"/content/gdrive/My Drive/BDLE/meansaisonYear\")\n",
        "plt.show()"
      ],
      "execution_count": null,
      "outputs": [
        {
          "output_type": "display_data",
          "data": {
            "image/png": "[encoded data removed]",
            "text/plain": [
              "<Figure size 432x288 with 1 Axes>"
            ]
          },
          "metadata": {
            "tags": []
          }
        }
      ]
    },
    {
      "cell_type": "markdown",
      "metadata": {
        "id": "I_ILZaQBFr0c"
      },
      "source": [
        "la longeur des serie augmente avec les année cela est signe du success des serie de plus en plus"
      ]
    },
    {
      "cell_type": "code",
      "metadata": {
        "id": "UYqh2hYiJx18",
        "colab": {
          "base_uri": "https://localhost:8080/",
          "height": 295
        },
        "outputId": "b0b7bae1-228b-421e-e5cf-3dbb82772fe6"
      },
      "source": [
        "t = r.collect()\n",
        "\n",
        "tabYear = [x.production_year for x in t]\n",
        "\n",
        "tabNb = [x.nb for x in t]\n",
        "\n",
        "# plt.plot(tabYear, tabNb)\n",
        "plt.bar(tabYear, tabNb)\n",
        "plt.xlabel('year')\n",
        "plt.ylabel('nb series ')\n",
        "plt.title('nb serie sortant per year')\n",
        "plt.savefig(\"/content/gdrive/My Drive/BDLE/nbsaisonYear\")\n",
        "plt.show()"
      ],
      "execution_count": null,
      "outputs": [
        {
          "output_type": "display_data",
          "data": {
            "image/png": "[encoded data removed]",
            "text/plain": [
              "<Figure size 432x288 with 1 Axes>"
            ]
          },
          "metadata": {
            "tags": []
          }
        }
      ]
    },
    {
      "cell_type": "markdown",
      "metadata": {
        "id": "snOvbxK2F-yN"
      },
      "source": [
        "le nombre de serie sortant augmente a travers les année cela est signe du success croissant des series"
      ]
    },
    {
      "cell_type": "markdown",
      "metadata": {
        "id": "pHsP0o77G67L"
      },
      "source": [
        "Utilisation de Cube et Aggregation "
      ]
    },
    {
      "cell_type": "markdown",
      "metadata": {
        "id": "sRJc8Nc6IKiK"
      },
      "source": [
        "####pour chaque annee j'ai combien d'acteur et d'actrice"
      ]
    },
    {
      "cell_type": "code",
      "metadata": {
        "id": "v4GkO4ijG6LX"
      },
      "source": [
        "#on recupere les film avec les different roles disponibles\n",
        "role_movie=spark.sql(\"select distinct role_id,movie_id from cast_info\")\n",
        "role_movie.createOrReplaceTempView(\"role_movie\")"
      ],
      "execution_count": null,
      "outputs": []
    },
    {
      "cell_type": "code",
      "metadata": {
        "id": "sob7gkLOHeSQ"
      },
      "source": [
        "#on construit un cube pour ventiler sur la dimension temps par rapport au role\n",
        "personnes=spark.sql(\"\"\"select t.production_year,rt.role,count(*) as nb from role_movie c1,role_type rt,title t\n",
        "where t.id=c1.movie_id and c1.role_id=rt.id and t.production_year is not null and (rt.role=\"actress\" or rt.role=\"actor\")\n",
        "group by CUBE(role,t.production_year)\n",
        "order by production_year,role\n",
        "\"\"\")\n",
        "personnes.createOrReplaceTempView(\"personnes\")"
      ],
      "execution_count": null,
      "outputs": []
    },
    {
      "cell_type": "code",
      "metadata": {
        "id": "9Zq5usRrIXTl"
      },
      "source": [
        "from pyspark.sql import functions as F\n",
        "#on effectue une transformation les lignes deviennent des collonnes (pivot)\n",
        "pivoted=personnes.groupBy(\"production_year\",\"role\").pivot(\"role\").agg(F.first(\"nb\")).na.fill(0)\n",
        "res=pivoted.groupBy(\"production_year\").agg({\"actor\":\"sum\" ,\"actress\":\"sum\"}).withColumnRenamed(\"sum(actor)\",\"actor\").withColumnRenamed(\"sum(actress)\",\"actress\").orderBy(\"production_year\",ascending=True)"
      ],
      "execution_count": null,
      "outputs": []
    },
    {
      "cell_type": "code",
      "metadata": {
        "id": "SpkkCNYQI3Y7",
        "colab": {
          "base_uri": "https://localhost:8080/",
          "height": 295
        },
        "outputId": "936f5ae2-bb18-427b-e5e2-910e9dd94000"
      },
      "source": [
        "t = res.collect()\n",
        "\n",
        "tabYear = [x.production_year for x in t[1:-2]]\n",
        "\n",
        "tabNbH = [x.actor for x in t[1:-2]]\n",
        "tabNbF=[x.actress for x in t[1:-2]]\n",
        "# plt.plot(tabYear, tabNb)\n",
        "#plt.bar(tabYear, tabNb)\n",
        "plt.plot(tabYear,tabNbH,label=\"homme\")\n",
        "plt.plot(tabYear,tabNbF,label=\"femmes\")\n",
        "plt.xlabel('year')\n",
        "plt.ylabel('nb nbActor ')\n",
        "plt.title('nb tournage par genre d\\'acteur per year')\n",
        "plt.legend(loc='upper center', shadow=True, fontsize='x-large')\n",
        "\n",
        "#plt.savefig(\"/content/gdrive/My Drive/BDLE/nbsaisonYear\")\n",
        "plt.show()"
      ],
      "execution_count": null,
      "outputs": [
        {
          "output_type": "display_data",
          "data": {
            "image/png": "[encoded data removed]",
            "text/plain": [
              "<Figure size 432x288 with 1 Axes>"
            ]
          },
          "metadata": {
            "tags": []
          }
        }
      ]
    },
    {
      "cell_type": "markdown",
      "metadata": {
        "id": "1Wh1OxPLI8Ry"
      },
      "source": [
        "depuis la derniere decennie les hommes ont connu plus de succes que les femmes dans le cinema ( si l'echantillon est vraiment representatif)"
      ]
    },
    {
      "cell_type": "code",
      "metadata": {
        "id": "KT__bj__SnQe"
      },
      "source": [
        ""
      ],
      "execution_count": null,
      "outputs": []
    },
    {
      "cell_type": "code",
      "metadata": {
        "id": "XALA2UNQSoSB"
      },
      "source": [
        "detail_film = spark.sql(\"\"\"\n",
        "\n",
        "select m.info, count(distinct t.id) as nbfilms_sans_doublons, count(t.id) as nbfilms_avec_doublons\n",
        "from \n",
        "Title t, Kind_Type k,  Movie_info m, Info_type i\n",
        "where t.kind_id = k.id and t.id = m.movie_id and m.info_type_id = i.id\n",
        "and k.kind = \"movie\"\n",
        "and i.info = 'genres'\n",
        "group by m.info\n",
        "order by nbfilms_sans_doublons desc\n",
        "\"\"\")\n",
        "\n",
        "detail_film.show(27)\n",
        "detail_film.count()"
      ],
      "execution_count": null,
      "outputs": []
    },
    {
      "cell_type": "code",
      "metadata": {
        "id": "anhi3Hn_T0O5"
      },
      "source": [
        "#on recupere pour chaque serie la derniere saison existante et lannee de production de la serie \n",
        "r = spark.sql(\"\"\" \n",
        "SELECT title,max(production_year)as production_year,max(season_nr) as last_saison\n",
        "FROM Title \n",
        "where production_year is not null\n",
        "group by title\n",
        "\"\"\")\n",
        "#r.show(5,False)\n",
        "r.count()\n",
        "#on remplace la premiere table par celle sans doublon\n",
        "r.createOrReplaceTempView(\"Title_uniques\")"
      ],
      "execution_count": null,
      "outputs": []
    },
    {
      "cell_type": "code",
      "metadata": {
        "id": "WaoruPa2T4_5",
        "colab": {
          "base_uri": "https://localhost:8080/",
          "height": 454
        },
        "outputId": "bd9f9d73-2f22-4182-9272-81395f879cd8"
      },
      "source": [
        "r.show()"
      ],
      "execution_count": null,
      "outputs": [
        {
          "output_type": "stream",
          "text": [
            "+--------------------+---------------+-----------+\n",
            "|               title|production_year|last_saison|\n",
            "+--------------------+---------------+-----------+\n",
            "|Beautiful, Marrie...|           2009|       null|\n",
            "|              (#1.6)|           2013|          1|\n",
            "|        (2001-04-26)|           2001|       null|\n",
            "|        (2010-04-09)|           2010|       null|\n",
            "|        (2006-05-15)|           2006|       null|\n",
            "|                 DNA|           2012|          1|\n",
            "|                Baar|           2004|       null|\n",
            "|De moord van Lied...|           1966|       null|\n",
            "|             (#2.40)|           2008|          2|\n",
            "|        (2000-06-30)|           2000|       null|\n",
            "|       Travel Writer|           2004|          3|\n",
            "|             (#1.69)|           2007|          1|\n",
            "|         Nya grannen|           1999|          2|\n",
            "|     Baywatch Nights|           1995|       null|\n",
            "|        (1993-01-15)|           1993|       null|\n",
            "|            Philippe|           2013|          3|\n",
            "|        (2009-06-11)|           2009|       null|\n",
            "|     Orlando: Hour 1|           2008|         12|\n",
            "|             (#1.54)|           2009|          1|\n",
            "|          (#1.13839)|           2010|          1|\n",
            "+--------------------+---------------+-----------+\n",
            "only showing top 20 rows\n",
            "\n"
          ],
          "name": "stdout"
        }
      ]
    },
    {
      "cell_type": "markdown",
      "metadata": {
        "id": "3NjYtoCyv3hw"
      },
      "source": [
        "#### La liste des pays ou un film a été tourné"
      ]
    },
    {
      "cell_type": "code",
      "metadata": {
        "id": "OVEmayAuv7of"
      },
      "source": [
        "#sortir les country de chaque film\n",
        "r1 = spark.sql(\"\"\"\n",
        "  select distinct m.movie_id,m.info\n",
        "  from movie_info m,info_type i\n",
        "  where i.id = m.info_type_id and i.info = \"countries\"\n",
        "\"\"\")\n",
        "\n",
        "r1.createOrReplaceTempView(\"r1\")\n",
        "\n",
        "r1.show()"
      ],
      "execution_count": null,
      "outputs": []
    },
    {
      "cell_type": "code",
      "metadata": {
        "id": "kZyypp1wv-JQ"
      },
      "source": [
        "r2 = spark.sql(\"\"\"\n",
        "  select distinct m.info ,count(*) as nb\n",
        "  from movie_info m, info_type i\n",
        "  where m.info_type_id=i.id and i.info = \"countries\"\n",
        "  group by m.info\n",
        "  order by nb desc\n",
        "\"\"\")\n",
        "#136 = count\n",
        "r2.createOrReplaceTempView(\"r2\")\n",
        "\n",
        "r2.show(10,False)"
      ],
      "execution_count": null,
      "outputs": []
    },
    {
      "cell_type": "code",
      "metadata": {
        "id": "n9XEhFWqwGXA"
      },
      "source": [
        "t = r.collect()\n",
        "countries = [x.info for x in t]\n",
        "nbFilm = [x.nb for x in t]\n",
        "import pandas as pd\n",
        "tmp = {\"countrie\":countries,\"nbFilm\":nbFilm}\n",
        "df_NbFilmCountries = pd.DataFrame(tmp)\n",
        "from google.colab import drive"
      ],
      "execution_count": null,
      "outputs": []
    },
    {
      "cell_type": "code",
      "metadata": {
        "id": "aogYZ2ydwIgU"
      },
      "source": [
        "drive.mount(\"/content/gdrive\")"
      ],
      "execution_count": null,
      "outputs": []
    },
    {
      "cell_type": "code",
      "metadata": {
        "id": "zKUoPzmgwJ-g"
      },
      "source": [
        "df_NbFilmCountries.to_csv(\"/content/gdrive/My Drive/is/location_films.csv\")"
      ],
      "execution_count": null,
      "outputs": []
    },
    {
      "cell_type": "code",
      "metadata": {
        "id": "Q8usGB6TwLbg"
      },
      "source": [
        "import matplotlib.pyplot as plt\n",
        "\n",
        "t = r.collect()\n",
        "t = t[:10]\n",
        "\n",
        "countries = [x.info for x in t]\n",
        "nbFilm = [x.nb for x in t]\n",
        "\n",
        "\n",
        "\n",
        "plt.bar(countries, nbFilm)\n",
        "plt.xlabel('Countries')\n",
        "plt.ylabel('nb films')\n",
        "plt.title('films per countries')\n",
        "plt.show()"
      ],
      "execution_count": null,
      "outputs": []
    },
    {
      "cell_type": "markdown",
      "metadata": {
        "id": "IBILQB9VtAYG"
      },
      "source": [
        "#### comparaison pays genre decomposition temporelle"
      ]
    },
    {
      "cell_type": "code",
      "metadata": {
        "id": "MSDTxeDkQAWh",
        "colab": {
          "base_uri": "https://localhost:8080/",
          "height": 235
        },
        "outputId": "05e53dd3-6867-42e0-fb93-520b35a3a396"
      },
      "source": [
        "#try to add countries\n",
        "#nb movie pr genre\n",
        "\n",
        "movies_infos = spark.sql(\"\"\"\n",
        "\n",
        "  select distinct m.movie_id, m.info as genre, t.production_year, m2.info as country\n",
        "  from \n",
        "  Title t, Kind_Type k,  Movie_info m, Info_type i , Movie_info m2, info_type i2\n",
        "  where t.id = m.movie_id and t.kind_id = k.id and  m.info_type_id = i.id\n",
        "   and m2.movie_id = t.id and m2.info_type_id = i2.id and i2.info=\"countries\"\n",
        "  and i.info = \"genres\"\n",
        "  and k.kind = \"movie\"\n",
        "\"\"\")\n",
        "#les pays ayant \n",
        "\n",
        "#movies_infos.createOrReplaceTempView(\"movies_infos\")\n",
        "\n",
        "\n",
        "\n",
        "movies_infos.show(6)\n",
        "movies_infos.count()\n",
        "\n",
        "\n",
        "\n"
      ],
      "execution_count": null,
      "outputs": [
        {
          "output_type": "stream",
          "text": [
            "+--------+-------+---------------+-----------+\n",
            "|movie_id|  genre|production_year|    country|\n",
            "+--------+-------+---------------+-----------+\n",
            "| 1633601|  Drama|           2011|        USA|\n",
            "| 1633601|Fantasy|           2011|        USA|\n",
            "| 1633601|  Short|           2011|        USA|\n",
            "| 1636236|  Drama|           2003|Netherlands|\n",
            "| 1640259| Action|           1998|        USA|\n",
            "| 1640259| Comedy|           1998|        USA|\n",
            "+--------+-------+---------------+-----------+\n",
            "only showing top 6 rows\n",
            "\n"
          ],
          "name": "stdout"
        },
        {
          "output_type": "execute_result",
          "data": {
            "text/plain": [
              "11922"
            ]
          },
          "metadata": {
            "tags": []
          },
          "execution_count": 137
        }
      ]
    },
    {
      "cell_type": "code",
      "metadata": {
        "id": "F2DDhqLPQ2pk"
      },
      "source": [
        "from pyspark.sql.functions import udf \n",
        "from pyspark.sql.types import StringType \n",
        "from pyspark.sql.types import IntegerType \n",
        "# de la merde \n",
        "def get_mill(annee):   \n",
        "  annee=str(annee)   \n",
        "  return annee[0] \n",
        "def get_siecle(annee):   \n",
        "  annee=str(annee)   \n",
        "  return annee[1]\n",
        "def get_decenie(annee):   \n",
        "  annee=str(annee)   \n",
        "  return annee[2]\n",
        "def get_numanne(annee):   \n",
        "  annee=str(annee)   \n",
        "  return annee[3]"
      ],
      "execution_count": null,
      "outputs": []
    },
    {
      "cell_type": "code",
      "metadata": {
        "id": "kzwwWuLVQ_Tr"
      },
      "source": [
        "\n",
        "func_udf = udf(get_mill, StringType())\n",
        "s = movies_infos.withColumn('millenaire',func_udf(movies_infos.production_year))\n",
        "\n",
        "\n",
        "func_udf2 = udf(get_siecle, StringType())\n",
        "s1 =s.withColumn(\"ciecle\",func_udf2(s.production_year))\n",
        "\n",
        "func_udf3 = udf(get_decenie, StringType())\n",
        "s2 = s1.withColumn('decenie',func_udf3(s1.production_year) ) \n",
        "\n",
        "func_udf4 = udf(get_numanne, StringType())\n",
        "s3 =s2.withColumn(\"annee\",func_udf4(s2.production_year) )"
      ],
      "execution_count": null,
      "outputs": []
    },
    {
      "cell_type": "code",
      "metadata": {
        "id": "ZlfnWaynRDEj"
      },
      "source": [
        "s3.createOrReplaceTempView(\"movies_infos\")"
      ],
      "execution_count": null,
      "outputs": []
    },
    {
      "cell_type": "code",
      "metadata": {
        "id": "pMyzq77AQDWa",
        "colab": {
          "base_uri": "https://localhost:8080/",
          "height": 286
        },
        "outputId": "4cb1b791-0fd2-4221-fd00-c2ebbc212d11"
      },
      "source": [
        "#select movie_id, genre , production_year, country ,count(*) as nb\n",
        "  \n",
        "r = spark.sql(\"\"\"\n",
        "  select millenaire,ciecle,decenie,country,genre,count(*) as nb\n",
        "  from movies_infos\n",
        "  group by ROLLUP(millenaire,ciecle,decenie),country,genre\n",
        "  order by country,millenaire,ciecle,decenie,genre\n",
        "  \"\"\")\n",
        "# \n",
        " \n",
        "#order by movie_id, genre, production_year,country\n",
        "\n",
        "r.show(10)\n",
        "r.count()\n",
        "r.createOrReplaceTempView(\"movies_infos\")"
      ],
      "execution_count": null,
      "outputs": [
        {
          "output_type": "stream",
          "text": [
            "+----------+------+-------+-------+-----+----+\n",
            "|millenaire|ciecle|decenie|country|genre|  nb|\n",
            "+----------+------+-------+-------+-----+----+\n",
            "|      null|  null|   null|   null| null|   1|\n",
            "|      null|  null|   null|   null| null|3296|\n",
            "|      null|  null|   null|   null| null|   1|\n",
            "|      null|  null|   null|   null| null|   1|\n",
            "|      null|  null|   null|   null| null|   1|\n",
            "|      null|  null|   null|   null| null|   1|\n",
            "|         1|  null|   null|   null| null|   1|\n",
            "|         1|  null|   null|   null| null|   1|\n",
            "|         1|  null|   null|   null| null|   1|\n",
            "|         1|  null|   null|   null| null|1891|\n",
            "+----------+------+-------+-------+-----+----+\n",
            "only showing top 10 rows\n",
            "\n"
          ],
          "name": "stdout"
        }
      ]
    },
    {
      "cell_type": "code",
      "metadata": {
        "id": "Y9fnlwygX0f0"
      },
      "source": [
        "r.createOrReplaceTempView(\"genres_country\")"
      ],
      "execution_count": null,
      "outputs": []
    },
    {
      "cell_type": "code",
      "metadata": {
        "id": "DdkseuMqZJAS"
      },
      "source": [
        "r = spark.sql(\"\"\"\n",
        "  select * \n",
        "  from movies_infos\n",
        "  where ( country is not null ) and (genre is not null) and millenaire=2\n",
        "  \"\"\") \n",
        " "
      ],
      "execution_count": null,
      "outputs": []
    },
    {
      "cell_type": "code",
      "metadata": {
        "id": "6oILZFtYZZLl"
      },
      "source": [
        "r.createOrReplaceTempView(\"resultat_cleaned\")"
      ],
      "execution_count": null,
      "outputs": []
    },
    {
      "cell_type": "code",
      "metadata": {
        "id": "ITrLs-QkuCG6"
      },
      "source": [
        ""
      ],
      "execution_count": null,
      "outputs": []
    },
    {
      "cell_type": "code",
      "metadata": {
        "id": "creLOsc-fHg2"
      },
      "source": [
        "#items = [\"France\", \"Canda\", \"Spain\" , \"UK\"]\n",
        "\n",
        "res_comedy=spark.sql(\"\"\"select * from resultat_cleaned\n",
        "  where genre='Comedy' \"\"\").filter('country in (\"France\", \"Canada\", \"Spain\" , \"UK\", \"Italy\",\"Germany\")')"
      ],
      "execution_count": null,
      "outputs": []
    },
    {
      "cell_type": "code",
      "metadata": {
        "id": "tFBS3nSuhbH-"
      },
      "source": [
        "t = res.collect()\n",
        "\n"
      ],
      "execution_count": null,
      "outputs": []
    },
    {
      "cell_type": "code",
      "metadata": {
        "id": "9SUto7kAiF06"
      },
      "source": [
        "histo_x={}\n",
        "for i in t:\n",
        "  if( i.country not in histo_x.keys()):\n",
        "  #if ( len(histo_x[i.country])==0 ):\n",
        "    histo_x[i.country]=[i.nb]\n",
        "  else:\n",
        "    histo_x[i.country].append(i.nb)"
      ],
      "execution_count": null,
      "outputs": []
    },
    {
      "cell_type": "code",
      "metadata": {
        "id": "EaPieLEKmW-t",
        "colab": {
          "base_uri": "https://localhost:8080/",
          "height": 298
        },
        "outputId": "f9db35fe-b024-4b24-89b7-4eeda28aba71"
      },
      "source": [
        "color=[\"b\",\"r\",\"y\",\"g\",\"k\",\"m\"]\n",
        "decenie=np.array([2000,2010])\n",
        "c=0\n",
        "for i in histo_x.keys():\n",
        "  plt.bar(decenie+c,histo_x[i], width=1, color=color[c], align='center',label=i)\n",
        "  c+=1\n",
        "plt.legend()\n",
        "plt.title(\"Comparaison du genre Comedy par decenie et pays\")"
      ],
      "execution_count": null,
      "outputs": [
        {
          "output_type": "execute_result",
          "data": {
            "text/plain": [
              "Text(0.5, 1.0, 'Comparaison du genre Comedy par decenie et pays')"
            ]
          },
          "metadata": {
            "tags": []
          },
          "execution_count": 151
        },
        {
          "output_type": "display_data",
          "data": {
            "image/png": "[encoded data removed]",
            "text/plain": [
              "<Figure size 432x288 with 1 Axes>"
            ]
          },
          "metadata": {
            "tags": []
          }
        }
      ]
    },
    {
      "cell_type": "code",
      "metadata": {
        "id": "6KGK9IpBuYRK",
        "colab": {
          "base_uri": "https://localhost:8080/",
          "height": 809
        },
        "outputId": "93210efa-c914-40ba-ace3-96ab64505f90"
      },
      "source": [
        "genres = [\"Action\",\"Comedy\",\"Documentary\"]\n",
        "\n",
        "for genre in genres:  \n",
        "  res=spark.sql(\"\"\"select * from resultat_cleaned\n",
        "  where genre='\"\"\"+genre+\"\"\"' \"\"\").filter('country in (\"France\", \"Canada\", \"Spain\" , \"UK\", \"Italy\",\"Germany\")')\n",
        "  t = res.collect()\n",
        "  histo_x={}\n",
        "  for i in t:\n",
        "    if( i.country not in histo_x.keys()):\n",
        "    #if ( len(histo_x[i.country])==0 ):\n",
        "      histo_x[i.country]=[i.nb]\n",
        "    else:\n",
        "      histo_x[i.country].append(i.nb)\n",
        "\n",
        "  color=[\"b\",\"r\",\"y\",\"g\",\"k\",\"m\"]\n",
        "  decenie=np.array([2000,2010])\n",
        "  c=0\n",
        "  for i in histo_x.keys():\n",
        "    plt.bar(decenie+c,histo_x[i], width=1, color=color[c], align='center',label=i)\n",
        "    c+=1\n",
        "  plt.legend()\n",
        "  plt.title(\"Comparaison du genre \"+genre+\" par decenie et pays\")\n",
        "  plt.show()\n"
      ],
      "execution_count": null,
      "outputs": [
        {
          "output_type": "display_data",
          "data": {
            "image/png": "[encoded data removed]",
            "text/plain": [
              "<Figure size 432x288 with 1 Axes>"
            ]
          },
          "metadata": {
            "tags": []
          }
        },
        {
          "output_type": "display_data",
          "data": {
            "image/png": "[encoded data removed]",
            "text/plain": [
              "<Figure size 432x288 with 1 Axes>"
            ]
          },
          "metadata": {
            "tags": []
          }
        },
        {
          "output_type": "display_data",
          "data": {
            "image/png": "[encoded data removed]",
            "text/plain": [
              "<Figure size 432x288 with 1 Axes>"
            ]
          },
          "metadata": {
            "tags": []
          }
        }
      ]
    },
    {
      "cell_type": "markdown",
      "metadata": {
        "id": "lz79Vqgro-zl"
      },
      "source": [
        "#### Fenetres"
      ]
    },
    {
      "cell_type": "markdown",
      "metadata": {
        "id": "cXVZHvDepPjH"
      },
      "source": [
        ""
      ]
    },
    {
      "cell_type": "code",
      "metadata": {
        "id": "JGgpUN1_pltV",
        "colab": {
          "base_uri": "https://localhost:8080/",
          "height": 289
        },
        "outputId": "1b7b2080-e213-403e-b4c8-976fd6cd535e"
      },
      "source": [
        "r2 = spark.sql(\"\"\"\n",
        "  select distinct m.info ,count(*) as nb\n",
        "  from movie_info m, info_type i\n",
        "  where m.info_type_id=i.id and i.info = \"countries\"\n",
        "  group by m.info\n",
        "  order by nb desc\n",
        "\"\"\")\n",
        "#136 = count\n",
        "r2.createOrReplaceTempView(\"r2\")\n",
        "\n",
        "r2.show(10,False)"
      ],
      "execution_count": null,
      "outputs": [
        {
          "output_type": "stream",
          "text": [
            "+---------+----+\n",
            "|info     |nb  |\n",
            "+---------+----+\n",
            "|USA      |5380|\n",
            "|UK       |1190|\n",
            "|France   |615 |\n",
            "|Japan    |516 |\n",
            "|Germany  |508 |\n",
            "|Spain    |474 |\n",
            "|Canada   |450 |\n",
            "|Australia|350 |\n",
            "|Italy    |339 |\n",
            "|India    |275 |\n",
            "+---------+----+\n",
            "only showing top 10 rows\n",
            "\n"
          ],
          "name": "stdout"
        }
      ]
    },
    {
      "cell_type": "code",
      "metadata": {
        "id": "zt9TdeeItGQS",
        "colab": {
          "base_uri": "https://localhost:8080/",
          "height": 238
        },
        "outputId": "3e691f14-57b5-425e-a762-60c7799a7496"
      },
      "source": [
        "#try to add countries\n",
        "#nb movie pr genre\n",
        "\n",
        "movies_infos = spark.sql(\"\"\"\n",
        "\n",
        "  select distinct m.movie_id, m.info as genre, t.production_year, m2.info as country\n",
        "  from \n",
        "  Title t, Kind_Type k,  Movie_info m, Info_type i , Movie_info m2, info_type i2\n",
        "  where t.id = m.movie_id and t.kind_id = k.id and  m.info_type_id = i.id\n",
        "   and m2.movie_id = t.id and m2.info_type_id = i2.id and i2.info=\"countries\"\n",
        "  and i.info = \"genres\"\n",
        "  and k.kind = \"movie\"\n",
        "\"\"\")\n",
        "#les pays ayant \n",
        "\n",
        "movies_infos.createOrReplaceTempView(\"movies_infos\")\n",
        "\n",
        "\n",
        "\n",
        "movies_infos.show(6)\n",
        "movies_infos.count()"
      ],
      "execution_count": null,
      "outputs": [
        {
          "output_type": "stream",
          "text": [
            "+--------+-------+---------------+-----------+\n",
            "|movie_id|  genre|production_year|    country|\n",
            "+--------+-------+---------------+-----------+\n",
            "| 1633601|  Drama|           2011|        USA|\n",
            "| 1633601|Fantasy|           2011|        USA|\n",
            "| 1633601|  Short|           2011|        USA|\n",
            "| 1636236|  Drama|           2003|Netherlands|\n",
            "| 1640259| Action|           1998|        USA|\n",
            "| 1640259| Comedy|           1998|        USA|\n",
            "+--------+-------+---------------+-----------+\n",
            "only showing top 6 rows\n",
            "\n"
          ],
          "name": "stdout"
        },
        {
          "output_type": "execute_result",
          "data": {
            "text/plain": [
              "11922"
            ]
          },
          "metadata": {
            "tags": []
          },
          "execution_count": 15
        }
      ]
    },
    {
      "cell_type": "code",
      "metadata": {
        "id": "GZZWBYT_pKri",
        "colab": {
          "base_uri": "https://localhost:8080/",
          "height": 204
        },
        "outputId": "f2267ae9-ebab-42fd-d91c-dd7c722a0161"
      },
      "source": [
        "nbFilmPerCountry = spark.sql(\"\"\"\n",
        "  select mi.country,mi.production_year,count (*) as nbFilm\n",
        "  from movies_infos mi\n",
        "  group by mi.country,mi.production_year\n",
        "  order by production_year desc\n",
        "\"\"\")\n",
        "\n",
        "nbFilmPerCountry.createOrReplaceTempView(\"nbFilmPerCountry\")\n",
        "nbFilmPerCountry.show(5)\n"
      ],
      "execution_count": null,
      "outputs": [
        {
          "output_type": "stream",
          "text": [
            "+-------+---------------+------+\n",
            "|country|production_year|nbFilm|\n",
            "+-------+---------------+------+\n",
            "|    USA|           2016|     3|\n",
            "|    USA|           2015|     8|\n",
            "|     UK|           2014|     6|\n",
            "|    USA|           2014|    24|\n",
            "|Finland|           2014|     2|\n",
            "+-------+---------------+------+\n",
            "only showing top 5 rows\n",
            "\n"
          ],
          "name": "stdout"
        }
      ]
    },
    {
      "cell_type": "markdown",
      "metadata": {
        "id": "-SgGpX78vBP3"
      },
      "source": [
        "##### Classement des pays pour chaque année selon le nbr de film produits"
      ]
    },
    {
      "cell_type": "code",
      "metadata": {
        "id": "myy8zJZCpLWO",
        "colab": {
          "base_uri": "https://localhost:8080/",
          "height": 244
        },
        "outputId": "13c6b93e-0ca5-4bea-d8ab-fbb7a7252fa9"
      },
      "source": [
        "\n",
        "\n",
        "#classement des pays pour chaque année\n",
        "r = spark.sql(\"\"\"\n",
        "  select mi.* , rank() over (partition by production_year order by nbFilm desc) as classement\n",
        "  from nbFilmPerCountry mi \n",
        "  where mi.production_year = 2001\n",
        "  \n",
        "\"\"\")\n",
        "\n",
        "r.show(10)\n"
      ],
      "execution_count": null,
      "outputs": [
        {
          "output_type": "error",
          "ename": "NameError",
          "evalue": "ignored",
          "traceback": [
            "\u001b[0;31m---------------------------------------------------------------------------\u001b[0m",
            "\u001b[0;31mNameError\u001b[0m                                 Traceback (most recent call last)",
            "\u001b[0;32m<ipython-input-2-e4caa5e6ba69>\u001b[0m in \u001b[0;36m<module>\u001b[0;34m()\u001b[0m\n\u001b[0;32m----> 1\u001b[0;31m r = spark.sql(\"\"\"\n\u001b[0m\u001b[1;32m      2\u001b[0m   \u001b[0mselect\u001b[0m \u001b[0mmi\u001b[0m\u001b[0;34m.\u001b[0m\u001b[0;34m*\u001b[0m \u001b[0;34m,\u001b[0m \u001b[0mrank\u001b[0m\u001b[0;34m(\u001b[0m\u001b[0;34m)\u001b[0m \u001b[0mover\u001b[0m \u001b[0;34m(\u001b[0m\u001b[0mpartition\u001b[0m \u001b[0mby\u001b[0m \u001b[0mproduction_year\u001b[0m \u001b[0morder\u001b[0m \u001b[0mby\u001b[0m \u001b[0mnbFilm\u001b[0m \u001b[0mdesc\u001b[0m\u001b[0;34m)\u001b[0m \u001b[0;32mas\u001b[0m \u001b[0mclassement\u001b[0m\u001b[0;34m\u001b[0m\u001b[0;34m\u001b[0m\u001b[0m\n\u001b[1;32m      3\u001b[0m   \u001b[0;32mfrom\u001b[0m \u001b[0mnbFilmPerCountry\u001b[0m \u001b[0mmi\u001b[0m\u001b[0;34m\u001b[0m\u001b[0;34m\u001b[0m\u001b[0m\n\u001b[1;32m      4\u001b[0m   \u001b[0mwhere\u001b[0m \u001b[0mmi\u001b[0m\u001b[0;34m.\u001b[0m\u001b[0mproduction_year\u001b[0m \u001b[0;34m=\u001b[0m \u001b[0;36m2001\u001b[0m\u001b[0;34m\u001b[0m\u001b[0;34m\u001b[0m\u001b[0m\n\u001b[1;32m      5\u001b[0m \u001b[0;34m\u001b[0m\u001b[0m\n",
            "\u001b[0;31mNameError\u001b[0m: name 'spark' is not defined"
          ]
        }
      ]
    },
    {
      "cell_type": "markdown",
      "metadata": {
        "id": "Nicy3T6kvC1f"
      },
      "source": [
        "#####Cumule du nbr film produit par fenetre pour chaque pays"
      ]
    },
    {
      "cell_type": "code",
      "metadata": {
        "id": "Byh4_DH4vSno",
        "colab": {
          "base_uri": "https://localhost:8080/",
          "height": 289
        },
        "outputId": "96caa8d7-4baa-4297-d27d-0294d0845a80"
      },
      "source": [
        "#ici on a filtrer sur les USA pour bien observer nos fenetres\n",
        "r = spark.sql(\"\"\"\n",
        "  select mi.* ,\n",
        "  sum(nbFilm) over (partition by country order by production_year range between 1 preceding and 1 following) as nbFilms\n",
        "  from nbFilmPerCountry mi\n",
        "  where mi.production_year > 1950 and mi.country= \"USA\"\n",
        "  \n",
        "\"\"\")\n",
        "\n",
        "r.show(10)"
      ],
      "execution_count": null,
      "outputs": [
        {
          "output_type": "stream",
          "text": [
            "+-------+---------------+------+-------+\n",
            "|country|production_year|nbFilm|nbFilms|\n",
            "+-------+---------------+------+-------+\n",
            "|    USA|           1951|    12|     21|\n",
            "|    USA|           1952|     9|     30|\n",
            "|    USA|           1953|     9|     29|\n",
            "|    USA|           1954|    11|     47|\n",
            "|    USA|           1955|    27|     41|\n",
            "|    USA|           1956|     3|     36|\n",
            "|    USA|           1957|     6|     15|\n",
            "|    USA|           1958|     6|     24|\n",
            "|    USA|           1959|    12|     31|\n",
            "|    USA|           1960|    13|     36|\n",
            "+-------+---------------+------+-------+\n",
            "only showing top 10 rows\n",
            "\n"
          ],
          "name": "stdout"
        }
      ]
    },
    {
      "cell_type": "code",
      "metadata": {
        "id": "jcYgwrgdtMLO"
      },
      "source": [
        ""
      ],
      "execution_count": null,
      "outputs": []
    }
  ]
}