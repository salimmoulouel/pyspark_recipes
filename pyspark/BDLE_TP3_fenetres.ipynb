{
  "nbformat": 4,
  "nbformat_minor": 0,
  "metadata": {
    "kernelspec": {
      "display_name": "Python 3",
      "language": "python",
      "name": "python3"
    },
    "language_info": {
      "codemirror_mode": {
        "name": "ipython",
        "version": 3
      },
      "file_extension": ".py",
      "mimetype": "text/x-python",
      "name": "python",
      "nbconvert_exporter": "python",
      "pygments_lexer": "ipython3",
      "version": "3.7.3"
    },
    "colab": {
      "name": "BDLE_TP3_fenetres.ipynb",
      "provenance": [],
      "collapsed_sections": [],
      "toc_visible": true,
      "include_colab_link": true
    }
  },
  "cells": [
    {
      "cell_type": "markdown",
      "metadata": {
        "id": "view-in-github",
        "colab_type": "text"
      },
      "source": [
        "<a href=\"https://colab.research.google.com/github/salimmoulouel/pyspark_recipes/blob/main/pyspark/BDLE_TP3_fenetres.ipynb\" target=\"_parent\"><img src=\"https://colab.research.google.com/assets/colab-badge.svg\" alt=\"Open In Colab\"/></a>"
      ]
    },
    {
      "cell_type": "markdown",
      "metadata": {
        "id": "_jwpNz1D-yhY"
      },
      "source": [
        "# BDLE : Requete fenetre"
      ]
    },
    {
      "cell_type": "code",
      "metadata": {
        "id": "NbU-sE5pqw0f",
        "colab": {
          "base_uri": "https://localhost:8080/",
          "height": 119
        },
        "outputId": "e592c538-f9a9-4a24-9cf7-f7c57ff06aa6"
      },
      "source": [
        "import os\n",
        "\n",
        "# choisir un mode d'execution: colaboratory, local ou ppti\n",
        "\n",
        "EXECUTION='colaboratory'\n",
        "\n",
        "\n",
        "# Pour le mode local\n",
        "# IL FAUT LANCER JUPYTER NOTEBOOK EN LOCAL ET CHOISIR ENVIRONNEMENT LOCAL EN HAUT A DROITE\n",
        "# \n",
        "# Assurez-vous que l'extension jupyter_http_over_ws Jupyter est activée et à jour sur votre machine.\n",
        "# pip install --upgrade jupyter_http_over_ws>=0.0.1a3 && jupyter serv e port 8888 et qu'il accepte les requêtes du site https://colab.research.google.com.\n",
        "# jupyter notebook   --NotebookApp.allow_origin='https://colab.research.google.com'   --port=8888   --NotebookApp.port_retries=0\n",
        "# voir aussi https://research.google.com/colaboratory/local-runtimes.html\n",
        "# \n",
        "#EXECUTION='local'\n",
        "\n",
        "# EXECUTION EN SALLE PPTI\n",
        "#EXECUTION='ppti'\n",
        "\n",
        "print('EXECUTION', EXECUTION)\n",
        "\n",
        "SPARK_VERSION=\"2.4.4\"\n",
        "\n",
        "if EXECUTION == 'colaboratory':\n",
        "  HOME=\"/content\"\n",
        "  DATASET_DIR=\"/content\"\n",
        "  os.environ[\"JAVA_HOME\"] = \"/usr/lib/jvm/java-8-openjdk-amd64\"\n",
        "  !ls -ld {os.environ[\"JAVA_HOME\"]}\n",
        "  #os.environ[\"SPARK_HOME\"] = f\"{HOME}/spark-{SPARK_VERSION}-bin-hadoop2.7\"\n",
        "  os.environ[\"SPARK_HOME\"] = \"{}/spark-{}-bin-hadoop2.7\".format(HOME, SPARK_VERSION)\n",
        "\n",
        "elif EXECUTION == 'local':\n",
        "  HOME=os.environ[\"HOME\"]\n",
        "  DATASET_DIR=\"{}/dataset\".format(HOME)\n",
        "  os.environ[\"JAVA_HOME\"] = \"/usr/lib/jvm/java-8-openjdk-amd64\"\n",
        "  # si pyspark deja installé par \"conda\"\n",
        "  # os.environ[\"SPARK_HOME\"] = \"{}/anaconda3/bin/spark-{}-bin-hadoop2.7\".format(HOME, SPARK_VERSION)\n",
        "  # si on installe spark directement\n",
        "  os.environ[\"SPARK_HOME\"] = \"{}/spark-{}-bin-hadoop2.7\".format(HOME, SPARK_VERSION)\n",
        "\n",
        "elif EXECUTION == 'ppti':\n",
        "  HOME=os.environ[\"HOME\"]\n",
        "  DATASET_DIR=\"/Infos/bd/spark/dataset\"\n",
        "  os.environ[\"JAVA_HOME\"] = \"/usr/lib/jvm/java-8-openjdk-amd64\"\n",
        "  os.environ[\"SPARK_HOME\"] = \"/usr/local/spark-{}-bin-hadoop2.7\".format(SPARK_VERSION)\n",
        "else:\n",
        "    print(\"Valeur incorrecte pour la variable EXECUTION:\", EXECUTION)\n",
        "\n",
        "\n",
        "print('JAVA_HOME:', os.environ[\"JAVA_HOME\"] )\n",
        "print('SPARK_HOME:', os.environ[\"SPARK_HOME\"])\n",
        "print('DATASET_DIR:', DATASET_DIR)\n",
        "print('HOME:', HOME)"
      ],
      "execution_count": null,
      "outputs": [
        {
          "output_type": "stream",
          "text": [
            "EXECUTION colaboratory\n",
            "drwxr-xr-x 7 root root 4096 Nov 15 16:25 /usr/lib/jvm/java-8-openjdk-amd64\n",
            "JAVA_HOME: /usr/lib/jvm/java-8-openjdk-amd64\n",
            "SPARK_HOME: /content/spark-2.4.4-bin-hadoop2.7\n",
            "DATASET_DIR: /content\n",
            "HOME: /content\n"
          ],
          "name": "stdout"
        }
      ]
    },
    {
      "cell_type": "markdown",
      "metadata": {
        "id": "-fCYt4aw4N3W"
      },
      "source": [
        "## Téléchargements"
      ]
    },
    {
      "cell_type": "markdown",
      "metadata": {
        "id": "lGnhq33i30KW"
      },
      "source": [
        "### Spark"
      ]
    },
    {
      "cell_type": "code",
      "metadata": {
        "id": "fHPKVUL73yKH",
        "colab": {
          "base_uri": "https://localhost:8080/",
          "height": 425
        },
        "outputId": "e0d4e789-74c1-479b-aff8-ccfa05115a4b"
      },
      "source": [
        "import os.path\n",
        "from os import path\n",
        "\n",
        "if EXECUTION == 'ppti':\n",
        "  print(\"on ne telecharge pas spark\")  \n",
        "else:\n",
        "  if (path.isdir(HOME+\"/spark-\"+SPARK_VERSION+\"-bin-hadoop2.7\")):\n",
        "    print(HOME+\"/spark-\"+SPARK_VERSION+\"-bin-hadoop2.7 exists.\")\n",
        "  else:\n",
        "    CLOSER_LOCATION = \"https://www.apache.org/dyn/closer.lua/spark/spark-{}/spark-{}-bin-hadoop2.7.tgz\".format(SPARK_VERSION, SPARK_VERSION)\n",
        "    # !wget http://mirror.ibcp.fr/pub/apache/spark/spark-{SPARK_VERSION}/spark-{SPARK_VERSION}-bin-hadoop2.7.tgz\n",
        "    !wget {CLOSER_LOCATION} -O suggest.html\n",
        "    !wget `grep \"suggest the following mirror\" -A2 suggest.html |grep -Po 'href=\"\\K[^\"]*'` -O {HOME}/spark-{SPARK_VERSION}-bin-hadoop2.7.tgz\n",
        "    !cd {HOME} && tar xzf spark-{SPARK_VERSION}-bin-hadoop2.7.tgz && rm spark-{SPARK_VERSION}-bin-hadoop2.7.tgz\n",
        "    !rm suggest.html\n",
        "    !echo \"spark installé dans {HOME}/spark-{SPARK_VERSION}-bin-hadoop2.7\"\n",
        "    !ls -ld {os.environ[\"SPARK_HOME\"]}\n",
        "    \n",
        "\n",
        "# Rmq: une autre méthode possible pour télécharger spark: est :  !pip install pyspark"
      ],
      "execution_count": null,
      "outputs": [
        {
          "output_type": "stream",
          "text": [
            "--2019-11-21 14:41:22--  https://www.apache.org/dyn/closer.lua/spark/spark-2.4.4/spark-2.4.4-bin-hadoop2.7.tgz\n",
            "Resolving www.apache.org (www.apache.org)... 40.79.78.1, 95.216.24.32, 2a01:4f9:2a:185f::2\n",
            "Connecting to www.apache.org (www.apache.org)|40.79.78.1|:443... connected.\n",
            "HTTP request sent, awaiting response... 200 OK\n",
            "Length: unspecified [text/html]\n",
            "Saving to: ‘suggest.html’\n",
            "\n",
            "suggest.html            [ <=>                ]  29.13K  --.-KB/s    in 0.09s   \n",
            "\n",
            "2019-11-21 14:41:30 (333 KB/s) - ‘suggest.html’ saved [29826]\n",
            "\n",
            "--2019-11-21 14:41:32--  https://www-eu.apache.org/dist/spark/spark-2.4.4/spark-2.4.4-bin-hadoop2.7.tgz\n",
            "Resolving www-eu.apache.org (www-eu.apache.org)... 95.216.24.32, 2a01:4f9:2a:185f::2\n",
            "Connecting to www-eu.apache.org (www-eu.apache.org)|95.216.24.32|:443... connected.\n",
            "HTTP request sent, awaiting response... 200 OK\n",
            "Length: 230091034 (219M) [application/x-gzip]\n",
            "Saving to: ‘/content/spark-2.4.4-bin-hadoop2.7.tgz’\n",
            "\n",
            "/content/spark-2.4. 100%[===================>] 219.43M  69.9MB/s    in 3.1s    \n",
            "\n",
            "2019-11-21 14:41:35 (69.9 MB/s) - ‘/content/spark-2.4.4-bin-hadoop2.7.tgz’ saved [230091034/230091034]\n",
            "\n",
            "spark installé dans /content/spark-2.4.4-bin-hadoop2.7\n",
            "drwxr-xr-x 13 1000 1000 4096 Aug 27 21:30 /content/spark-2.4.4-bin-hadoop2.7\n"
          ],
          "name": "stdout"
        }
      ]
    },
    {
      "cell_type": "markdown",
      "metadata": {
        "id": "6c8lj2dj38Iu"
      },
      "source": [
        "### findspark"
      ]
    },
    {
      "cell_type": "code",
      "metadata": {
        "id": "VfohAIQv1UFK",
        "colab": {
          "base_uri": "https://localhost:8080/",
          "height": 85
        },
        "outputId": "1051dea3-da26-45a9-8dde-01c5835cbb64"
      },
      "source": [
        "if EXECUTION == 'ppti' :\n",
        "  !ls -l /Infos/bd/spark/python/findspark.py\n",
        "else :\n",
        "  !pip install findspark"
      ],
      "execution_count": null,
      "outputs": [
        {
          "output_type": "stream",
          "text": [
            "Collecting findspark\n",
            "  Downloading https://files.pythonhosted.org/packages/b1/c8/e6e1f6a303ae5122dc28d131b5a67c5eb87cbf8f7ac5b9f87764ea1b1e1e/findspark-1.3.0-py2.py3-none-any.whl\n",
            "Installing collected packages: findspark\n",
            "Successfully installed findspark-1.3.0\n"
          ],
          "name": "stdout"
        }
      ]
    },
    {
      "cell_type": "markdown",
      "metadata": {
        "id": "THe8u_Ho4w2z"
      },
      "source": [
        "### demarrer_spark_colab.py"
      ]
    },
    {
      "cell_type": "code",
      "metadata": {
        "id": "K_wTd3VO4zzA",
        "colab": {
          "base_uri": "https://localhost:8080/",
          "height": 204
        },
        "outputId": "14379c45-fc40-410b-9225-cf2cfa28570f"
      },
      "source": [
        "# URL du dossier PUBLIC_DATASET contenant des fichiers\n",
        "PUBLIC_DATASET=\"https://nuage.lip6.fr/s/PQM3RgR4FRnMPQ9/download?path=\"\n",
        "\n",
        "if EXECUTION == 'ppti' :\n",
        "  !ls -l /Infos/bd/spark/python/demarrer_spark.py\n",
        "else :\n",
        "  if (path.isfile(\"demarrer_spark.py\")):\n",
        "     print(\"demarrer_spark.py exists.\")\n",
        "  else:\n",
        "     !wget {PUBLIC_DATASET}/python/demarrer_spark.py -O demarrer_spark.py"
      ],
      "execution_count": null,
      "outputs": [
        {
          "output_type": "stream",
          "text": [
            "--2019-11-21 14:42:03--  https://nuage.lip6.fr/s/PQM3RgR4FRnMPQ9/download?path=/python/demarrer_spark.py\n",
            "Resolving nuage.lip6.fr (nuage.lip6.fr)... 132.227.201.11\n",
            "Connecting to nuage.lip6.fr (nuage.lip6.fr)|132.227.201.11|:443... connected.\n",
            "HTTP request sent, awaiting response... 200 OK\n",
            "Length: 1624 (1.6K) [text/x-python]\n",
            "Saving to: ‘demarrer_spark.py’\n",
            "\n",
            "\rdemarrer_spark.py     0%[                    ]       0  --.-KB/s               \rdemarrer_spark.py   100%[===================>]   1.59K  --.-KB/s    in 0.001s  \n",
            "\n",
            "2019-11-21 14:42:03 (1.20 MB/s) - ‘demarrer_spark.py’ saved [1624/1624]\n",
            "\n"
          ],
          "name": "stdout"
        }
      ]
    },
    {
      "cell_type": "markdown",
      "metadata": {
        "id": "Xy2SS4Y05LlR"
      },
      "source": [
        "### IMDB"
      ]
    },
    {
      "cell_type": "code",
      "metadata": {
        "id": "KDq0NIVx1vRJ",
        "colab": {
          "base_uri": "https://localhost:8080/",
          "height": 221
        },
        "outputId": "cb28a13e-85d5-4160-8780-9bf72db09197"
      },
      "source": [
        "if EXECUTION == 'ppti' :\n",
        "  !ls -ld {DATASET_DIR}/imdb/vldb2015\n",
        "  \n",
        "else :\n",
        "  if (path.isdir(DATASET_DIR+\"/imdb/vldb2015\")):\n",
        "    print(DATASET_DIR+\"/imdb/vldb2015 exists.\")\n",
        "  else:\n",
        "    !mkdir -p {DATASET_DIR}/imdb/vldb2015\n",
        "\n",
        "    # les donnees entières (1.18GO)\n",
        "    #!wget {PUBLIC_DATASET}/imdb/vldb2015/csvfiles.tgz -O imdb/vldb2015/csvfiles.tgz\n",
        "    #!cd imdb/vldb2015 && tar zxf csvfiles.tgz && rm csvfiles.tgz\n",
        "    #dir = 'imdb//vldb2015/csvfiles/'\n",
        "\n",
        "    ## Effacer dataset complet\n",
        "    #!cd \n",
        "    #!ls imdb\n",
        "    #!rm -rf imdb/csvfiles\n",
        "\n",
        "    # un sample basé sur 1% des films\n",
        "    !wget {PUBLIC_DATASET}/imdb/vldb2015/csvfiles_sample001.tgz -O {DATASET_DIR}/imdb/vldb2015/csvfiles_sample001.tgz\n",
        "    !cd {DATASET_DIR}/imdb/vldb2015 && tar zxf csvfiles_sample001.tgz && rm csvfiles_sample001.tgz\n",
        "    print(\"dataset téléchargé\")"
      ],
      "execution_count": null,
      "outputs": [
        {
          "output_type": "stream",
          "text": [
            "--2019-11-21 14:42:07--  https://nuage.lip6.fr/s/PQM3RgR4FRnMPQ9/download?path=/imdb/vldb2015/csvfiles_sample001.tgz\n",
            "Resolving nuage.lip6.fr (nuage.lip6.fr)... 132.227.201.11\n",
            "Connecting to nuage.lip6.fr (nuage.lip6.fr)|132.227.201.11|:443... connected.\n",
            "HTTP request sent, awaiting response... 200 OK\n",
            "Length: 73571656 (70M) [application/x-compressed]\n",
            "Saving to: ‘/content/imdb/vldb2015/csvfiles_sample001.tgz’\n",
            "\n",
            "/content/imdb/vldb2 100%[===================>]  70.16M  52.9MB/s    in 1.3s    \n",
            "\n",
            "2019-11-21 14:42:08 (52.9 MB/s) - ‘/content/imdb/vldb2015/csvfiles_sample001.tgz’ saved [73571656/73571656]\n",
            "\n",
            "dataset téléchargé\n"
          ],
          "name": "stdout"
        }
      ]
    },
    {
      "cell_type": "markdown",
      "metadata": {
        "id": "ejTe20jfGkfn"
      },
      "source": [
        "### Movielens"
      ]
    },
    {
      "cell_type": "code",
      "metadata": {
        "id": "s0dMfbcaAqTA",
        "colab": {
          "base_uri": "https://localhost:8080/",
          "height": 323
        },
        "outputId": "13d816f3-e88c-4952-b622-4855dcae5e64"
      },
      "source": [
        "if EXECUTION == 'ppti' :\n",
        "  !ls -ld {DATASET_DIR}/movielens\n",
        "else :\n",
        "  if (path.isdir(DATASET_DIR+\"/movielens\")):\n",
        "    print(DATASET_DIR+\"/movielens exists.\")\n",
        "  else:\n",
        "    !mkdir -p {DATASET_DIR}/movielens\n",
        "    !wget {PUBLIC_DATASET}/movielens/ml-latest-small.zip -O {DATASET_DIR}/movielens/ml-latest-small.zip\n",
        "    !cd {DATASET_DIR}/movielens && unzip ml-latest-small.zip  && rm ml-latest-small.zip\n",
        "    print(\"dataset movielens téléchargé\")"
      ],
      "execution_count": null,
      "outputs": [
        {
          "output_type": "stream",
          "text": [
            "--2019-11-21 14:42:18--  https://nuage.lip6.fr/s/PQM3RgR4FRnMPQ9/download?path=/movielens/ml-latest-small.zip\n",
            "Resolving nuage.lip6.fr (nuage.lip6.fr)... 132.227.201.11\n",
            "Connecting to nuage.lip6.fr (nuage.lip6.fr)|132.227.201.11|:443... connected.\n",
            "HTTP request sent, awaiting response... 200 OK\n",
            "Length: 932435 (911K) [application/zip]\n",
            "Saving to: ‘/content/movielens/ml-latest-small.zip’\n",
            "\n",
            "\r          /content/   0%[                    ]       0  --.-KB/s               \r/content/movielens/ 100%[===================>] 910.58K  --.-KB/s    in 0.08s   \n",
            "\n",
            "2019-11-21 14:42:19 (11.7 MB/s) - ‘/content/movielens/ml-latest-small.zip’ saved [932435/932435]\n",
            "\n",
            "Archive:  ml-latest-small.zip\n",
            "  inflating: ml-latest-small/links.csv  \n",
            "  inflating: ml-latest-small/movies.csv  \n",
            "  inflating: ml-latest-small/ratings.csv  \n",
            "  inflating: ml-latest-small/README.txt  \n",
            "  inflating: ml-latest-small/tags.csv  \n",
            "dataset movielens téléchargé\n"
          ],
          "name": "stdout"
        }
      ]
    },
    {
      "cell_type": "markdown",
      "metadata": {
        "id": "YTuBkS5z8Qaq"
      },
      "source": [
        "télécharger la définition des tables imdb"
      ]
    },
    {
      "cell_type": "code",
      "metadata": {
        "id": "i4_PtZSK8VZv",
        "colab": {
          "base_uri": "https://localhost:8080/",
          "height": 204
        },
        "outputId": "ed8db7ca-9ea0-41ca-928b-f58d48750241"
      },
      "source": [
        "if EXECUTION == 'ppti':\n",
        "  !cp {DATASET_DIR}/imdb/vldb2015/tables_imdb.py tables_imdb.py\n",
        "else:\n",
        "  if (path.isfile(\"tables_imdb.py\")):\n",
        "    print(\"tables_imdb.py exists.\")\n",
        "  else:\n",
        "    !wget {PUBLIC_DATASET}/imdb/vldb2015/tables_imdb.py -O tables_imdb.py"
      ],
      "execution_count": null,
      "outputs": [
        {
          "output_type": "stream",
          "text": [
            "--2019-11-21 14:43:10--  https://nuage.lip6.fr/s/PQM3RgR4FRnMPQ9/download?path=/imdb/vldb2015/tables_imdb.py\n",
            "Resolving nuage.lip6.fr (nuage.lip6.fr)... 132.227.201.11\n",
            "Connecting to nuage.lip6.fr (nuage.lip6.fr)|132.227.201.11|:443... connected.\n",
            "HTTP request sent, awaiting response... 200 OK\n",
            "Length: 4706 (4.6K) [text/x-python]\n",
            "Saving to: ‘tables_imdb.py’\n",
            "\n",
            "\rtables_imdb.py        0%[                    ]       0  --.-KB/s               \rtables_imdb.py      100%[===================>]   4.60K  --.-KB/s    in 0.002s  \n",
            "\n",
            "2019-11-21 14:43:11 (2.13 MB/s) - ‘tables_imdb.py’ saved [4706/4706]\n",
            "\n"
          ],
          "name": "stdout"
        }
      ]
    },
    {
      "cell_type": "markdown",
      "metadata": {
        "id": "r0YUKOgNj5To"
      },
      "source": [
        "### IMDB 2019"
      ]
    },
    {
      "cell_type": "code",
      "metadata": {
        "id": "wPbyg8ehjocv",
        "colab": {
          "base_uri": "https://localhost:8080/",
          "height": 595
        },
        "outputId": "026079d1-9d22-4fe2-d444-880f36c29d60"
      },
      "source": [
        "if EXECUTION == 'ppti' :\n",
        "  !ls -ld {DATASET_DIR}/imdb/complete\n",
        "  \n",
        "else :\n",
        "  if (path.isdir(DATASET_DIR+\"/imdb/complete\")):\n",
        "    print(DATASET_DIR+\"/imdb/complete exists.\")\n",
        "  else:\n",
        "    !mkdir -p {DATASET_DIR}/imdb/complete\n",
        "    # les donnees entières \n",
        "    # !wget https://datasets.imdbws.com/name.basics.tsv.gz -O imdb/complete/name.basics.tsv.gz\n",
        "    !wget https://datasets.imdbws.com/title.akas.tsv.gz -O imdb/complete/title.akas.tsv.gz\n",
        "    !wget https://datasets.imdbws.com/title.basics.tsv.gz -O imdb/complete/title.basics.tsv.gz\n",
        "    # !wget https://datasets.imdbws.com/title.crew.tsv.gz -O imdb/complete/title.crew.tsv.gz\n",
        "    # !wget https://datasets.imdbws.com/title.episode.tsv.gz -O imdb/complete/title.episode.tsv.gz\n",
        "    # !wget https://datasets.imdbws.com/title.principals.tsv.gz -O imdb/complete/title.principals.tsv.gz\n",
        "    !wget https://datasets.imdbws.com/title.ratings.tsv.gz -O imdb/complete/title.ratings.tsv.gz\n",
        "    !cd imdb/complete && gunzip *.gz \n",
        "    dir = 'imdb/complete/csvfiles/'\n",
        "\n",
        "    ## Effacer dataset complet\n",
        "    #!cd \n",
        "    #!ls imdb\n",
        "    #!rm -rf imdb/csvfiles\n",
        "\n",
        "    print(\"dataset téléchargé\")"
      ],
      "execution_count": null,
      "outputs": [
        {
          "output_type": "stream",
          "text": [
            "--2019-11-21 14:42:44--  https://datasets.imdbws.com/title.akas.tsv.gz\n",
            "Resolving datasets.imdbws.com (datasets.imdbws.com)... 143.204.101.38, 143.204.101.28, 143.204.101.122, ...\n",
            "Connecting to datasets.imdbws.com (datasets.imdbws.com)|143.204.101.38|:443... connected.\n",
            "HTTP request sent, awaiting response... 200 OK\n",
            "Length: 165944562 (158M) [binary/octet-stream]\n",
            "Saving to: ‘imdb/complete/title.akas.tsv.gz’\n",
            "\n",
            "imdb/complete/title 100%[===================>] 158.26M  45.7MB/s    in 3.8s    \n",
            "\n",
            "2019-11-21 14:42:48 (41.7 MB/s) - ‘imdb/complete/title.akas.tsv.gz’ saved [165944562/165944562]\n",
            "\n",
            "--2019-11-21 14:42:51--  https://datasets.imdbws.com/title.basics.tsv.gz\n",
            "Resolving datasets.imdbws.com (datasets.imdbws.com)... 143.204.101.38, 143.204.101.28, 143.204.101.122, ...\n",
            "Connecting to datasets.imdbws.com (datasets.imdbws.com)|143.204.101.38|:443... connected.\n",
            "HTTP request sent, awaiting response... 200 OK\n",
            "Length: 112921452 (108M) [binary/octet-stream]\n",
            "Saving to: ‘imdb/complete/title.basics.tsv.gz’\n",
            "\n",
            "imdb/complete/title 100%[===================>] 107.69M  40.6MB/s    in 2.7s    \n",
            "\n",
            "2019-11-21 14:42:54 (40.6 MB/s) - ‘imdb/complete/title.basics.tsv.gz’ saved [112921452/112921452]\n",
            "\n",
            "--2019-11-21 14:42:55--  https://datasets.imdbws.com/title.ratings.tsv.gz\n",
            "Resolving datasets.imdbws.com (datasets.imdbws.com)... 143.204.101.38, 143.204.101.28, 143.204.101.122, ...\n",
            "Connecting to datasets.imdbws.com (datasets.imdbws.com)|143.204.101.38|:443... connected.\n",
            "HTTP request sent, awaiting response... 200 OK\n",
            "Length: 4906172 (4.7M) [binary/octet-stream]\n",
            "Saving to: ‘imdb/complete/title.ratings.tsv.gz’\n",
            "\n",
            "imdb/complete/title 100%[===================>]   4.68M  --.-KB/s    in 0.1s    \n",
            "\n",
            "2019-11-21 14:42:55 (40.8 MB/s) - ‘imdb/complete/title.ratings.tsv.gz’ saved [4906172/4906172]\n",
            "\n",
            "dataset téléchargé\n"
          ],
          "name": "stdout"
        }
      ]
    },
    {
      "cell_type": "markdown",
      "metadata": {
        "id": "b48RFAkz0fIK"
      },
      "source": [
        "## Démarrer la session spark"
      ]
    },
    {
      "cell_type": "code",
      "metadata": {
        "id": "UGN1-AH40fIM",
        "colab": {
          "base_uri": "https://localhost:8080/",
          "height": 238
        },
        "outputId": "a4755ad3-9a02-4ebe-a487-d0aa1b2d0a13"
      },
      "source": [
        "from demarrer_spark import demarrer_spark\n",
        "\n",
        "spark = demarrer_spark()"
      ],
      "execution_count": null,
      "outputs": [
        {
          "output_type": "stream",
          "text": [
            "les dossiers contenant les packages\n",
            "\n",
            "/env/python\n",
            "/usr/lib/python36.zip\n",
            "/usr/lib/python3.6\n",
            "/usr/lib/python3.6/lib-dynload\n",
            "/usr/local/lib/python3.6/dist-packages\n",
            "/usr/lib/python3/dist-packages\n",
            "/usr/local/lib/python3.6/dist-packages/IPython/extensions\n",
            "/root/.ipython\n",
            "findspark.init() initialise les variables d'environnement pour spark\n",
            "import fait\n",
            "session démarrée, son id est  local-1574347578926\n"
          ],
          "name": "stdout"
        }
      ]
    },
    {
      "cell_type": "markdown",
      "metadata": {
        "id": "Qn9y6Qmd0fIS"
      },
      "source": [
        "## Définir l'accès aux fichiers de données"
      ]
    },
    {
      "cell_type": "markdown",
      "metadata": {
        "id": "VqsOkYFbOI2V"
      },
      "source": [
        "### Définition tables IMDB"
      ]
    },
    {
      "cell_type": "code",
      "metadata": {
        "id": "ZvjUlX4y05zt",
        "colab": {
          "base_uri": "https://localhost:8080/",
          "height": 34
        },
        "outputId": "258cf46d-d618-43a9-85ef-96678217ca24"
      },
      "source": [
        "from tables_imdb import lire_tables\n",
        "dir = \"{}/imdb/vldb2015/csvfiles_sample001/\".format(DATASET_DIR)\n",
        "\n",
        "title, kind_type, movie_info, info_type, cast_info, role_type, name,  \\\n",
        "person_info, movie_companies, company_name,company_type \\\n",
        "= lire_tables(spark, dir)\n",
        "\n",
        "print(\"tables définies\")"
      ],
      "execution_count": null,
      "outputs": [
        {
          "output_type": "stream",
          "text": [
            "tables définies\n"
          ],
          "name": "stdout"
        }
      ]
    },
    {
      "cell_type": "code",
      "metadata": {
        "id": "6RX5z18g0fIV",
        "colab": {
          "base_uri": "https://localhost:8080/",
          "height": 34
        },
        "outputId": "148190eb-3cb8-49ef-9a3d-8fddcfa8a71b"
      },
      "source": [
        "title.count()"
      ],
      "execution_count": null,
      "outputs": [
        {
          "output_type": "execute_result",
          "data": {
            "text/plain": [
              "25084"
            ]
          },
          "metadata": {
            "tags": []
          },
          "execution_count": 11
        }
      ]
    },
    {
      "cell_type": "markdown",
      "metadata": {
        "id": "08B8e3fGGtW9"
      },
      "source": [
        "### Définition tables Movielens"
      ]
    },
    {
      "cell_type": "code",
      "metadata": {
        "id": "KNDGs4MoFhk_",
        "colab": {
          "base_uri": "https://localhost:8080/",
          "height": 391
        },
        "outputId": "aaff682e-0725-458d-8015-72fea181b45c"
      },
      "source": [
        "    #==============\n",
        "    # Ratings\n",
        "    #==============\n",
        "    schema_ratings = \"\"\"\n",
        "          userId INT, \n",
        "          movieId INT, \n",
        "          rating FLOAT, \n",
        "          timestamp INT\n",
        "        \"\"\"\n",
        "\n",
        "    ratings = spark.read.option(\"header\",\"true\").csv(path = DATASET_DIR+\"/movielens/ml-latest-small/ratings.csv\", schema = schema_ratings).persist()\n",
        "    ratings.createOrReplaceTempView(\"Ratings\")\n",
        "    #title.printSchema()\n",
        "\n",
        "    schema_links = \"\"\"\n",
        "          movieId INT, \n",
        "          imdbId INT, \n",
        "          tmdbId INT\n",
        "        \"\"\"\n",
        "\n",
        "    links = spark.read.option(\"header\",\"true\").csv(path = DATASET_DIR+\"/movielens/ml-latest-small/links.csv\", schema = schema_links).persist()\n",
        "    links.createOrReplaceTempView(\"Links\")\n",
        "\n",
        "\n",
        "ratings.show(5)\n",
        "links.show(5)\n",
        "\n",
        "\n",
        "# charger tags et movies ...\n"
      ],
      "execution_count": null,
      "outputs": [
        {
          "output_type": "stream",
          "text": [
            "+------+-------+------+----------+\n",
            "|userId|movieId|rating| timestamp|\n",
            "+------+-------+------+----------+\n",
            "|     1|     31|   2.5|1260759144|\n",
            "|     1|   1029|   3.0|1260759179|\n",
            "|     1|   1061|   3.0|1260759182|\n",
            "|     1|   1129|   2.0|1260759185|\n",
            "|     1|   1172|   4.0|1260759205|\n",
            "+------+-------+------+----------+\n",
            "only showing top 5 rows\n",
            "\n",
            "+-------+------+------+\n",
            "|movieId|imdbId|tmdbId|\n",
            "+-------+------+------+\n",
            "|      1|114709|   862|\n",
            "|      2|113497|  8844|\n",
            "|      3|113228| 15602|\n",
            "|      4|114885| 31357|\n",
            "|      5|113041| 11862|\n",
            "+-------+------+------+\n",
            "only showing top 5 rows\n",
            "\n"
          ],
          "name": "stdout"
        }
      ]
    },
    {
      "cell_type": "code",
      "metadata": {
        "id": "XeyPNQYGMtRU"
      },
      "source": [
        "# ratings.count()\n",
        "# links.printSchema()\n"
      ],
      "execution_count": null,
      "outputs": []
    },
    {
      "cell_type": "markdown",
      "metadata": {
        "id": "KRGdHq9Rl_On"
      },
      "source": [
        "### Definition table IMDB Complete"
      ]
    },
    {
      "cell_type": "markdown",
      "metadata": {
        "id": "e-5_QAWoPGIB"
      },
      "source": [
        "https://www.imdb.com/interfaces/"
      ]
    },
    {
      "cell_type": "code",
      "metadata": {
        "id": "8Qw-GoCKYqhY",
        "colab": {
          "base_uri": "https://localhost:8080/",
          "height": 646
        },
        "outputId": "2fac8ce9-627a-4e44-cab1-15d68aecc281"
      },
      "source": [
        "    #==============\n",
        "    # Ratings\n",
        "    #==============\n",
        "    schema = \"\"\"\n",
        "          tconst STRING, \n",
        "          averageRating FLOAT, \n",
        "          numVotes INT\n",
        "        \"\"\"\n",
        "\n",
        "    imdb_ratings = spark.read.format(\"csv\").option(\"header\", \"true\").option(\"delimiter\", \"\\t\").schema(schema).load(DATASET_DIR+\"/imdb/complete/title.ratings.tsv\").persist()\n",
        "    imdb_ratings.createOrReplaceTempView(\"IMDB_Ratings\")\n",
        "    imdb_ratings.printSchema()\n",
        "\n",
        "    #==============\n",
        "    # AKAS\n",
        "    #==============\n",
        "    schema = \"\"\"\n",
        "          titleId STRING, \n",
        "          ordering INT, \n",
        "          title STRING,\n",
        "          region STRING,\n",
        "          language STRING,\n",
        "          types STRING,\n",
        "          attributes STRING,\n",
        "          isOriginalkTitle INT\n",
        "        \"\"\"\n",
        "\n",
        "    imdb_akas = spark.read.format(\"csv\").option(\"header\", \"true\").option(\"delimiter\", \"\\t\").schema(schema).load(DATASET_DIR+\"/imdb/complete/title.akas.tsv\").persist()\n",
        "    imdb_akas.createOrReplaceTempView(\"IMDB_Akas\")\n",
        "    imdb_akas.printSchema()\n",
        "\n",
        "    imdb_ratings.show(5)\n",
        "    imdb_akas.show(5)"
      ],
      "execution_count": null,
      "outputs": [
        {
          "output_type": "stream",
          "text": [
            "root\n",
            " |-- tconst: string (nullable = true)\n",
            " |-- averageRating: float (nullable = true)\n",
            " |-- numVotes: integer (nullable = true)\n",
            "\n",
            "root\n",
            " |-- titleId: string (nullable = true)\n",
            " |-- ordering: integer (nullable = true)\n",
            " |-- title: string (nullable = true)\n",
            " |-- region: string (nullable = true)\n",
            " |-- language: string (nullable = true)\n",
            " |-- types: string (nullable = true)\n",
            " |-- attributes: string (nullable = true)\n",
            " |-- isOriginalkTitle: integer (nullable = true)\n",
            "\n",
            "+---------+-------------+--------+\n",
            "|   tconst|averageRating|numVotes|\n",
            "+---------+-------------+--------+\n",
            "|tt0000001|          5.6|    1550|\n",
            "|tt0000002|          6.1|     186|\n",
            "|tt0000003|          6.5|    1207|\n",
            "|tt0000004|          6.2|     113|\n",
            "|tt0000005|          6.1|    1934|\n",
            "+---------+-------------+--------+\n",
            "only showing top 5 rows\n",
            "\n",
            "+---------+--------+--------------------+------+--------+-----------+----------+----------------+\n",
            "|  titleId|ordering|               title|region|language|      types|attributes|isOriginalkTitle|\n",
            "+---------+--------+--------------------+------+--------+-----------+----------+----------------+\n",
            "|tt0000001|       1|Carmencita - span...|    HU|      \\N|imdbDisplay|        \\N|               0|\n",
            "|tt0000001|       2|          Καρμενσίτα|    GR|      \\N|         \\N|        \\N|               0|\n",
            "|tt0000001|       3|          Карменсита|    RU|      \\N|         \\N|        \\N|               0|\n",
            "|tt0000001|       4|          Carmencita|    US|      \\N|         \\N|        \\N|               0|\n",
            "|tt0000001|       5|          Carmencita|    \\N|      \\N|   original|        \\N|               1|\n",
            "+---------+--------+--------------------+------+--------+-----------+----------+----------------+\n",
            "only showing top 5 rows\n",
            "\n"
          ],
          "name": "stdout"
        }
      ]
    },
    {
      "cell_type": "markdown",
      "metadata": {
        "id": "ynROz_jrY_b4"
      },
      "source": [
        ""
      ]
    },
    {
      "cell_type": "code",
      "metadata": {
        "id": "AmZaFZWNl91y",
        "colab": {
          "base_uri": "https://localhost:8080/",
          "height": 129
        },
        "outputId": "f4335bef-a60a-4297-a27f-466da32d691a"
      },
      "source": [
        "     \n",
        "   \n",
        "\n",
        "\n",
        "    schema = \"\"\"\n",
        "          tconst STRING, \n",
        "          titleType STRING,\n",
        "          primaryTitle STRING,\n",
        "          originalTitle STRING,\n",
        "          isAdult INT,\n",
        "          startYear INT,\n",
        "          endYear INT,\n",
        "          runtimeMinutes INT,\n",
        "          genres STRING\n",
        "        \"\"\"\n",
        "\n",
        "    imdb_basics = spark.read.format(\"csv\").option(\"header\", \"true\").option(\"delimiter\", \"\\t\").schema(schema).load(DATASET_DIR+\"/imdb/complete/title.basics.tsv\").persist()\n",
        "    imdb_basics.createOrReplaceTempView(\"IMDB_Basics\")\n",
        "    imdb_basics.printSchema()\n",
        "\n",
        "    \n",
        "    imdb_basics.show(5)\n",
        "\n",
        "   \n",
        "    "
      ],
      "execution_count": null,
      "outputs": [
        {
          "output_type": "error",
          "ename": "IndentationError",
          "evalue": "ignored",
          "traceback": [
            "\u001b[0;36m  File \u001b[0;32m\"<ipython-input-14-e9d958504abd>\"\u001b[0;36m, line \u001b[0;32m5\u001b[0m\n\u001b[0;31m    schema = \"\"\"\u001b[0m\n\u001b[0m    ^\u001b[0m\n\u001b[0;31mIndentationError\u001b[0m\u001b[0;31m:\u001b[0m unexpected indent\n"
          ]
        }
      ]
    },
    {
      "cell_type": "code",
      "metadata": {
        "id": "l3U0__AgXVL3",
        "colab": {
          "base_uri": "https://localhost:8080/",
          "height": 36
        },
        "outputId": "3a6eaa45-cb79-4356-8f64-e089f90988d7"
      },
      "source": [
        "ml_ratings.count()"
      ],
      "execution_count": null,
      "outputs": [
        {
          "output_type": "execute_result",
          "data": {
            "text/plain": [
              "100004"
            ]
          },
          "metadata": {
            "tags": []
          },
          "execution_count": 16
        }
      ]
    },
    {
      "cell_type": "code",
      "metadata": {
        "id": "Og2LtoYBO8TI",
        "colab": {
          "base_uri": "https://localhost:8080/",
          "height": 129
        },
        "outputId": "02eddd05-5c07-44b5-b3e1-0884e300b3a7"
      },
      "source": [
        "ml_ratings.printSchema()"
      ],
      "execution_count": null,
      "outputs": [
        {
          "output_type": "stream",
          "text": [
            "root\n",
            " |-- user_id: integer (nullable = true)\n",
            " |-- movieId: integer (nullable = true)\n",
            " |-- rating: float (nullable = true)\n",
            " |-- timestamp: integer (nullable = true)\n",
            "\n"
          ],
          "name": "stdout"
        }
      ]
    },
    {
      "cell_type": "markdown",
      "metadata": {
        "id": "d3SuGprmuOUq"
      },
      "source": [
        "# Fenêtres: OVER(...)"
      ]
    },
    {
      "cell_type": "markdown",
      "metadata": {
        "id": "QryhkricVNzd"
      },
      "source": [
        "## Table des films avec année et durée "
      ]
    },
    {
      "cell_type": "markdown",
      "metadata": {
        "id": "MeDV78gEukOi"
      },
      "source": [
        "Table servant de base pour les exemples de calculs sur des fenètres. On peut utiliser la clause WITH pour définir une requête à partir d'une autre requête"
      ]
    },
    {
      "cell_type": "code",
      "metadata": {
        "id": "RkULc93_QfQF",
        "colab": {
          "base_uri": "https://localhost:8080/",
          "height": 306
        },
        "outputId": "67bae2e1-439b-4642-b902-bde94b09303a"
      },
      "source": [
        "titleWithRuntime = spark.sql(\"\"\"\n",
        "WITH T1 as (\n",
        "  select t.id, t.title, t.production_year, cast(regexp_extract(m.info, '(\\\\\\d+)') as int) as runtime\n",
        "  from Title t, Movie_info m, Info_type i\n",
        "  where t.id = m.movie_id and m.info_type_id = i.id\n",
        "  and i.info = 'runtimes'\n",
        "  )\n",
        "  \n",
        "select id, title, t.production_year, max(runtime) as runtime\n",
        "from  T1 t\n",
        "group by id, title, t.production_year\n",
        "  \n",
        "\"\"\")\n",
        "titleWithRuntime.createOrReplaceTempView('TitleWithRuntime')\n",
        "\n",
        "titleWithRuntime.printSchema()\n",
        "titleWithRuntime.show(5)"
      ],
      "execution_count": null,
      "outputs": [
        {
          "output_type": "stream",
          "text": [
            "root\n",
            " |-- id: integer (nullable = true)\n",
            " |-- title: string (nullable = true)\n",
            " |-- production_year: integer (nullable = true)\n",
            " |-- runtime: integer (nullable = true)\n",
            "\n",
            "+------+--------------------+---------------+-------+\n",
            "|    id|               title|production_year|runtime|\n",
            "+------+--------------------+---------------+-------+\n",
            "|  9005|Day 8: 7:00 p.m.-...|           2010|     45|\n",
            "| 54523|Mother-in-Law: Pa...|           1976|     30|\n",
            "| 78022|An Evening at Hom...|           1951|     30|\n",
            "|121444|Bentley's Economy...|           1959|     30|\n",
            "|124831|Balash Be-Yerusha...|           1997|    300|\n",
            "+------+--------------------+---------------+-------+\n",
            "only showing top 5 rows\n",
            "\n"
          ],
          "name": "stdout"
        }
      ]
    },
    {
      "cell_type": "markdown",
      "metadata": {
        "id": "oCELL1qluC2z"
      },
      "source": [
        "## Fenêtre globale"
      ]
    },
    {
      "cell_type": "markdown",
      "metadata": {
        "id": "YkUEGSF0vlMs"
      },
      "source": [
        "### Rang des films par durée décroissante, classement général sur tous les films"
      ]
    },
    {
      "cell_type": "code",
      "metadata": {
        "id": "UG2Zd2AmuCPx",
        "colab": {
          "base_uri": "https://localhost:8080/",
          "height": 459
        },
        "outputId": "bb3c6943-d3d3-4fa1-9cb5-f28a00472e33"
      },
      "source": [
        "classementParDuree = spark.sql(\"\"\"\n",
        "select t.*, rank() over (order by runtime desc) as classement\n",
        "from TitleWithRuntime t\n",
        "  \n",
        "\"\"\")\n",
        "classementParDuree.createOrReplaceTempView(\"ClassementParDuree\")\n",
        "\n",
        "classementParDuree.show(20)"
      ],
      "execution_count": null,
      "outputs": [
        {
          "output_type": "stream",
          "text": [
            "+-------+--------------------+---------------+-------+----------+\n",
            "|     id|               title|production_year|runtime|classement|\n",
            "+-------+--------------------+---------------+-------+----------+\n",
            "|1820745|Der Stammbaum des...|           1939|    821|         1|\n",
            "|1438422|The Unanswered Qu...|           1976|    793|         2|\n",
            "|1064254|John Safran Guest...|           2010|    720|         3|\n",
            "|1064275|Multi-coloured Ra...|           2004|    720|         3|\n",
            "|1195181|            Stacyjka|           2004|    700|         5|\n",
            "|1280982|The Beatles Antho...|           1995|    600|         6|\n",
            "|  65477|  Amanti e segreti 2|           2005|    400|         7|\n",
            "|1236852|       Taglia e cuci|           2008|    390|         8|\n",
            "| 635705|Il romanzo di un ...|           1957|    360|         9|\n",
            "| 980644|   Our Mutual Friend|           1976|    350|        10|\n",
            "| 494477|France/tour/detou...|           1977|    312|        11|\n",
            "|1092124|       Rodina zhdyot|           2003|    312|        11|\n",
            "| 124831|Balash Be-Yerusha...|           1997|    300|        13|\n",
            "|  20594|    A carte scoperte|           1974|    300|        13|\n",
            "| 591216|        HLN News Now|           2010|    300|        13|\n",
            "|1401629|The Private Life ...|           1995|    292|        16|\n",
            "| 531219| Gniewko, syn rybaka|           1969|    286|        17|\n",
            "|2238874|Remu & Hurriganes...|           2007|    278|        18|\n",
            "|1980087|        In Like Timo|           2010|    275|        19|\n",
            "|1694990|           Arlington|           2011|    275|        19|\n",
            "+-------+--------------------+---------------+-------+----------+\n",
            "only showing top 20 rows\n",
            "\n"
          ],
          "name": "stdout"
        }
      ]
    },
    {
      "cell_type": "markdown",
      "metadata": {
        "id": "rCMnfkjSv8PM"
      },
      "source": [
        "### Exemple d'ex-aequos"
      ]
    },
    {
      "cell_type": "code",
      "metadata": {
        "id": "zM0fDYaVPmuN",
        "colab": {
          "base_uri": "https://localhost:8080/",
          "height": 289
        },
        "outputId": "b4192934-40b6-4597-c605-2e2160d1ae0e"
      },
      "source": [
        "exempleExAequos = spark.sql(\"\"\"\n",
        "select * \n",
        "from ClassementParDuree\n",
        "where classement in (\n",
        "  select classement\n",
        "  from ClassementParDuree\n",
        "  group by classement\n",
        "  having count(*) >1\n",
        "  )\n",
        "order by classement\n",
        "\"\"\")\n",
        "\n",
        "exempleExAequos.show(10)"
      ],
      "execution_count": null,
      "outputs": [
        {
          "output_type": "stream",
          "text": [
            "+-------+--------------------+---------------+-------+----------+\n",
            "|     id|               title|production_year|runtime|classement|\n",
            "+-------+--------------------+---------------+-------+----------+\n",
            "|1064254|John Safran Guest...|           2010|    720|         3|\n",
            "|1064275|Multi-coloured Ra...|           2004|    720|         3|\n",
            "| 494477|France/tour/detou...|           1977|    312|        11|\n",
            "|1092124|       Rodina zhdyot|           2003|    312|        11|\n",
            "|  20594|    A carte scoperte|           1974|    300|        13|\n",
            "| 124831|Balash Be-Yerusha...|           1997|    300|        13|\n",
            "| 591216|        HLN News Now|           2010|    300|        13|\n",
            "|1980087|        In Like Timo|           2010|    275|        19|\n",
            "|1694990|           Arlington|           2011|    275|        19|\n",
            "|1325181|The English Civil...|           2001|    250|        25|\n",
            "+-------+--------------------+---------------+-------+----------+\n",
            "only showing top 10 rows\n",
            "\n"
          ],
          "name": "stdout"
        }
      ]
    },
    {
      "cell_type": "markdown",
      "metadata": {
        "id": "sc5Qizv3xbw2"
      },
      "source": [
        "### Classement dense, classement normalisé"
      ]
    },
    {
      "cell_type": "code",
      "metadata": {
        "id": "o8bcOtm1N9oA",
        "colab": {
          "base_uri": "https://localhost:8080/",
          "height": 1000
        },
        "outputId": "7e4ba794-557f-4d39-921c-65b349999d60"
      },
      "source": [
        "classementDense= spark.sql(\"\"\"\n",
        "select t.*, \n",
        "rank() over (order by runtime desc) as classementAvecExAequos,\n",
        "dense_rank() over (order by runtime desc) as classementDense,\n",
        "percent_rank() over (order by runtime desc) as classementNorm\n",
        "from TitleWithRuntime t\n",
        "\"\"\")\n",
        "classementDense.createOrReplaceTempView(\"classementDense\")\n",
        "\n",
        "classementDense.show(200,False)"
      ],
      "execution_count": null,
      "outputs": [
        {
          "output_type": "stream",
          "text": [
            "+-------+---------------------------------------------------------+---------------+-------+----------------------+---------------+---------------------+\n",
            "|id     |title                                                    |production_year|runtime|classementAvecExAequos|classementDense|classementNorm       |\n",
            "+-------+---------------------------------------------------------+---------------+-------+----------------------+---------------+---------------------+\n",
            "|1820745|Der Stammbaum des Dr. Pistorius                          |1939           |821    |1                     |1              |0.0                  |\n",
            "|1438422|The Unanswered Question: Six Talks at Harvard            |1976           |793    |2                     |2              |1.3114754098360657E-4|\n",
            "|1064254|John Safran Guest Programs Rage                          |2010           |720    |3                     |3              |2.6229508196721314E-4|\n",
            "|1064275|Multi-coloured Rage Special                              |2004           |720    |3                     |3              |2.6229508196721314E-4|\n",
            "|1195181|Stacyjka                                                 |2004           |700    |5                     |4              |5.245901639344263E-4 |\n",
            "|1280982|The Beatles Anthology                                    |1995           |600    |6                     |5              |6.557377049180328E-4 |\n",
            "|65477  |Amanti e segreti 2                                       |2005           |400    |7                     |6              |7.868852459016393E-4 |\n",
            "|1236852|Taglia e cuci                                            |2008           |390    |8                     |7              |9.180327868852459E-4 |\n",
            "|635705 |Il romanzo di un giovane povero                          |1957           |360    |9                     |8              |0.0010491803278688525|\n",
            "|980644 |Our Mutual Friend                                        |1976           |350    |10                    |9              |0.001180327868852459 |\n",
            "|494477 |France/tour/detour/deux/enfants                          |1977           |312    |11                    |10             |0.0013114754098360656|\n",
            "|1092124|Rodina zhdyot                                            |2003           |312    |11                    |10             |0.0013114754098360656|\n",
            "|124831 |Balash Be-Yerushalayim                                   |1997           |300    |13                    |11             |0.0015737704918032786|\n",
            "|20594  |A carte scoperte                                         |1974           |300    |13                    |11             |0.0015737704918032786|\n",
            "|591216 |HLN News Now                                             |2010           |300    |13                    |11             |0.0015737704918032786|\n",
            "|1401629|The Private Life of Plants                               |1995           |292    |16                    |12             |0.0019672131147540984|\n",
            "|531219 |Gniewko, syn rybaka                                      |1969           |286    |17                    |13             |0.002098360655737705 |\n",
            "|2238874|Remu & Hurriganes: Oowee-Oohla                           |2007           |278    |18                    |14             |0.0022295081967213114|\n",
            "|1980087|In Like Timo                                             |2010           |275    |19                    |15             |0.002360655737704918 |\n",
            "|1694990|Arlington                                                |2011           |275    |19                    |15             |0.002360655737704918 |\n",
            "|1365624|The Lost Boys                                            |1978           |274    |21                    |16             |0.002622950819672131 |\n",
            "|1820101|Der Prozess                                              |1984           |270    |22                    |17             |0.002754098360655738 |\n",
            "|1715504|Batman and Robin                                         |1949           |263    |23                    |18             |0.002885245901639344 |\n",
            "|2514888|Young Girls with Big Tits 2                              |2008           |258    |24                    |19             |0.003016393442622951 |\n",
            "|1325181|The English Civil War                                    |2001           |250    |25                    |20             |0.003147540983606557 |\n",
            "|1348517|The Irish Empire                                         |2000           |250    |25                    |20             |0.003147540983606557 |\n",
            "|1685488|Anal Occupation                                          |2012           |244    |27                    |21             |0.0034098360655737707|\n",
            "|2050514|Lace                                                     |1984           |240    |28                    |22             |0.003540983606557377 |\n",
            "|2244492|Ring Con 2002                                            |2002           |240    |28                    |22             |0.003540983606557377 |\n",
            "|1638564|2004 MLB All-Star Game                                   |2004           |238    |30                    |23             |0.00380327868852459  |\n",
            "|2217023|Priklyucheniya Toma Soyera i Geklberri Finna             |1981           |225    |31                    |24             |0.003934426229508197 |\n",
            "|2494011|What Happened on the Moon? - An Investigation Into Apollo|2000           |225    |31                    |24             |0.003934426229508197 |\n",
            "|2344045|The Airmail Mystery                                      |1932           |225    |31                    |24             |0.003934426229508197 |\n",
            "|2473450|Vande Mataram                                            |1939           |222    |34                    |25             |0.004327868852459016 |\n",
            "|31117  |A Última Semana                                          |1996           |220    |35                    |26             |0.004459016393442623 |\n",
            "|2020637|King of the Texas Rangers                                |1941           |215    |36                    |27             |0.0045901639344262295|\n",
            "|2436749|Tim Tyler's Luck                                         |1937           |212    |37                    |28             |0.004721311475409836 |\n",
            "|2342706|The 75th Annual Academy Awards                           |2003           |210    |38                    |29             |0.004852459016393443 |\n",
            "|770781 |Le grand Charles                                         |2006           |210    |38                    |29             |0.004852459016393443 |\n",
            "|1710726|Balaguer: La violencia del poder                         |2003           |210    |38                    |29             |0.004852459016393443 |\n",
            "|2217013|Priklyucheniya printsa Florizelya                        |1979           |206    |41                    |30             |0.005245901639344262 |\n",
            "|1931250|Gunpowder, Treason & Plot                                |2004           |205    |42                    |31             |0.005377049180327869 |\n",
            "|2217014|Priklyucheniya Sherloka Kholmsa i doktora Vatsona        |1980           |203    |43                    |32             |0.005508196721311476 |\n",
            "|2123935|Mizani                                                   |1980           |203    |43                    |32             |0.005508196721311476 |\n",
            "|2406939|The Reef Aquarium DVD: A Set Up and Maintenance Guide    |2008           |202    |45                    |33             |0.005770491803278688 |\n",
            "|1901779|Frau im Mond                                             |1929           |200    |46                    |34             |0.005901639344262295 |\n",
            "|2178823|Operazione pilota                                        |2007           |200    |46                    |34             |0.005901639344262295 |\n",
            "|1814163|Deep Purple: Total Abandon - Australia '99               |2000           |200    |46                    |34             |0.005901639344262295 |\n",
            "|1995130|Jai Bhim Comrade                                         |2011           |199    |49                    |35             |0.006295081967213114 |\n",
            "|180182 |(2011-01-05)                                             |2011           |195    |50                    |36             |0.006426229508196721 |\n",
            "|180357 |(2011-06-29)                                             |2011           |195    |50                    |36             |0.006426229508196721 |\n",
            "|179932 |(2010-03-24)                                             |2010           |195    |50                    |36             |0.006426229508196721 |\n",
            "|180449 |(2011-10-26)                                             |2011           |195    |50                    |36             |0.006426229508196721 |\n",
            "|180419 |(2011-08-30)                                             |2011           |195    |50                    |36             |0.006426229508196721 |\n",
            "|1668286|After the Deluge                                         |2003           |194    |55                    |37             |0.007081967213114754 |\n",
            "|435475 |En dåres försvarstal                                     |1976           |193    |56                    |38             |0.007213114754098361 |\n",
            "|2394815|The Mommy X-Perience 4                                   |2012           |193    |56                    |38             |0.007213114754098361 |\n",
            "|1920944|Glory Enough for All                                     |1988           |192    |58                    |39             |0.007475409836065574 |\n",
            "|2210388|Pooja                                                    |1940           |191    |59                    |40             |0.00760655737704918  |\n",
            "|1910765|Gangaa Jamunaa Saraswathi                                |1988           |187    |60                    |41             |0.007737704918032787 |\n",
            "|2031223|L'albero degli zoccoli                                   |1978           |186    |61                    |42             |0.007868852459016393 |\n",
            "|2353468|The Burden of Proof                                      |1992           |184    |62                    |43             |0.008                |\n",
            "|2452018|True Women                                               |1997           |183    |63                    |44             |0.008131147540983607 |\n",
            "|574039 |Headbangers Ball                                         |1990           |180    |64                    |45             |0.008262295081967214 |\n",
            "|1967861|I Know My First Name Is Steven                           |1989           |180    |64                    |45             |0.008262295081967214 |\n",
            "|2133443|MTV 1st Annual Video Music Awards                        |1984           |180    |64                    |45             |0.008262295081967214 |\n",
            "|2158071|Nobile - Sieben Wochen auf dem Eis                       |1967           |180    |64                    |45             |0.008262295081967214 |\n",
            "|2459575|Ultimo 2 - La sfida                                      |1999           |180    |64                    |45             |0.008262295081967214 |\n",
            "|179894 |(2010-02-14)                                             |2010           |180    |64                    |45             |0.008262295081967214 |\n",
            "|2357669|The Commander: Blacklight                                |2006           |180    |64                    |45             |0.008262295081967214 |\n",
            "|180088 |(2010-08-29)                                             |2010           |180    |64                    |45             |0.008262295081967214 |\n",
            "|1952877|Hitlers Krieg im Osten                                   |2000           |180    |64                    |45             |0.008262295081967214 |\n",
            "|2145040|Napoleon Fritz                                           |1997           |180    |64                    |45             |0.008262295081967214 |\n",
            "|1565838|(#1.119)                                                 |1997           |180    |64                    |45             |0.008262295081967214 |\n",
            "|1800855|Dalla notte all'alba                                     |1992           |180    |64                    |45             |0.008262295081967214 |\n",
            "|146730 |BET's Top 25 Countdown                                   |2001           |180    |64                    |45             |0.008262295081967214 |\n",
            "|1941190|He Touched Me: The Gospel Music of Elvis Presley         |2000           |180    |64                    |45             |0.008262295081967214 |\n",
            "|2296661|Snow Queen                                               |2002           |180    |64                    |45             |0.008262295081967214 |\n",
            "|412272 |El Dorado                                                |2010           |180    |64                    |45             |0.008262295081967214 |\n",
            "|475206 |FBi                                                      |2000           |180    |64                    |45             |0.008262295081967214 |\n",
            "|862536 |Messiah: The Promise                                     |2004           |180    |64                    |45             |0.008262295081967214 |\n",
            "|1519618|Un domingo cualquiera                                    |2003           |180    |64                    |45             |0.008262295081967214 |\n",
            "|1977738|Im Schatten der Macht                                    |2003           |180    |64                    |45             |0.008262295081967214 |\n",
            "|2458656|UFC 64: Unstoppable                                      |2006           |180    |64                    |45             |0.008262295081967214 |\n",
            "|1873484|Especial Nochevieja 1980: Feliz 1981                     |1981           |180    |64                    |45             |0.008262295081967214 |\n",
            "|2038292|La contessa di Castiglione                               |2006           |180    |64                    |45             |0.008262295081967214 |\n",
            "|1565892|(#1.168)                                                 |1998           |180    |64                    |45             |0.008262295081967214 |\n",
            "|2278619|Shaka Zulu: The Citadel                                  |2001           |179    |88                    |46             |0.01140983606557377  |\n",
            "|1788337|Coolie                                                   |1983           |177    |89                    |47             |0.011540983606557377 |\n",
            "|1997993|Jeanne la Pucelle II - Les prisons                       |1994           |176    |90                    |48             |0.011672131147540983 |\n",
            "|2488279|Warriors                                                 |1999           |175    |91                    |49             |0.01180327868852459  |\n",
            "|1890396|Final Demand                                             |2003           |175    |91                    |49             |0.01180327868852459  |\n",
            "|1977650|Im Lauf der Zeit                                         |1976           |175    |91                    |49             |0.01180327868852459  |\n",
            "|2157676|No Swallowing Allowed 2                                  |2004           |175    |91                    |49             |0.01180327868852459  |\n",
            "|1998135|Jedermanns Fest                                          |2002           |173    |95                    |50             |0.012327868852459017 |\n",
            "|1741444|Boris Godounov                                           |1980           |172    |96                    |51             |0.012459016393442624 |\n",
            "|2510177|Yaadein...                                               |2001           |171    |97                    |52             |0.012590163934426229 |\n",
            "|749170 |La talpa                                                 |2004           |170    |98                    |53             |0.012721311475409836 |\n",
            "|1784658|Common Ground                                            |1990           |170    |98                    |53             |0.012721311475409836 |\n",
            "|2100295|Manchester United: The Official History 1878-2002        |2002           |170    |98                    |53             |0.012721311475409836 |\n",
            "|2272384|Selected Shorts #6: The Best Flemish Shorts of 2006      |2007           |170    |98                    |53             |0.012721311475409836 |\n",
            "|1869191|Engeki 2                                                 |2012           |170    |98                    |53             |0.012721311475409836 |\n",
            "|897804 |The TV Asahi 50th Anniversary Program                    |2009           |168    |103                   |54             |0.01337704918032787  |\n",
            "|2333124|Tape (Jiao Dai)                                          |2010           |168    |103                   |54             |0.01337704918032787  |\n",
            "|2148771|Nehru: The Jewel of India                                |1990           |165    |105                   |55             |0.013639344262295083 |\n",
            "|1843767|DP Fanatics 4                                            |2007           |165    |105                   |55             |0.013639344262295083 |\n",
            "|2218600|Private Gold 87: Hi-Speed Sex                            |2007           |165    |105                   |55             |0.013639344262295083 |\n",
            "|2114098|Mere Apne                                                |1971           |164    |108                   |56             |0.014032786885245901 |\n",
            "|123403 |Bag of Bones                                             |2011           |163    |109                   |57             |0.014163934426229508 |\n",
            "|1979399|In Bed with Spike                                        |2006           |161    |110                   |58             |0.014295081967213115 |\n",
            "|1990260|Ishq                                                     |2012           |160    |111                   |59             |0.014426229508196721 |\n",
            "|2352942|The Broke Director                                       |2007           |160    |111                   |59             |0.014426229508196721 |\n",
            "|2173311|On Location: Costa del Sol                               |2003           |160    |111                   |59             |0.014426229508196721 |\n",
            "|2212919|Post YMO                                                 |2009           |159    |114                   |60             |0.014819672131147541 |\n",
            "|2288570|Simon Boccanegra                                         |1985           |158    |115                   |61             |0.014950819672131148 |\n",
            "|1916294|Ghatak: Lethal                                           |1996           |158    |115                   |61             |0.014950819672131148 |\n",
            "|1801054|Damarukam                                                |2012           |157    |117                   |62             |0.01521311475409836  |\n",
            "|1669173|Agent Vinod                                              |2012           |157    |117                   |62             |0.01521311475409836  |\n",
            "|1691519|Any Given Sunday                                         |1999           |156    |119                   |63             |0.015475409836065573 |\n",
            "|2270245|Secret Passions                                          |2003           |156    |119                   |63             |0.015475409836065573 |\n",
            "|2182947|Out at Last 4: Bazaar                                    |2003           |155    |121                   |64             |0.015737704918032787 |\n",
            "|2140529|Mysterious Prison                                        |2013           |155    |121                   |64             |0.015737704918032787 |\n",
            "|2134468|Mukti                                                    |1937           |155    |121                   |64             |0.015737704918032787 |\n",
            "|1821083|Der Traum der bleibt                                     |1997           |155    |121                   |64             |0.015737704918032787 |\n",
            "|2387055|The Lion of Punjab                                       |2011           |155    |121                   |64             |0.015737704918032787 |\n",
            "|1729297|Billy Jack Goes to Washington                            |1977           |155    |121                   |64             |0.015737704918032787 |\n",
            "|1727924|Big Tit Anal Whores                                      |2005           |155    |121                   |64             |0.015737704918032787 |\n",
            "|2276611|Sex, Death & The Hollywood Mystique                      |1999           |155    |121                   |64             |0.015737704918032787 |\n",
            "|2215526|Premaloka                                                |1987           |154    |129                   |65             |0.01678688524590164  |\n",
            "|2141379|Médée                                                    |1996           |153    |130                   |66             |0.016918032786885247 |\n",
            "|2017714|Khoon Da Daaj                                            |1998           |153    |130                   |66             |0.016918032786885247 |\n",
            "|1995050|Jagte Raho                                               |1956           |153    |130                   |66             |0.016918032786885247 |\n",
            "|2131054|Mouna guru                                               |2011           |153    |130                   |66             |0.016918032786885247 |\n",
            "|1738452|Bodacious Boobies 2                                      |2009           |153    |130                   |66             |0.016918032786885247 |\n",
            "|1760593|Carmen                                                   |2007           |152    |135                   |67             |0.017573770491803278 |\n",
            "|2335950|Teen Pink 4                                              |2011           |151    |136                   |68             |0.017704918032786884 |\n",
            "|578259 |Hello Hollywood, qui Broadway!                           |1980           |150    |137                   |69             |0.01783606557377049  |\n",
            "|1707869|Back Seat Bangers Vol. 5                                 |2005           |150    |137                   |69             |0.01783606557377049  |\n",
            "|2182606|Our Longest Drive                                        |2012           |150    |137                   |69             |0.01783606557377049  |\n",
            "|1724343|Beverley Knight Live in Concert                          |2010           |150    |137                   |69             |0.01783606557377049  |\n",
            "|2239708|Reporter                                                 |1994           |150    |137                   |69             |0.01783606557377049  |\n",
            "|2509733|XVI premios Goya                                         |2002           |150    |137                   |69             |0.01783606557377049  |\n",
            "|793125 |Pension Fund Benefit Concert                             |1980           |150    |137                   |69             |0.01783606557377049  |\n",
            "|2504586|Woh Tera Naam Tha                                        |2004           |150    |137                   |69             |0.01783606557377049  |\n",
            "|605933 |Stopover                                                 |1976           |150    |137                   |69             |0.01783606557377049  |\n",
            "|2457115|Tyazhyolyy pesok                                         |2008           |150    |137                   |69             |0.01783606557377049  |\n",
            "|2256094|Saattai                                                  |2012           |150    |137                   |69             |0.01783606557377049  |\n",
            "|1883919|Farlig frestelse                                         |2004           |150    |137                   |69             |0.01783606557377049  |\n",
            "|1984521|Iniciando Parejas Vol.3                                  |2010           |150    |137                   |69             |0.01783606557377049  |\n",
            "|2263451|Saturday Night Sleazies, Vol. 3                          |1991           |150    |137                   |69             |0.01783606557377049  |\n",
            "|2474561|Vechivunta                                               |2001           |150    |137                   |69             |0.01783606557377049  |\n",
            "|1925116|Gopi Gopika Godavari                                     |2009           |150    |137                   |69             |0.01783606557377049  |\n",
            "|2069308|Les sept péchés capitaux                                 |1952           |148    |153                   |70             |0.019934426229508195 |\n",
            "|899182 |Muutoksen vuosikymmenet                                  |1975           |147    |154                   |71             |0.020065573770491802 |\n",
            "|2230326|Raiders of the River                                     |1956           |147    |154                   |71             |0.020065573770491802 |\n",
            "|1527127|Finale                                                   |2010           |147    |154                   |71             |0.020065573770491802 |\n",
            "|2022351|Kizhakku Seemayile                                       |1993           |147    |154                   |71             |0.020065573770491802 |\n",
            "|1798928|D.P. Bitches                                             |2005           |146    |158                   |72             |0.02059016393442623  |\n",
            "|2144199|Nalum Therindavan                                        |1968           |146    |158                   |72             |0.02059016393442623  |\n",
            "|1856748|Ek Daav Dhobhipachhad                                    |2008           |146    |158                   |72             |0.02059016393442623  |\n",
            "|1662101|Aawaz                                                    |1956           |146    |158                   |72             |0.02059016393442623  |\n",
            "|1813463|Deceit                                                   |2000           |145    |162                   |73             |0.021114754098360656 |\n",
            "|2262753|Sasameyuki                                               |1950           |145    |162                   |73             |0.021114754098360656 |\n",
            "|2196465|Pen-teu-ha-woo-seu Ko-kki-ri                             |2009           |144    |164                   |74             |0.02137704918032787  |\n",
            "|2005888|Julia                                                    |2008           |144    |164                   |74             |0.02137704918032787  |\n",
            "|2474402|Vault of Whores                                          |2005           |144    |164                   |74             |0.02137704918032787  |\n",
            "|1827911|Die Entführung aus dem Serail                            |2003           |143    |167                   |75             |0.02177049180327869  |\n",
            "|2107186|Matir Phul                                               |2003           |143    |167                   |75             |0.02177049180327869  |\n",
            "|1715227|Bata Qeqia                                               |1978           |143    |167                   |75             |0.02177049180327869  |\n",
            "|1676123|All Star Teens                                           |2010           |142    |170                   |76             |0.02216393442622951  |\n",
            "|2129531|Morometii                                                |1988           |142    |170                   |76             |0.02216393442622951  |\n",
            "|1863006|El temps i els Conway                                    |1993           |142    |170                   |76             |0.02216393442622951  |\n",
            "|2000037|Jhilmil                                                  |1978           |141    |173                   |77             |0.022557377049180326 |\n",
            "|1963013|Huge                                                     |2008           |140    |174                   |78             |0.022688524590163933 |\n",
            "|2443404|Topoi                                                    |1978           |140    |174                   |78             |0.022688524590163933 |\n",
            "|2071938|Lex the Impaler                                          |2001           |140    |174                   |78             |0.022688524590163933 |\n",
            "|2207018|Please 4: It's a Dog's Life                              |1999           |140    |174                   |78             |0.022688524590163933 |\n",
            "|2481708|Viva Mexico                                              |1980           |140    |174                   |78             |0.022688524590163933 |\n",
            "|1834231|Dirty Dirty Debutantes 6                                 |1996           |140    |174                   |78             |0.022688524590163933 |\n",
            "|2325191|Swallow My Pride 2                                       |2002           |140    |174                   |78             |0.022688524590163933 |\n",
            "|2330520|Take It Black 2                                          |2005           |140    |174                   |78             |0.022688524590163933 |\n",
            "|2335846|Teen Cum Squad 4                                         |2005           |140    |174                   |78             |0.022688524590163933 |\n",
            "|2340341|Teza                                                     |2008           |140    |174                   |78             |0.022688524590163933 |\n",
            "|2457994|U R My Jaan                                              |2011           |140    |174                   |78             |0.022688524590163933 |\n",
            "|1741072|Booty Talk 28: Assliciously Delicious                    |2002           |140    |174                   |78             |0.022688524590163933 |\n",
            "|1635541|110% Natural                                             |2001           |140    |174                   |78             |0.022688524590163933 |\n",
            "|1960496|House of Whores                                          |1999           |140    |174                   |78             |0.022688524590163933 |\n",
            "|2348127|The Beatles and Beyond                                   |1977           |140    |174                   |78             |0.022688524590163933 |\n",
            "|1718498|Bednaya Masha                                            |1981           |140    |174                   |78             |0.022688524590163933 |\n",
            "|1685307|Anal Excursions                                          |2004           |140    |174                   |78             |0.022688524590163933 |\n",
            "|2351798|The Bottom Dweller 6: Sex After Death                    |2000           |140    |174                   |78             |0.022688524590163933 |\n",
            "|2308543|Squirtatious                                             |2011           |140    |174                   |78             |0.022688524590163933 |\n",
            "|2160893|Not Three's Company XXX                                  |2009           |139    |193                   |79             |0.025180327868852458 |\n",
            "|1802646|Dani, Michi, Renato & Max                                |1988           |138    |194                   |80             |0.025311475409836064 |\n",
            "|2032519|L'avare                                                  |2000           |138    |194                   |80             |0.025311475409836064 |\n",
            "|2506575|World Sex Tour 29                                        |2003           |138    |194                   |80             |0.025311475409836064 |\n",
            "|2145835|Nasty Hardcore Latinas                                   |2004           |138    |194                   |80             |0.025311475409836064 |\n",
            "|2325896|Sweet Cheeks 5                                           |2004           |138    |194                   |80             |0.025311475409836064 |\n",
            "|1654860|A Perverted Point of View 6                              |2002           |138    |194                   |80             |0.025311475409836064 |\n",
            "|2247387|Rocco: Animal Trainer 21                                 |2006           |138    |194                   |80             |0.025311475409836064 |\n",
            "+-------+---------------------------------------------------------+---------------+-------+----------------------+---------------+---------------------+\n",
            "only showing top 200 rows\n",
            "\n"
          ],
          "name": "stdout"
        }
      ]
    },
    {
      "cell_type": "markdown",
      "metadata": {
        "id": "HfUQQ0XmyZha"
      },
      "source": [
        "## Fenetre ayant une taille croissante. Sert pour des cumuls"
      ]
    },
    {
      "cell_type": "markdown",
      "metadata": {
        "id": "8VZ6CoIi4IGV"
      },
      "source": [
        "Le cumul des notes par date croissante. La fenetre s'agrandit par valeurs successives de date : il peu y avoir plusieurs notes par date, exemple: 3 valeurs pour le 1er timestamp, puis 7 pour le 2eme timestamp, puis 1 pour le 3ème, ..."
      ]
    },
    {
      "cell_type": "code",
      "metadata": {
        "id": "y86DTXmQPlOp",
        "colab": {
          "base_uri": "https://localhost:8080/",
          "height": 323
        },
        "outputId": "a9bd70c8-60a5-43f3-db3a-01d63df92cdb"
      },
      "source": [
        "# ratings.printSchema()\n",
        "\n",
        "noteCumulee= spark.sql(\"\"\"\n",
        "select r.userId as u, movieId as m, timestamp, rating as note,\n",
        "sum(rating) over (order by timestamp) as noteCumulee\n",
        "from Ratings r\n",
        "order by timestamp\n",
        "  \n",
        "\"\"\")\n",
        "noteCumulee.createOrReplaceTempView(\"noteCumulee\")\n",
        "\n",
        "noteCumulee.show(12)"
      ],
      "execution_count": null,
      "outputs": [
        {
          "output_type": "stream",
          "text": [
            "+---+----+---------+----+-----------+\n",
            "|  u|   m|timestamp|note|noteCumulee|\n",
            "+---+----+---------+----+-----------+\n",
            "|383|  47|789652009| 5.0|       11.0|\n",
            "|383|  21|789652009| 3.0|       11.0|\n",
            "|383|1079|789652009| 3.0|       11.0|\n",
            "|409|  16|828212412| 4.0|       41.0|\n",
            "|409|  32|828212412| 3.0|       41.0|\n",
            "|409|  21|828212412| 5.0|       41.0|\n",
            "|409|  30|828212412| 5.0|       41.0|\n",
            "|409|  35|828212412| 4.0|       41.0|\n",
            "|409|  85|828212412| 5.0|       41.0|\n",
            "|409|  25|828212412| 4.0|       41.0|\n",
            "|409|   1|828212413| 5.0|       46.0|\n",
            "|409| 150|828213114| 4.0|       57.0|\n",
            "+---+----+---------+----+-----------+\n",
            "only showing top 12 rows\n",
            "\n"
          ],
          "name": "stdout"
        }
      ]
    },
    {
      "cell_type": "markdown",
      "metadata": {
        "id": "ugD1IaDHCF4G"
      },
      "source": [
        "## Fenêtre glissante"
      ]
    },
    {
      "cell_type": "markdown",
      "metadata": {
        "id": "GSq8GhSGDj49"
      },
      "source": [
        "Le nombre de films par année. Sert de base pour calculer une somme glissante. On enlève certaines années pour avoir un domaine non dense. Cela permet d'illustrer le cas général."
      ]
    },
    {
      "cell_type": "code",
      "metadata": {
        "id": "0EvFLUtODgEC",
        "colab": {
          "base_uri": "https://localhost:8080/",
          "height": 289
        },
        "outputId": "2eddcbb7-c6d8-4ac5-908a-99f084a20138"
      },
      "source": [
        "filmsParAnnee = spark.sql(\"\"\"\n",
        "\n",
        "select f.production_year year, count(*) as nbFilms\n",
        "from Title f\n",
        "where production_year >= 1910\n",
        "and production_year not between 1914 and 1918\n",
        "group by f.production_year\n",
        "order by year\n",
        "\"\"\")\n",
        "filmsParAnnee.createOrReplaceTempView(\"FilmsParAnnee\")\n",
        "\n",
        "filmsParAnnee.show(10)"
      ],
      "execution_count": null,
      "outputs": [
        {
          "output_type": "stream",
          "text": [
            "+----+-------+\n",
            "|year|nbFilms|\n",
            "+----+-------+\n",
            "|1910|     47|\n",
            "|1911|     52|\n",
            "|1912|     76|\n",
            "|1913|     83|\n",
            "|1919|     40|\n",
            "|1920|     36|\n",
            "|1921|     31|\n",
            "|1922|     35|\n",
            "|1923|     28|\n",
            "|1924|     18|\n",
            "+----+-------+\n",
            "only showing top 10 rows\n",
            "\n"
          ],
          "name": "stdout"
        }
      ]
    },
    {
      "cell_type": "markdown",
      "metadata": {
        "id": "tQhHgIFdDuYM"
      },
      "source": [
        "## Somme glissante avec une fenêtre de taille fixée : n ROWS\n",
        "## ou somme glissante avec une fenêtre d'intervalle fixé : RANGE de n années"
      ]
    },
    {
      "cell_type": "code",
      "metadata": {
        "id": "9YDnCiqC3krU",
        "colab": {
          "base_uri": "https://localhost:8080/",
          "height": 289
        },
        "outputId": "d6befc6c-9ecd-48a3-90c1-ef888a8949ed"
      },
      "source": [
        "cumulGlissant2 = spark.sql(\"\"\"\n",
        "\n",
        "select f.*, \n",
        "       sum(nbFilms) over (order by year ROWS  between 1 preceding and current row) somme2tuples,\n",
        "       sum(nbFilms) over (order by year RANGE between 1 preceding and current row) somme2ANS\n",
        "       \n",
        "from FilmsParAnnee f\n",
        "order by year\n",
        "\"\"\")\n",
        "\n",
        "cumulGlissant2.show(10)\n"
      ],
      "execution_count": null,
      "outputs": [
        {
          "output_type": "stream",
          "text": [
            "+----+-------+------------+---------+\n",
            "|year|nbFilms|somme2tuples|somme2ANS|\n",
            "+----+-------+------------+---------+\n",
            "|1910|     47|          47|       47|\n",
            "|1911|     52|          99|       99|\n",
            "|1912|     76|         128|      128|\n",
            "|1913|     83|         159|      159|\n",
            "|1919|     40|         123|       40|\n",
            "|1920|     36|          76|       76|\n",
            "|1921|     31|          67|       67|\n",
            "|1922|     35|          66|       66|\n",
            "|1923|     28|          63|       63|\n",
            "|1924|     18|          46|       46|\n",
            "+----+-------+------------+---------+\n",
            "only showing top 10 rows\n",
            "\n"
          ],
          "name": "stdout"
        }
      ]
    },
    {
      "cell_type": "code",
      "metadata": {
        "id": "cTlunxU-VPjb",
        "colab": {
          "base_uri": "https://localhost:8080/",
          "height": 289
        },
        "outputId": "5854f54e-c692-4b21-c315-97ca8ab51eaf"
      },
      "source": [
        "cumulGlissant3 = spark.sql(\"\"\"\n",
        "\n",
        "select f.*, \n",
        "       sum(nbFilms) over (order by year ROWS  between 1 preceding and 1 following) somme3tuples,\n",
        "       sum(nbFilms) over (order by year RANGE between 1 preceding and 1 following) somme3ANS\n",
        "       \n",
        "from FilmsParAnnee f\n",
        "order by year\n",
        "\"\"\")\n",
        "\n",
        "cumulGlissant3.show(10)\n"
      ],
      "execution_count": null,
      "outputs": [
        {
          "output_type": "stream",
          "text": [
            "+----+-------+------------+---------+\n",
            "|year|nbFilms|somme3tuples|somme3ANS|\n",
            "+----+-------+------------+---------+\n",
            "|1910|     47|          99|       99|\n",
            "|1911|     52|         175|      175|\n",
            "|1912|     76|         211|      211|\n",
            "|1913|     83|         199|      159|\n",
            "|1919|     40|         159|       76|\n",
            "|1920|     36|         107|      107|\n",
            "|1921|     31|         102|      102|\n",
            "|1922|     35|          94|       94|\n",
            "|1923|     28|          81|       81|\n",
            "|1924|     18|          67|       67|\n",
            "+----+-------+------------+---------+\n",
            "only showing top 10 rows\n",
            "\n"
          ],
          "name": "stdout"
        }
      ]
    },
    {
      "cell_type": "markdown",
      "metadata": {
        "id": "hR7QspJ3FBsX"
      },
      "source": [
        "## Fenêtres partitionnées : OVER (PARTITION BY ...)"
      ]
    },
    {
      "cell_type": "markdown",
      "metadata": {
        "id": "kMlLunIMFwIU"
      },
      "source": [
        "Classement des films par durée, ceci pour chaque année."
      ]
    },
    {
      "cell_type": "code",
      "metadata": {
        "id": "74SDchE0F2vx",
        "colab": {
          "base_uri": "https://localhost:8080/",
          "height": 459
        },
        "outputId": "a565474b-7cec-4c7c-93e9-d028247d7337"
      },
      "source": [
        "classementParDureeEtAnnee = spark.sql(\"\"\"\n",
        "select t.*, t.production_year, rank() over (partition by production_year order by runtime desc) as classement\n",
        "from TitleWithRuntime t\n",
        "where production_year >= 1908\n",
        "  \n",
        "\"\"\")\n",
        "classementParDuree.createOrReplaceTempView(\"classementParDureeEtAnnee\")\n",
        "\n",
        "classementParDureeEtAnnee.show(20)"
      ],
      "execution_count": null,
      "outputs": [
        {
          "output_type": "stream",
          "text": [
            "+-------+--------------------+---------------+-------+---------------+----------+\n",
            "|     id|               title|production_year|runtime|production_year|classement|\n",
            "+-------+--------------------+---------------+-------+---------------+----------+\n",
            "|2495787|When Knighthood W...|           1908|     10|           1908|         1|\n",
            "|1682708|    Amour et mélasse|           1908|      5|           1908|         2|\n",
            "|1943713|         Heißes Blut|           1911|     42|           1911|         1|\n",
            "|2409002|The Romance of Ta...|           1918|     70|           1918|         1|\n",
            "|2367131|  The Fair Pretender|           1918|     50|           1918|         2|\n",
            "|1744640|      Breakers Ahead|           1918|     50|           1918|         2|\n",
            "|1716129|       Battling Jane|           1918|     50|           1918|         2|\n",
            "|2383107|The Kingdom of Youth|           1918|     50|           1918|         2|\n",
            "|2032036|    L'argent qui tue|           1918|     44|           1918|         6|\n",
            "|1749236|       Bud's Recruit|           1918|     26|           1918|         7|\n",
            "|2372094|The Ghost of Slum...|           1918|     19|           1918|         8|\n",
            "|2012655|Kapten Grogg och fru|           1918|      9|           1918|         9|\n",
            "|1657714|   A Splendid Hazard|           1920|     60|           1920|         1|\n",
            "|2087937|Love, Honor and B...|           1920|     50|           1920|         2|\n",
            "|2523804|    Árnyék a sátoron|           1920|     39|           1920|         3|\n",
            "|2431080|    Thieves' Clothes|           1920|     20|           1920|         4|\n",
            "|1674332|         Alice Adams|           1923|     73|           1923|         1|\n",
            "|2295092|   Smashing Barriers|           1923|     60|           1923|         2|\n",
            "|2460689| Un bon petit diable|           1923|     49|           1923|         3|\n",
            "|1879025|       Extra! Extra!|           1923|     20|           1923|         4|\n",
            "+-------+--------------------+---------------+-------+---------------+----------+\n",
            "only showing top 20 rows\n",
            "\n"
          ],
          "name": "stdout"
        }
      ]
    },
    {
      "cell_type": "markdown",
      "metadata": {
        "id": "wZ4_xDWfK96f"
      },
      "source": [
        "## Fenêtres partitionnées, la taille de la fenêtre varie."
      ]
    },
    {
      "cell_type": "markdown",
      "metadata": {
        "id": "ha5Omb9vLgdP"
      },
      "source": [
        "Le nombre de rôles par acteur et année. On se limite aux acteurs ayant beaucoup de rôles. Cette table sert de base pour les fenêtres partitionnées avec taille variable."
      ]
    },
    {
      "cell_type": "code",
      "metadata": {
        "id": "uz6lH0SaHV1q",
        "colab": {
          "base_uri": "https://localhost:8080/",
          "height": 289
        },
        "outputId": "f72ccc0d-1777-4440-e643-1a12aad3b1bd"
      },
      "source": [
        "rolesParActeurParAnnee = spark.sql(\"\"\"\n",
        "select p.name,  f.production_year as year, count(*) as nbRoles\n",
        "from Cast_info r, Name p, Title f, Role_type rt\n",
        "where r.person_id = p.id\n",
        "and r.movie_id = f.id\n",
        "and r.role_id = rt.id\n",
        "and (rt.role = 'actor' or rt.role = 'actress')\n",
        "and ( select count(*)\n",
        "      from Cast_info r2\n",
        "      where r2.person_id = r.person_id \n",
        "    ) > 30\n",
        "group by p.id, p.name, f.production_year \n",
        "having nbRoles\n",
        "order by p.id, p.name, f.production_year \n",
        "\"\"\")\n",
        "\n",
        "rolesParActeurParAnnee.createOrReplaceTempView(\"RolesParActeurParAnnee\")\n",
        "\n",
        "rolesParActeurParAnnee.show(10)\n"
      ],
      "execution_count": null,
      "outputs": [
        {
          "output_type": "stream",
          "text": [
            "+------------------+----+-------+\n",
            "|              name|year|nbRoles|\n",
            "+------------------+----+-------+\n",
            "|      Avalos, Luis|1972|      4|\n",
            "|      Avalos, Luis|1973|      8|\n",
            "|      Avalos, Luis|1974|      4|\n",
            "|      Avalos, Luis|1975|      8|\n",
            "|      Avalos, Luis|1976|     16|\n",
            "|      Avalos, Luis|1997|      1|\n",
            "|      Avalos, Luis|1999|      1|\n",
            "|Baker, Dee Bradley|1993|      2|\n",
            "|Baker, Dee Bradley|1994|      2|\n",
            "|Baker, Dee Bradley|1995|      4|\n",
            "+------------------+----+-------+\n",
            "only showing top 10 rows\n",
            "\n"
          ],
          "name": "stdout"
        }
      ]
    },
    {
      "cell_type": "markdown",
      "metadata": {
        "id": "gDzcG00UHBkd"
      },
      "source": [
        "Le nombre de roles cumulé d'un acteur par années successives"
      ]
    },
    {
      "cell_type": "code",
      "metadata": {
        "id": "dNHudAGxLznY",
        "colab": {
          "base_uri": "https://localhost:8080/",
          "height": 374
        },
        "outputId": "9a03e4bc-8a06-4cd1-b7e0-b7436e5cf2ce"
      },
      "source": [
        "cumulParActeur = spark.sql(\"\"\"\n",
        "select r.*,\n",
        "       sum(nbRoles) over (partition by name order by year) as nbRoleCumuleParActeur\n",
        "from RolesParActeurParAnnee r\n",
        "where r.year > 2010\n",
        "\n",
        "\n",
        "\"\"\")\n",
        "\n",
        "\n",
        "cumulParActeur.show(15)"
      ],
      "execution_count": null,
      "outputs": [
        {
          "output_type": "stream",
          "text": [
            "+-----------------+----+-------+---------------------+\n",
            "|             name|year|nbRoles|nbRoleCumuleParActeur|\n",
            "+-----------------+----+-------+---------------------+\n",
            "| Breyner, Nicolau|2011|      1|                    1|\n",
            "| Breyner, Nicolau|2012|      1|                    2|\n",
            "| Breyner, Nicolau|2013|      2|                    4|\n",
            "| Colbert, Stephen|2012|      1|                    1|\n",
            "|   Dennis, Stefan|2011|      2|                    2|\n",
            "|   Dennis, Stefan|2012|      4|                    6|\n",
            "| Esparteiro, Luís|2011|      4|                    4|\n",
            "| Esparteiro, Luís|2012|      1|                    5|\n",
            "| Esparteiro, Luís|2013|      2|                    7|\n",
            "|Gonçalves, Almeno|2011|      6|                    6|\n",
            "|Gonçalves, Almeno|2012|      3|                    9|\n",
            "|    Rizzo, Silvia|2011|      1|                    1|\n",
            "|    Rizzo, Silvia|2012|      3|                    4|\n",
            "|    Rizzo, Silvia|2013|      1|                    5|\n",
            "|    Welker, Frank|2012|      3|                    3|\n",
            "+-----------------+----+-------+---------------------+\n",
            "only showing top 15 rows\n",
            "\n"
          ],
          "name": "stdout"
        }
      ]
    },
    {
      "cell_type": "markdown",
      "metadata": {
        "id": "b80IiBD6OoL3"
      },
      "source": [
        "## Fenêtres partitionnées et chaque fenêtre est glissante avec une taille fixe de n ROWS"
      ]
    },
    {
      "cell_type": "markdown",
      "metadata": {
        "id": "mqcCOM_FR1Ap"
      },
      "source": [
        "Pour chaque acteur, l'évolution du nombre de rôles annuel moyen.\n",
        "La moyenne est calculée sur les années de 3 tuples : l'année courante, la valeur d'année du tuple précédent et la valeur d'année du tuple suivant.\n",
        "Si un acteur n'a aucun rôle pendant une année, la moyenne est calculée sur une fenêtre faisant plus de 3 ans."
      ]
    },
    {
      "cell_type": "code",
      "metadata": {
        "id": "1n0X2HfTO2g_",
        "colab": {
          "base_uri": "https://localhost:8080/",
          "height": 629
        },
        "outputId": "81d0a478-d415-4177-aa65-22ca7d1ba51d"
      },
      "source": [
        "evolutionNbRolesMoyenParActeur = spark.sql(\"\"\"\n",
        "select r.*,\n",
        "       avg(nbRoles) over (partition by name order by year rows between 1 preceding and 1 following) as nbRoleMoyenSur3tuples\n",
        "from RolesParActeurParAnnee r\n",
        "where r.year > 2000\n",
        "\"\"\")\n",
        "\n",
        "evolutionNbRolesMoyenParActeur.show(30)"
      ],
      "execution_count": null,
      "outputs": [
        {
          "output_type": "stream",
          "text": [
            "+-----------------+----+-------+---------------------+\n",
            "|             name|year|nbRoles|nbRoleMoyenSur3tuples|\n",
            "+-----------------+----+-------+---------------------+\n",
            "|      Barker, Bob|2001|      4|                  3.5|\n",
            "|      Barker, Bob|2002|      3|   3.3333333333333335|\n",
            "|      Barker, Bob|2003|      3|   2.6666666666666665|\n",
            "|      Barker, Bob|2004|      2|                  2.0|\n",
            "|      Barker, Bob|2005|      1|   1.6666666666666667|\n",
            "|      Barker, Bob|2006|      2|   1.3333333333333333|\n",
            "|      Barker, Bob|2007|      1|                  1.5|\n",
            "| Breyner, Nicolau|2002|      3|                  2.0|\n",
            "| Breyner, Nicolau|2005|      1|   1.6666666666666667|\n",
            "| Breyner, Nicolau|2006|      1|                  1.0|\n",
            "| Breyner, Nicolau|2007|      1|                  1.0|\n",
            "| Breyner, Nicolau|2008|      1|   1.3333333333333333|\n",
            "| Breyner, Nicolau|2009|      2|                  2.0|\n",
            "| Breyner, Nicolau|2010|      3|                  2.0|\n",
            "| Breyner, Nicolau|2011|      1|   1.6666666666666667|\n",
            "| Breyner, Nicolau|2012|      1|   1.3333333333333333|\n",
            "| Breyner, Nicolau|2013|      2|                  1.5|\n",
            "|Castellaneta, Dan|2001|      4|                  2.5|\n",
            "|Castellaneta, Dan|2003|      1|                  2.0|\n",
            "|Castellaneta, Dan|2005|      1|   1.3333333333333333|\n",
            "|Castellaneta, Dan|2008|      2|                  1.5|\n",
            "| Colbert, Stephen|2001|      2|                  3.0|\n",
            "| Colbert, Stephen|2002|      4|   2.3333333333333335|\n",
            "| Colbert, Stephen|2005|      1|                  3.0|\n",
            "| Colbert, Stephen|2006|      4|   2.6666666666666665|\n",
            "| Colbert, Stephen|2007|      3|   3.6666666666666665|\n",
            "| Colbert, Stephen|2008|      4|   3.3333333333333335|\n",
            "| Colbert, Stephen|2010|      3|   2.6666666666666665|\n",
            "| Colbert, Stephen|2012|      1|                  2.0|\n",
            "|   Dennis, Stefan|2007|      5|                  5.5|\n",
            "+-----------------+----+-------+---------------------+\n",
            "only showing top 30 rows\n",
            "\n"
          ],
          "name": "stdout"
        }
      ]
    },
    {
      "cell_type": "markdown",
      "metadata": {
        "id": "q7BW1HmjSerP"
      },
      "source": [
        "## Fenêtre partitionnée et glissante avec RANGE qui fixe la durée de la période glissante, par exemple toujours 3 ans."
      ]
    },
    {
      "cell_type": "code",
      "metadata": {
        "id": "mXvodPoISn0o",
        "colab": {
          "base_uri": "https://localhost:8080/",
          "height": 629
        },
        "outputId": "04bf8dca-3f8d-4365-ecfd-e3b377394aaa"
      },
      "source": [
        "evolutionNbRolesMoyenParActeurFenetreDureeFixe = spark.sql(\"\"\"\n",
        "select r.*,\n",
        "       avg(nbRoles) over (partition by name order by year range between 1 preceding and 1 following) as nbRoleMoyenSur3lignes\n",
        "from RolesParActeurParAnnee r\n",
        "where r.year > 2000\n",
        "\"\"\")\n",
        "\n",
        "evolutionNbRolesMoyenParActeurFenetreDureeFixe.show(30)"
      ],
      "execution_count": null,
      "outputs": [
        {
          "output_type": "stream",
          "text": [
            "+-----------------+----+-------+---------------------+\n",
            "|             name|year|nbRoles|nbRoleMoyenSur3lignes|\n",
            "+-----------------+----+-------+---------------------+\n",
            "|      Barker, Bob|2001|      4|                  3.5|\n",
            "|      Barker, Bob|2002|      3|   3.3333333333333335|\n",
            "|      Barker, Bob|2003|      3|   2.6666666666666665|\n",
            "|      Barker, Bob|2004|      2|                  2.0|\n",
            "|      Barker, Bob|2005|      1|   1.6666666666666667|\n",
            "|      Barker, Bob|2006|      2|   1.3333333333333333|\n",
            "|      Barker, Bob|2007|      1|                  1.5|\n",
            "| Breyner, Nicolau|2002|      3|                  3.0|\n",
            "| Breyner, Nicolau|2005|      1|                  1.0|\n",
            "| Breyner, Nicolau|2006|      1|                  1.0|\n",
            "| Breyner, Nicolau|2007|      1|                  1.0|\n",
            "| Breyner, Nicolau|2008|      1|   1.3333333333333333|\n",
            "| Breyner, Nicolau|2009|      2|                  2.0|\n",
            "| Breyner, Nicolau|2010|      3|                  2.0|\n",
            "| Breyner, Nicolau|2011|      1|   1.6666666666666667|\n",
            "| Breyner, Nicolau|2012|      1|   1.3333333333333333|\n",
            "| Breyner, Nicolau|2013|      2|                  1.5|\n",
            "|Castellaneta, Dan|2001|      4|                  4.0|\n",
            "|Castellaneta, Dan|2003|      1|                  1.0|\n",
            "|Castellaneta, Dan|2005|      1|                  1.0|\n",
            "|Castellaneta, Dan|2008|      2|                  2.0|\n",
            "| Colbert, Stephen|2001|      2|                  3.0|\n",
            "| Colbert, Stephen|2002|      4|                  3.0|\n",
            "| Colbert, Stephen|2005|      1|                  2.5|\n",
            "| Colbert, Stephen|2006|      4|   2.6666666666666665|\n",
            "| Colbert, Stephen|2007|      3|   3.6666666666666665|\n",
            "| Colbert, Stephen|2008|      4|                  3.5|\n",
            "| Colbert, Stephen|2010|      3|                  3.0|\n",
            "| Colbert, Stephen|2012|      1|                  1.0|\n",
            "|   Dennis, Stefan|2007|      5|                  5.5|\n",
            "+-----------------+----+-------+---------------------+\n",
            "only showing top 30 rows\n",
            "\n"
          ],
          "name": "stdout"
        }
      ]
    },
    {
      "cell_type": "markdown",
      "metadata": {
        "id": "pfGUfG_RQ--H"
      },
      "source": [
        "# Autres requêtes avec fenètre"
      ]
    },
    {
      "cell_type": "markdown",
      "metadata": {
        "id": "DL0GdhMYQjbS"
      },
      "source": [
        "Pour chaque genre de film, l'évolution du budget moyen sur une fenetre glissante de 10 ans.\n",
        "\n",
        "\n",
        "Ratings des films: pour chaque note d'un utilisateur, le délai (en nombre de secondes) entre la note courante et la note précédente."
      ]
    },
    {
      "cell_type": "code",
      "metadata": {
        "id": "WtdCg-dZgERY"
      },
      "source": [
        "park.sql(\"\"\"\n",
        "select r.*,\n",
        "       avg(nbRoles) over (partition by name order by year range between 1 preceding and 1 following) as nbRoleMoyenSur3lignes\n",
        "from movie mv\n",
        "where r.year > 2000\n",
        "\n",
        "select\n",
        "\"\"\")"
      ],
      "execution_count": null,
      "outputs": []
    },
    {
      "cell_type": "code",
      "metadata": {
        "id": "XtCUZ78sghZn",
        "colab": {
          "base_uri": "https://localhost:8080/",
          "height": 187
        },
        "outputId": "0c65a6b6-0815-46b9-9860-725ab11dcf87"
      },
      "source": [
        "imdb_akas.printSchema()"
      ],
      "execution_count": null,
      "outputs": [
        {
          "output_type": "stream",
          "text": [
            "root\n",
            " |-- titleId: string (nullable = true)\n",
            " |-- ordering: integer (nullable = true)\n",
            " |-- title: string (nullable = true)\n",
            " |-- region: string (nullable = true)\n",
            " |-- language: string (nullable = true)\n",
            " |-- types: string (nullable = true)\n",
            " |-- attributes: string (nullable = true)\n",
            " |-- isOriginalkTitle: integer (nullable = true)\n",
            "\n"
          ],
          "name": "stdout"
        }
      ]
    },
    {
      "cell_type": "code",
      "metadata": {
        "id": "wBrt7amSgu10",
        "colab": {
          "base_uri": "https://localhost:8080/",
          "height": 136
        },
        "outputId": "bf07deda-56ec-4924-f350-5c8f69f223ce"
      },
      "source": [
        "movie_info.printSchema()"
      ],
      "execution_count": null,
      "outputs": [
        {
          "output_type": "stream",
          "text": [
            "root\n",
            " |-- id: integer (nullable = true)\n",
            " |-- movie_id: integer (nullable = true)\n",
            " |-- info_type_id: integer (nullable = true)\n",
            " |-- info: string (nullable = true)\n",
            " |-- note: string (nullable = true)\n",
            "\n"
          ],
          "name": "stdout"
        }
      ]
    },
    {
      "cell_type": "code",
      "metadata": {
        "id": "ml2--0DbhTnZ",
        "colab": {
          "base_uri": "https://localhost:8080/",
          "height": 119
        },
        "outputId": "776d9777-5304-431c-b55c-a1283c2af34d"
      },
      "source": [
        "spark.sql(\"select * from info_type i where i.info='budget'\").show()"
      ],
      "execution_count": null,
      "outputs": [
        {
          "output_type": "stream",
          "text": [
            "+---+------+\n",
            "| id|  info|\n",
            "+---+------+\n",
            "|105|budget|\n",
            "+---+------+\n",
            "\n"
          ],
          "name": "stdout"
        }
      ]
    }
  ]
}