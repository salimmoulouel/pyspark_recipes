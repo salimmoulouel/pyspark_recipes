{
 "cells": [
  {
   "cell_type": "markdown",
   "metadata": {},
   "source": [
    "#### Dates and Timestamps"
   ]
  },
  {
   "cell_type": "code",
   "execution_count": 1,
   "metadata": {},
   "outputs": [
    {
     "data": {
      "application/javascript": [
       "\n",
       "            setTimeout(function() {\n",
       "                var nbb_cell_id = 1;\n",
       "                var nbb_unformatted_code = \"%load_ext nb_black\";\n",
       "                var nbb_formatted_code = \"%load_ext nb_black\";\n",
       "                var nbb_cells = Jupyter.notebook.get_cells();\n",
       "                for (var i = 0; i < nbb_cells.length; ++i) {\n",
       "                    if (nbb_cells[i].input_prompt_number == nbb_cell_id) {\n",
       "                        if (nbb_cells[i].get_text() == nbb_unformatted_code) {\n",
       "                             nbb_cells[i].set_text(nbb_formatted_code);\n",
       "                        }\n",
       "                        break;\n",
       "                    }\n",
       "                }\n",
       "            }, 500);\n",
       "            "
      ],
      "text/plain": [
       "<IPython.core.display.Javascript object>"
      ]
     },
     "metadata": {},
     "output_type": "display_data"
    }
   ],
   "source": [
    "%load_ext nb_black"
   ]
  },
  {
   "cell_type": "code",
   "execution_count": 2,
   "metadata": {},
   "outputs": [
    {
     "data": {
      "application/javascript": [
       "\n",
       "            setTimeout(function() {\n",
       "                var nbb_cell_id = 2;\n",
       "                var nbb_unformatted_code = \"from pyspark.sql import SparkSession, Row\\nimport pyspark.sql.functions as F\\nfrom pyspark.sql import types as T\\n\\nspark = SparkSession.builder.appName(\\\"Dates and Timestamps\\\").getOrCreate()\";\n",
       "                var nbb_formatted_code = \"from pyspark.sql import SparkSession, Row\\nimport pyspark.sql.functions as F\\nfrom pyspark.sql import types as T\\n\\nspark = SparkSession.builder.appName(\\\"Dates and Timestamps\\\").getOrCreate()\";\n",
       "                var nbb_cells = Jupyter.notebook.get_cells();\n",
       "                for (var i = 0; i < nbb_cells.length; ++i) {\n",
       "                    if (nbb_cells[i].input_prompt_number == nbb_cell_id) {\n",
       "                        if (nbb_cells[i].get_text() == nbb_unformatted_code) {\n",
       "                             nbb_cells[i].set_text(nbb_formatted_code);\n",
       "                        }\n",
       "                        break;\n",
       "                    }\n",
       "                }\n",
       "            }, 500);\n",
       "            "
      ],
      "text/plain": [
       "<IPython.core.display.Javascript object>"
      ]
     },
     "metadata": {},
     "output_type": "display_data"
    }
   ],
   "source": [
    "from pyspark.sql import SparkSession, Row\n",
    "import pyspark.sql.functions as F\n",
    "from pyspark.sql import types as T\n",
    "\n",
    "spark = SparkSession.builder.appName(\"Dates and Timestamps\").getOrCreate()"
   ]
  },
  {
   "cell_type": "code",
   "execution_count": 3,
   "metadata": {},
   "outputs": [
    {
     "data": {
      "text/html": [
       "\n",
       "            <div>\n",
       "                <p><b>SparkSession - in-memory</b></p>\n",
       "                \n",
       "        <div>\n",
       "            <p><b>SparkContext</b></p>\n",
       "\n",
       "            <p><a href=\"http://localhost:4040\">Spark UI</a></p>\n",
       "\n",
       "            <dl>\n",
       "              <dt>Version</dt>\n",
       "                <dd><code>v2.4.4</code></dd>\n",
       "              <dt>Master</dt>\n",
       "                <dd><code>local[*]</code></dd>\n",
       "              <dt>AppName</dt>\n",
       "                <dd><code>Dates and Timestamps</code></dd>\n",
       "            </dl>\n",
       "        </div>\n",
       "        \n",
       "            </div>\n",
       "        "
      ],
      "text/plain": [
       "<pyspark.sql.session.SparkSession at 0x7fe2b06209b0>"
      ]
     },
     "execution_count": 3,
     "metadata": {},
     "output_type": "execute_result"
    },
    {
     "data": {
      "application/javascript": [
       "\n",
       "            setTimeout(function() {\n",
       "                var nbb_cell_id = 3;\n",
       "                var nbb_unformatted_code = \"spark\";\n",
       "                var nbb_formatted_code = \"spark\";\n",
       "                var nbb_cells = Jupyter.notebook.get_cells();\n",
       "                for (var i = 0; i < nbb_cells.length; ++i) {\n",
       "                    if (nbb_cells[i].input_prompt_number == nbb_cell_id) {\n",
       "                        if (nbb_cells[i].get_text() == nbb_unformatted_code) {\n",
       "                             nbb_cells[i].set_text(nbb_formatted_code);\n",
       "                        }\n",
       "                        break;\n",
       "                    }\n",
       "                }\n",
       "            }, 500);\n",
       "            "
      ],
      "text/plain": [
       "<IPython.core.display.Javascript object>"
      ]
     },
     "metadata": {},
     "output_type": "display_data"
    }
   ],
   "source": [
    "spark"
   ]
  },
  {
   "cell_type": "markdown",
   "metadata": {},
   "source": [
    "Create a dataframe with different date formats as strings."
   ]
  },
  {
   "cell_type": "code",
   "execution_count": 4,
   "metadata": {},
   "outputs": [
    {
     "data": {
      "application/javascript": [
       "\n",
       "            setTimeout(function() {\n",
       "                var nbb_cell_id = 4;\n",
       "                var nbb_unformatted_code = \"rows = [\\n    Row(\\\"2020-01-03\\\"),\\n    Row(\\\"2020 01 10\\\"),\\n    Row(\\\"2020 Jan 10\\\"),\\n        Row(\\\"Sat, 11 Jan 2020\\\"),\\n]\\n\\nmyrdd = spark.sparkContext.parallelize(rows)\\n\\nschema = T.StructType(\\n    [\\n        T.StructField(name=\\\"date_str\\\", dataType=T.StringType(),nullable=True)]\\n)\\ndf = spark.createDataFrame(myrdd, schema)\";\n",
       "                var nbb_formatted_code = \"rows = [\\n    Row(\\\"2020-01-03\\\"),\\n    Row(\\\"2020 01 10\\\"),\\n    Row(\\\"2020 Jan 10\\\"),\\n    Row(\\\"Sat, 11 Jan 2020\\\"),\\n]\\n\\nmyrdd = spark.sparkContext.parallelize(rows)\\n\\nschema = T.StructType(\\n    [T.StructField(name=\\\"date_str\\\", dataType=T.StringType(), nullable=True)]\\n)\\ndf = spark.createDataFrame(myrdd, schema)\";\n",
       "                var nbb_cells = Jupyter.notebook.get_cells();\n",
       "                for (var i = 0; i < nbb_cells.length; ++i) {\n",
       "                    if (nbb_cells[i].input_prompt_number == nbb_cell_id) {\n",
       "                        if (nbb_cells[i].get_text() == nbb_unformatted_code) {\n",
       "                             nbb_cells[i].set_text(nbb_formatted_code);\n",
       "                        }\n",
       "                        break;\n",
       "                    }\n",
       "                }\n",
       "            }, 500);\n",
       "            "
      ],
      "text/plain": [
       "<IPython.core.display.Javascript object>"
      ]
     },
     "metadata": {},
     "output_type": "display_data"
    }
   ],
   "source": [
    "rows = [\n",
    "    Row(\"2020-01-03\"),\n",
    "    Row(\"2020 01 10\"),\n",
    "    Row(\"2020 Jan 10\"),\n",
    "        Row(\"Sat, 11 Jan 2020\"),\n",
    "]\n",
    "\n",
    "myrdd = spark.sparkContext.parallelize(rows)\n",
    "\n",
    "schema = T.StructType(\n",
    "    [\n",
    "        T.StructField(name=\"date_str\", dataType=T.StringType(),nullable=True)]\n",
    ")\n",
    "df = spark.createDataFrame(myrdd, schema)\n"
   ]
  },
  {
   "cell_type": "code",
   "execution_count": 5,
   "metadata": {},
   "outputs": [
    {
     "name": "stdout",
     "output_type": "stream",
     "text": [
      "root\n",
      " |-- date_str: string (nullable = true)\n",
      "\n"
     ]
    },
    {
     "data": {
      "application/javascript": [
       "\n",
       "            setTimeout(function() {\n",
       "                var nbb_cell_id = 5;\n",
       "                var nbb_unformatted_code = \"df.printSchema()\";\n",
       "                var nbb_formatted_code = \"df.printSchema()\";\n",
       "                var nbb_cells = Jupyter.notebook.get_cells();\n",
       "                for (var i = 0; i < nbb_cells.length; ++i) {\n",
       "                    if (nbb_cells[i].input_prompt_number == nbb_cell_id) {\n",
       "                        if (nbb_cells[i].get_text() == nbb_unformatted_code) {\n",
       "                             nbb_cells[i].set_text(nbb_formatted_code);\n",
       "                        }\n",
       "                        break;\n",
       "                    }\n",
       "                }\n",
       "            }, 500);\n",
       "            "
      ],
      "text/plain": [
       "<IPython.core.display.Javascript object>"
      ]
     },
     "metadata": {},
     "output_type": "display_data"
    }
   ],
   "source": [
    "df.printSchema()"
   ]
  },
  {
   "cell_type": "markdown",
   "metadata": {},
   "source": [
    "SimpleDateFormat is a concrete class for formatting and parsing dates in a locale-sensitive manner.\n",
    "You can use the patterns below to convert a string to a date:\n",
    "\n",
    "https://docs.oracle.com/javase/7/docs/api/java/text/SimpleDateFormat.html\n",
    "\n",
    "Below we use some of these patterns to transform the above strings to dates."
   ]
  },
  {
   "cell_type": "code",
   "execution_count": 6,
   "metadata": {},
   "outputs": [
    {
     "data": {
      "application/javascript": [
       "\n",
       "            setTimeout(function() {\n",
       "                var nbb_cell_id = 6;\n",
       "                var nbb_unformatted_code = \"df = df.withColumn(\\n    \\\"date\\\",\\n    F.when(\\n        F.to_date(F.col(\\\"date_str\\\"), \\\"yyyy-MM-dd\\\").isNotNull(),\\n        F.to_date(F.col(\\\"date_str\\\"), \\\"yyyy-MM-dd\\\"),\\n    ).otherwise(\\n        F.when(\\n            F.to_date(F.col(\\\"date_str\\\"), \\\"yyyy MM dd\\\").isNotNull(),\\n            F.to_date(F.col(\\\"date_str\\\"), \\\"yyyy MM dd\\\"),\\n        ).otherwise(\\n            F.when(\\n                F.to_date(F.col(\\\"date_str\\\"), \\\"yyyy MMMM dd\\\").isNotNull(),\\n                F.to_date(F.col(\\\"date_str\\\"), \\\"yyyy MMMM dd\\\"),\\n            ).otherwise(\\n                F.when(\\n                    F.to_date(F.col(\\\"date_str\\\"), \\\"E, dd MMMM yy\\\").isNotNull(),\\n                    F.to_date(F.col(\\\"date_str\\\"), \\\"E, dd MMMM yy\\\"),\\n                )\\n            ),\\n        ),\\n    ),\\n)\";\n",
       "                var nbb_formatted_code = \"df = df.withColumn(\\n    \\\"date\\\",\\n    F.when(\\n        F.to_date(F.col(\\\"date_str\\\"), \\\"yyyy-MM-dd\\\").isNotNull(),\\n        F.to_date(F.col(\\\"date_str\\\"), \\\"yyyy-MM-dd\\\"),\\n    ).otherwise(\\n        F.when(\\n            F.to_date(F.col(\\\"date_str\\\"), \\\"yyyy MM dd\\\").isNotNull(),\\n            F.to_date(F.col(\\\"date_str\\\"), \\\"yyyy MM dd\\\"),\\n        ).otherwise(\\n            F.when(\\n                F.to_date(F.col(\\\"date_str\\\"), \\\"yyyy MMMM dd\\\").isNotNull(),\\n                F.to_date(F.col(\\\"date_str\\\"), \\\"yyyy MMMM dd\\\"),\\n            ).otherwise(\\n                F.when(\\n                    F.to_date(F.col(\\\"date_str\\\"), \\\"E, dd MMMM yy\\\").isNotNull(),\\n                    F.to_date(F.col(\\\"date_str\\\"), \\\"E, dd MMMM yy\\\"),\\n                )\\n            ),\\n        ),\\n    ),\\n)\";\n",
       "                var nbb_cells = Jupyter.notebook.get_cells();\n",
       "                for (var i = 0; i < nbb_cells.length; ++i) {\n",
       "                    if (nbb_cells[i].input_prompt_number == nbb_cell_id) {\n",
       "                        if (nbb_cells[i].get_text() == nbb_unformatted_code) {\n",
       "                             nbb_cells[i].set_text(nbb_formatted_code);\n",
       "                        }\n",
       "                        break;\n",
       "                    }\n",
       "                }\n",
       "            }, 500);\n",
       "            "
      ],
      "text/plain": [
       "<IPython.core.display.Javascript object>"
      ]
     },
     "metadata": {},
     "output_type": "display_data"
    }
   ],
   "source": [
    "df = df.withColumn(\n",
    "    \"date\",\n",
    "    F.when(\n",
    "        F.to_date(F.col(\"date_str\"), \"yyyy-MM-dd\").isNotNull(),\n",
    "        F.to_date(F.col(\"date_str\"), \"yyyy-MM-dd\"),\n",
    "    ).otherwise(\n",
    "        F.when(\n",
    "            F.to_date(F.col(\"date_str\"), \"yyyy MM dd\").isNotNull(),\n",
    "            F.to_date(F.col(\"date_str\"), \"yyyy MM dd\"),\n",
    "        ).otherwise(\n",
    "            F.when(\n",
    "                F.to_date(F.col(\"date_str\"), \"yyyy MMMM dd\").isNotNull(),\n",
    "                F.to_date(F.col(\"date_str\"), \"yyyy MMMM dd\"),\n",
    "            ).otherwise(\n",
    "                F.when(\n",
    "                    F.to_date(F.col(\"date_str\"), \"E, dd MMMM yy\").isNotNull(),\n",
    "                    F.to_date(F.col(\"date_str\"), \"E, dd MMMM yy\"),\n",
    "                )\n",
    "            ),\n",
    "        ),\n",
    "    ),\n",
    ")"
   ]
  },
  {
   "cell_type": "markdown",
   "metadata": {},
   "source": [
    "We can also use *to_timestamp* instead of *to_date* to transform to timestamps."
   ]
  },
  {
   "cell_type": "code",
   "execution_count": 7,
   "metadata": {},
   "outputs": [
    {
     "data": {
      "application/javascript": [
       "\n",
       "            setTimeout(function() {\n",
       "                var nbb_cell_id = 7;\n",
       "                var nbb_unformatted_code = \"df = df.withColumn(\\n    \\\"timestamp\\\",\\n    F.when(\\n        F.to_timestamp(F.col(\\\"date_str\\\"), \\\"yyyy-MM-dd\\\").isNotNull(),\\n        F.to_timestamp(F.col(\\\"date_str\\\"), \\\"yyyy-MM-dd\\\"),\\n    ).otherwise(\\n        F.when(\\n            F.to_timestamp(F.col(\\\"date_str\\\"), \\\"yyyy MM dd\\\").isNotNull(),\\n            F.to_timestamp(F.col(\\\"date_str\\\"), \\\"yyyy MM dd\\\"),\\n        ).otherwise(\\n            F.when(\\n                F.to_timestamp(F.col(\\\"date_str\\\"), \\\"yyyy MMMM dd\\\").isNotNull(),\\n                F.to_timestamp(F.col(\\\"date_str\\\"), \\\"yyyy MMMM dd\\\"),\\n            ).otherwise(\\n                F.when(\\n                    F.to_timestamp(F.col(\\\"date_str\\\"), \\\"E, dd MMMM yy\\\").isNotNull(),\\n                    F.to_timestamp(F.col(\\\"date_str\\\"), \\\"E, dd MMMM yy\\\"),\\n                )\\n            ),\\n        ),\\n    ),\\n)\";\n",
       "                var nbb_formatted_code = \"df = df.withColumn(\\n    \\\"timestamp\\\",\\n    F.when(\\n        F.to_timestamp(F.col(\\\"date_str\\\"), \\\"yyyy-MM-dd\\\").isNotNull(),\\n        F.to_timestamp(F.col(\\\"date_str\\\"), \\\"yyyy-MM-dd\\\"),\\n    ).otherwise(\\n        F.when(\\n            F.to_timestamp(F.col(\\\"date_str\\\"), \\\"yyyy MM dd\\\").isNotNull(),\\n            F.to_timestamp(F.col(\\\"date_str\\\"), \\\"yyyy MM dd\\\"),\\n        ).otherwise(\\n            F.when(\\n                F.to_timestamp(F.col(\\\"date_str\\\"), \\\"yyyy MMMM dd\\\").isNotNull(),\\n                F.to_timestamp(F.col(\\\"date_str\\\"), \\\"yyyy MMMM dd\\\"),\\n            ).otherwise(\\n                F.when(\\n                    F.to_timestamp(F.col(\\\"date_str\\\"), \\\"E, dd MMMM yy\\\").isNotNull(),\\n                    F.to_timestamp(F.col(\\\"date_str\\\"), \\\"E, dd MMMM yy\\\"),\\n                )\\n            ),\\n        ),\\n    ),\\n)\";\n",
       "                var nbb_cells = Jupyter.notebook.get_cells();\n",
       "                for (var i = 0; i < nbb_cells.length; ++i) {\n",
       "                    if (nbb_cells[i].input_prompt_number == nbb_cell_id) {\n",
       "                        if (nbb_cells[i].get_text() == nbb_unformatted_code) {\n",
       "                             nbb_cells[i].set_text(nbb_formatted_code);\n",
       "                        }\n",
       "                        break;\n",
       "                    }\n",
       "                }\n",
       "            }, 500);\n",
       "            "
      ],
      "text/plain": [
       "<IPython.core.display.Javascript object>"
      ]
     },
     "metadata": {},
     "output_type": "display_data"
    }
   ],
   "source": [
    "df = df.withColumn(\n",
    "    \"timestamp\",\n",
    "    F.when(\n",
    "        F.to_timestamp(F.col(\"date_str\"), \"yyyy-MM-dd\").isNotNull(),\n",
    "        F.to_timestamp(F.col(\"date_str\"), \"yyyy-MM-dd\"),\n",
    "    ).otherwise(\n",
    "        F.when(\n",
    "            F.to_timestamp(F.col(\"date_str\"), \"yyyy MM dd\").isNotNull(),\n",
    "            F.to_timestamp(F.col(\"date_str\"), \"yyyy MM dd\"),\n",
    "        ).otherwise(\n",
    "            F.when(\n",
    "                F.to_timestamp(F.col(\"date_str\"), \"yyyy MMMM dd\").isNotNull(),\n",
    "                F.to_timestamp(F.col(\"date_str\"), \"yyyy MMMM dd\"),\n",
    "            ).otherwise(\n",
    "                F.when(\n",
    "                    F.to_timestamp(F.col(\"date_str\"), \"E, dd MMMM yy\").isNotNull(),\n",
    "                    F.to_timestamp(F.col(\"date_str\"), \"E, dd MMMM yy\"),\n",
    "                )\n",
    "            ),\n",
    "        ),\n",
    "    ),\n",
    ")"
   ]
  },
  {
   "cell_type": "code",
   "execution_count": 8,
   "metadata": {},
   "outputs": [
    {
     "name": "stdout",
     "output_type": "stream",
     "text": [
      "root\n",
      " |-- date_str: string (nullable = true)\n",
      " |-- date: date (nullable = true)\n",
      " |-- timestamp: timestamp (nullable = true)\n",
      "\n"
     ]
    },
    {
     "data": {
      "application/javascript": [
       "\n",
       "            setTimeout(function() {\n",
       "                var nbb_cell_id = 8;\n",
       "                var nbb_unformatted_code = \"df.printSchema()\";\n",
       "                var nbb_formatted_code = \"df.printSchema()\";\n",
       "                var nbb_cells = Jupyter.notebook.get_cells();\n",
       "                for (var i = 0; i < nbb_cells.length; ++i) {\n",
       "                    if (nbb_cells[i].input_prompt_number == nbb_cell_id) {\n",
       "                        if (nbb_cells[i].get_text() == nbb_unformatted_code) {\n",
       "                             nbb_cells[i].set_text(nbb_formatted_code);\n",
       "                        }\n",
       "                        break;\n",
       "                    }\n",
       "                }\n",
       "            }, 500);\n",
       "            "
      ],
      "text/plain": [
       "<IPython.core.display.Javascript object>"
      ]
     },
     "metadata": {},
     "output_type": "display_data"
    }
   ],
   "source": [
    "df.printSchema()"
   ]
  },
  {
   "cell_type": "code",
   "execution_count": 9,
   "metadata": {},
   "outputs": [
    {
     "name": "stdout",
     "output_type": "stream",
     "text": [
      "+----------------+----------+-------------------+\n",
      "|        date_str|      date|          timestamp|\n",
      "+----------------+----------+-------------------+\n",
      "|      2020-01-03|2020-01-03|2020-01-03 00:00:00|\n",
      "|      2020 01 10|2020-01-10|2020-01-10 00:00:00|\n",
      "|     2020 Jan 10|2020-01-10|2020-01-10 00:00:00|\n",
      "|Sat, 11 Jan 2020|2020-01-11|2020-01-11 00:00:00|\n",
      "+----------------+----------+-------------------+\n",
      "\n"
     ]
    },
    {
     "data": {
      "application/javascript": [
       "\n",
       "            setTimeout(function() {\n",
       "                var nbb_cell_id = 9;\n",
       "                var nbb_unformatted_code = \"df.show()\";\n",
       "                var nbb_formatted_code = \"df.show()\";\n",
       "                var nbb_cells = Jupyter.notebook.get_cells();\n",
       "                for (var i = 0; i < nbb_cells.length; ++i) {\n",
       "                    if (nbb_cells[i].input_prompt_number == nbb_cell_id) {\n",
       "                        if (nbb_cells[i].get_text() == nbb_unformatted_code) {\n",
       "                             nbb_cells[i].set_text(nbb_formatted_code);\n",
       "                        }\n",
       "                        break;\n",
       "                    }\n",
       "                }\n",
       "            }, 500);\n",
       "            "
      ],
      "text/plain": [
       "<IPython.core.display.Javascript object>"
      ]
     },
     "metadata": {},
     "output_type": "display_data"
    }
   ],
   "source": [
    "df.show()"
   ]
  },
  {
   "cell_type": "markdown",
   "metadata": {},
   "source": [
    "Let's subtract 10 days from the date column."
   ]
  },
  {
   "cell_type": "code",
   "execution_count": 10,
   "metadata": {},
   "outputs": [
    {
     "name": "stdout",
     "output_type": "stream",
     "text": [
      "+----------------+----------+-------------------+-----------+\n",
      "|        date_str|      date|          timestamp|date_sub_10|\n",
      "+----------------+----------+-------------------+-----------+\n",
      "|      2020-01-03|2020-01-03|2020-01-03 00:00:00| 2019-12-24|\n",
      "|      2020 01 10|2020-01-10|2020-01-10 00:00:00| 2019-12-31|\n",
      "|     2020 Jan 10|2020-01-10|2020-01-10 00:00:00| 2019-12-31|\n",
      "|Sat, 11 Jan 2020|2020-01-11|2020-01-11 00:00:00| 2020-01-01|\n",
      "+----------------+----------+-------------------+-----------+\n",
      "\n"
     ]
    },
    {
     "data": {
      "application/javascript": [
       "\n",
       "            setTimeout(function() {\n",
       "                var nbb_cell_id = 10;\n",
       "                var nbb_unformatted_code = \"df.withColumn(\\\"date_sub_10\\\", F.date_sub(\\\"date\\\", 10)).show()\";\n",
       "                var nbb_formatted_code = \"df.withColumn(\\\"date_sub_10\\\", F.date_sub(\\\"date\\\", 10)).show()\";\n",
       "                var nbb_cells = Jupyter.notebook.get_cells();\n",
       "                for (var i = 0; i < nbb_cells.length; ++i) {\n",
       "                    if (nbb_cells[i].input_prompt_number == nbb_cell_id) {\n",
       "                        if (nbb_cells[i].get_text() == nbb_unformatted_code) {\n",
       "                             nbb_cells[i].set_text(nbb_formatted_code);\n",
       "                        }\n",
       "                        break;\n",
       "                    }\n",
       "                }\n",
       "            }, 500);\n",
       "            "
      ],
      "text/plain": [
       "<IPython.core.display.Javascript object>"
      ]
     },
     "metadata": {},
     "output_type": "display_data"
    }
   ],
   "source": [
    "df.withColumn(\"date_sub_10\", F.date_sub(\"date\", 10)).show()"
   ]
  },
  {
   "cell_type": "markdown",
   "metadata": {},
   "source": [
    "Let's add 20 days to the date column."
   ]
  },
  {
   "cell_type": "code",
   "execution_count": 11,
   "metadata": {},
   "outputs": [
    {
     "name": "stdout",
     "output_type": "stream",
     "text": [
      "+----------------+----------+-------------------+-----------+\n",
      "|        date_str|      date|          timestamp|date_add_10|\n",
      "+----------------+----------+-------------------+-----------+\n",
      "|      2020-01-03|2020-01-03|2020-01-03 00:00:00| 2020-01-23|\n",
      "|      2020 01 10|2020-01-10|2020-01-10 00:00:00| 2020-01-30|\n",
      "|     2020 Jan 10|2020-01-10|2020-01-10 00:00:00| 2020-01-30|\n",
      "|Sat, 11 Jan 2020|2020-01-11|2020-01-11 00:00:00| 2020-01-31|\n",
      "+----------------+----------+-------------------+-----------+\n",
      "\n"
     ]
    },
    {
     "data": {
      "application/javascript": [
       "\n",
       "            setTimeout(function() {\n",
       "                var nbb_cell_id = 11;\n",
       "                var nbb_unformatted_code = \"df.withColumn(\\\"date_add_10\\\", F.date_add(\\\"date\\\", 20)).show()\";\n",
       "                var nbb_formatted_code = \"df.withColumn(\\\"date_add_10\\\", F.date_add(\\\"date\\\", 20)).show()\";\n",
       "                var nbb_cells = Jupyter.notebook.get_cells();\n",
       "                for (var i = 0; i < nbb_cells.length; ++i) {\n",
       "                    if (nbb_cells[i].input_prompt_number == nbb_cell_id) {\n",
       "                        if (nbb_cells[i].get_text() == nbb_unformatted_code) {\n",
       "                             nbb_cells[i].set_text(nbb_formatted_code);\n",
       "                        }\n",
       "                        break;\n",
       "                    }\n",
       "                }\n",
       "            }, 500);\n",
       "            "
      ],
      "text/plain": [
       "<IPython.core.display.Javascript object>"
      ]
     },
     "metadata": {},
     "output_type": "display_data"
    }
   ],
   "source": [
    "df.withColumn(\"date_add_10\", F.date_add(\"date\", 20)).show()"
   ]
  },
  {
   "cell_type": "markdown",
   "metadata": {},
   "source": [
    "If we want to see the difference in days between today and the date column."
   ]
  },
  {
   "cell_type": "code",
   "execution_count": 12,
   "metadata": {},
   "outputs": [
    {
     "name": "stdout",
     "output_type": "stream",
     "text": [
      "+----------------+----------+-------------------+---------+\n",
      "|        date_str|      date|          timestamp|date_diff|\n",
      "+----------------+----------+-------------------+---------+\n",
      "|      2020-01-03|2020-01-03|2020-01-03 00:00:00|       10|\n",
      "|      2020 01 10|2020-01-10|2020-01-10 00:00:00|        3|\n",
      "|     2020 Jan 10|2020-01-10|2020-01-10 00:00:00|        3|\n",
      "|Sat, 11 Jan 2020|2020-01-11|2020-01-11 00:00:00|        2|\n",
      "+----------------+----------+-------------------+---------+\n",
      "\n"
     ]
    },
    {
     "data": {
      "application/javascript": [
       "\n",
       "            setTimeout(function() {\n",
       "                var nbb_cell_id = 12;\n",
       "                var nbb_unformatted_code = \"df.withColumn(\\\"date_diff\\\", F.datediff(F.current_date(), \\\"date\\\")).show()\";\n",
       "                var nbb_formatted_code = \"df.withColumn(\\\"date_diff\\\", F.datediff(F.current_date(), \\\"date\\\")).show()\";\n",
       "                var nbb_cells = Jupyter.notebook.get_cells();\n",
       "                for (var i = 0; i < nbb_cells.length; ++i) {\n",
       "                    if (nbb_cells[i].input_prompt_number == nbb_cell_id) {\n",
       "                        if (nbb_cells[i].get_text() == nbb_unformatted_code) {\n",
       "                             nbb_cells[i].set_text(nbb_formatted_code);\n",
       "                        }\n",
       "                        break;\n",
       "                    }\n",
       "                }\n",
       "            }, 500);\n",
       "            "
      ],
      "text/plain": [
       "<IPython.core.display.Javascript object>"
      ]
     },
     "metadata": {},
     "output_type": "display_data"
    }
   ],
   "source": [
    "df.withColumn(\"date_diff\", F.datediff(F.current_date(), \"date\")).show()"
   ]
  },
  {
   "cell_type": "markdown",
   "metadata": {},
   "source": [
    "We might need to create three new features, for year, month and day of week respectively.\n",
    "\n",
    "* From the example below you can see the day of week starts on Sunday, with Sunday being 0 and Saturday being 7."
   ]
  },
  {
   "cell_type": "code",
   "execution_count": 13,
   "metadata": {},
   "outputs": [
    {
     "name": "stdout",
     "output_type": "stream",
     "text": [
      "+----------------+----------+-------------------+----+-----+---+\n",
      "|        date_str|      date|          timestamp|year|month|day|\n",
      "+----------------+----------+-------------------+----+-----+---+\n",
      "|      2020-01-03|2020-01-03|2020-01-03 00:00:00|2020|    1|  6|\n",
      "|      2020 01 10|2020-01-10|2020-01-10 00:00:00|2020|    1|  6|\n",
      "|     2020 Jan 10|2020-01-10|2020-01-10 00:00:00|2020|    1|  6|\n",
      "|Sat, 11 Jan 2020|2020-01-11|2020-01-11 00:00:00|2020|    1|  7|\n",
      "+----------------+----------+-------------------+----+-----+---+\n",
      "\n"
     ]
    },
    {
     "data": {
      "application/javascript": [
       "\n",
       "            setTimeout(function() {\n",
       "                var nbb_cell_id = 13;\n",
       "                var nbb_unformatted_code = \"df.withColumn(\\\"year\\\", F.year(\\\"date\\\")).withColumn(\\\"month\\\", F.month(\\\"date\\\")).withColumn(\\n    \\\"day\\\", F.dayofweek(\\\"date\\\")\\n).show()\";\n",
       "                var nbb_formatted_code = \"df.withColumn(\\\"year\\\", F.year(\\\"date\\\")).withColumn(\\\"month\\\", F.month(\\\"date\\\")).withColumn(\\n    \\\"day\\\", F.dayofweek(\\\"date\\\")\\n).show()\";\n",
       "                var nbb_cells = Jupyter.notebook.get_cells();\n",
       "                for (var i = 0; i < nbb_cells.length; ++i) {\n",
       "                    if (nbb_cells[i].input_prompt_number == nbb_cell_id) {\n",
       "                        if (nbb_cells[i].get_text() == nbb_unformatted_code) {\n",
       "                             nbb_cells[i].set_text(nbb_formatted_code);\n",
       "                        }\n",
       "                        break;\n",
       "                    }\n",
       "                }\n",
       "            }, 500);\n",
       "            "
      ],
      "text/plain": [
       "<IPython.core.display.Javascript object>"
      ]
     },
     "metadata": {},
     "output_type": "display_data"
    }
   ],
   "source": [
    "df.withColumn(\"year\", F.year(\"date\")).withColumn(\"month\", F.month(\"date\")).withColumn(\n",
    "    \"day\", F.dayofweek(\"date\")\n",
    ").show()"
   ]
  },
  {
   "cell_type": "markdown",
   "metadata": {},
   "source": [
    "Now that we have our dates/timestamps in the correct format we can easily create filters."
   ]
  },
  {
   "cell_type": "code",
   "execution_count": 14,
   "metadata": {},
   "outputs": [
    {
     "name": "stdout",
     "output_type": "stream",
     "text": [
      "+----------------+----------+-------------------+\n",
      "|        date_str|      date|          timestamp|\n",
      "+----------------+----------+-------------------+\n",
      "|Sat, 11 Jan 2020|2020-01-11|2020-01-11 00:00:00|\n",
      "+----------------+----------+-------------------+\n",
      "\n"
     ]
    },
    {
     "data": {
      "application/javascript": [
       "\n",
       "            setTimeout(function() {\n",
       "                var nbb_cell_id = 14;\n",
       "                var nbb_unformatted_code = \"df.where(F.col(\\\"date\\\") > \\\"2020-01-10\\\").show()\";\n",
       "                var nbb_formatted_code = \"df.where(F.col(\\\"date\\\") > \\\"2020-01-10\\\").show()\";\n",
       "                var nbb_cells = Jupyter.notebook.get_cells();\n",
       "                for (var i = 0; i < nbb_cells.length; ++i) {\n",
       "                    if (nbb_cells[i].input_prompt_number == nbb_cell_id) {\n",
       "                        if (nbb_cells[i].get_text() == nbb_unformatted_code) {\n",
       "                             nbb_cells[i].set_text(nbb_formatted_code);\n",
       "                        }\n",
       "                        break;\n",
       "                    }\n",
       "                }\n",
       "            }, 500);\n",
       "            "
      ],
      "text/plain": [
       "<IPython.core.display.Javascript object>"
      ]
     },
     "metadata": {},
     "output_type": "display_data"
    }
   ],
   "source": [
    "df.where(F.col(\"date\") > \"2020-01-10\").show()"
   ]
  },
  {
   "cell_type": "markdown",
   "metadata": {},
   "source": [
    "The two examples below show that Spark does pretty well sometimes by reading dates or times even with different formats but many times you won't have such an easy task, having strangely formatted data."
   ]
  },
  {
   "cell_type": "code",
   "execution_count": 15,
   "metadata": {},
   "outputs": [
    {
     "name": "stdout",
     "output_type": "stream",
     "text": [
      "+----------------+----------+-------------------+\n",
      "|        date_str|      date|          timestamp|\n",
      "+----------------+----------+-------------------+\n",
      "|      2020-01-03|2020-01-03|2020-01-03 00:00:00|\n",
      "|      2020 01 10|2020-01-10|2020-01-10 00:00:00|\n",
      "|     2020 Jan 10|2020-01-10|2020-01-10 00:00:00|\n",
      "|Sat, 11 Jan 2020|2020-01-11|2020-01-11 00:00:00|\n",
      "+----------------+----------+-------------------+\n",
      "\n"
     ]
    },
    {
     "data": {
      "application/javascript": [
       "\n",
       "            setTimeout(function() {\n",
       "                var nbb_cell_id = 15;\n",
       "                var nbb_unformatted_code = \"df.where(F.col(\\\"date_str\\\") >= \\\"2020 01 10\\\").show()\";\n",
       "                var nbb_formatted_code = \"df.where(F.col(\\\"date_str\\\") >= \\\"2020 01 10\\\").show()\";\n",
       "                var nbb_cells = Jupyter.notebook.get_cells();\n",
       "                for (var i = 0; i < nbb_cells.length; ++i) {\n",
       "                    if (nbb_cells[i].input_prompt_number == nbb_cell_id) {\n",
       "                        if (nbb_cells[i].get_text() == nbb_unformatted_code) {\n",
       "                             nbb_cells[i].set_text(nbb_formatted_code);\n",
       "                        }\n",
       "                        break;\n",
       "                    }\n",
       "                }\n",
       "            }, 500);\n",
       "            "
      ],
      "text/plain": [
       "<IPython.core.display.Javascript object>"
      ]
     },
     "metadata": {},
     "output_type": "display_data"
    }
   ],
   "source": [
    "df.where(F.col(\"date_str\") >= \"2020 01 10\").show()"
   ]
  },
  {
   "cell_type": "code",
   "execution_count": 16,
   "metadata": {},
   "outputs": [
    {
     "name": "stdout",
     "output_type": "stream",
     "text": [
      "+----------------+----------+-------------------+\n",
      "|        date_str|      date|          timestamp|\n",
      "+----------------+----------+-------------------+\n",
      "|      2020-01-03|2020-01-03|2020-01-03 00:00:00|\n",
      "|     2020 Jan 10|2020-01-10|2020-01-10 00:00:00|\n",
      "|Sat, 11 Jan 2020|2020-01-11|2020-01-11 00:00:00|\n",
      "+----------------+----------+-------------------+\n",
      "\n"
     ]
    },
    {
     "data": {
      "application/javascript": [
       "\n",
       "            setTimeout(function() {\n",
       "                var nbb_cell_id = 16;\n",
       "                var nbb_unformatted_code = \"df.where(F.col(\\\"date_str\\\") > \\\"2020 01 10\\\").show()\";\n",
       "                var nbb_formatted_code = \"df.where(F.col(\\\"date_str\\\") > \\\"2020 01 10\\\").show()\";\n",
       "                var nbb_cells = Jupyter.notebook.get_cells();\n",
       "                for (var i = 0; i < nbb_cells.length; ++i) {\n",
       "                    if (nbb_cells[i].input_prompt_number == nbb_cell_id) {\n",
       "                        if (nbb_cells[i].get_text() == nbb_unformatted_code) {\n",
       "                             nbb_cells[i].set_text(nbb_formatted_code);\n",
       "                        }\n",
       "                        break;\n",
       "                    }\n",
       "                }\n",
       "            }, 500);\n",
       "            "
      ],
      "text/plain": [
       "<IPython.core.display.Javascript object>"
      ]
     },
     "metadata": {},
     "output_type": "display_data"
    }
   ],
   "source": [
    "df.where(F.col(\"date_str\") > \"2020 01 10\").show()"
   ]
  },
  {
   "cell_type": "code",
   "execution_count": null,
   "metadata": {},
   "outputs": [],
   "source": []
  }
 ],
 "metadata": {
  "kernelspec": {
   "display_name": "Python 3",
   "language": "python",
   "name": "python3"
  },
  "language_info": {
   "codemirror_mode": {
    "name": "ipython",
    "version": 3
   },
   "file_extension": ".py",
   "mimetype": "text/x-python",
   "name": "python",
   "nbconvert_exporter": "python",
   "pygments_lexer": "ipython3",
   "version": "3.8.3"
  }
 },
 "nbformat": 4,
 "nbformat_minor": 2
}
